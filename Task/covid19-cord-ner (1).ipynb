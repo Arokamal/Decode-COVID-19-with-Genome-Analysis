{
 "cells": [
  {
   "cell_type": "markdown",
   "id": "e578653a",
   "metadata": {
    "papermill": {
     "duration": 0.016669,
     "end_time": "2023-01-04T16:18:44.569718",
     "exception": false,
     "start_time": "2023-01-04T16:18:44.553049",
     "status": "completed"
    },
    "tags": []
   },
   "source": [
    "# **Decode COVID19 with Genome Analysis**\n",
    "\n",
    "**Problem Statement :**\n",
    "You are one of the researchers responding to the White House Office of Science and Technology Policy center’s call to conduct advanced research on Covid-19. You are working with CDC,  which has led a coordinated effort to set up a machine readable dataset.\n",
    "\n",
    "**About Dataset :**\n",
    "Dataset represents the most extensive machine-readable coronavirus literature collection available for data and text mining to date, with over 29,000 articles, more than 13,000 of which have full text.\n",
    "\n",
    "Using the **CORD-NER dataset** and Knowledge Graph, determine and map out the details of the SARS-CoV-2 genome to assist understanding of the emergence, evolution and diagnosis of this deadly virus.\n",
    "\n"
   ]
  },
  {
   "cell_type": "code",
   "execution_count": 1,
   "id": "ae1125b2",
   "metadata": {
    "execution": {
     "iopub.execute_input": "2023-01-04T16:18:44.600166Z",
     "iopub.status.busy": "2023-01-04T16:18:44.599463Z",
     "iopub.status.idle": "2023-01-04T16:18:44.610099Z",
     "shell.execute_reply": "2023-01-04T16:18:44.609263Z"
    },
    "papermill": {
     "duration": 0.028227,
     "end_time": "2023-01-04T16:18:44.612209",
     "exception": false,
     "start_time": "2023-01-04T16:18:44.583982",
     "status": "completed"
    },
    "tags": []
   },
   "outputs": [],
   "source": [
    "#clearing cache to avoid ran out of memory error\n",
    "import gc \n",
    "def report_gpu(): \n",
    "    print(torch.cuda.list_gpu_processes()) \n",
    "    gc.collect() \n",
    "    torch.cuda.empty_cache()"
   ]
  },
  {
   "cell_type": "code",
   "execution_count": 2,
   "id": "dd24e61c",
   "metadata": {
    "execution": {
     "iopub.execute_input": "2023-01-04T16:18:44.641454Z",
     "iopub.status.busy": "2023-01-04T16:18:44.640612Z",
     "iopub.status.idle": "2023-01-04T16:18:55.839974Z",
     "shell.execute_reply": "2023-01-04T16:18:55.839084Z"
    },
    "papermill": {
     "duration": 11.216679,
     "end_time": "2023-01-04T16:18:55.842621",
     "exception": false,
     "start_time": "2023-01-04T16:18:44.625942",
     "status": "completed"
    },
    "tags": []
   },
   "outputs": [
    {
     "name": "stderr",
     "output_type": "stream",
     "text": [
      "/opt/conda/lib/python3.7/site-packages/past/types/oldstr.py:36: DeprecationWarning: invalid escape sequence \\d\n",
      "  \"\"\"\n"
     ]
    }
   ],
   "source": [
    "#importing required libraries\n",
    "import pandas as pd \n",
    "import numpy as np\n",
    "from tqdm import tqdm \n",
    "import os\n",
    "import matplotlib.pyplot as plt\n",
    "import seaborn as sns\n",
    "import nltk\n",
    "from nltk.corpus import stopwords\n",
    "from nltk.tokenize import word_tokenize\n",
    "import collections\n",
    "import wordcloud\n",
    "from sklearn.feature_extraction.text import CountVectorizer\n",
    "from sklearn.decomposition import LatentDirichletAllocation\n",
    "from sklearn.manifold import TSNE\n",
    "import spacy\n",
    "import gensim.corpora as corpora\n",
    "from gensim.models import LdaMulticore, CoherenceModel, Phrases, LdaModel\n",
    "import time\n",
    "from bokeh.models import ColumnDataSource, HoverTool\n",
    "from bokeh.plotting import figure,show,output_notebook\n",
    "import pyLDAvis\n",
    "import warnings\n",
    "import pprint\n",
    "import tensorflow as tf\n",
    "\n",
    "pd.set_option('display.max_columns',None)\n",
    "warnings.filterwarnings('ignore')\n",
    "%matplotlib inline"
   ]
  },
  {
   "cell_type": "code",
   "execution_count": 3,
   "id": "e15a69f4",
   "metadata": {
    "execution": {
     "iopub.execute_input": "2023-01-04T16:18:55.885039Z",
     "iopub.status.busy": "2023-01-04T16:18:55.884443Z",
     "iopub.status.idle": "2023-01-04T16:18:55.889564Z",
     "shell.execute_reply": "2023-01-04T16:18:55.888738Z"
    },
    "papermill": {
     "duration": 0.029896,
     "end_time": "2023-01-04T16:18:55.893370",
     "exception": false,
     "start_time": "2023-01-04T16:18:55.863474",
     "status": "completed"
    },
    "tags": []
   },
   "outputs": [],
   "source": [
    "#clearing cache to avoid ran out of memory error\n",
    "import gc \n",
    "def report_gpu(): \n",
    "    print(torch.cuda.list_gpu_processes()) \n",
    "    gc.collect() \n",
    "    torch.cuda.empty_cache()"
   ]
  },
  {
   "cell_type": "markdown",
   "id": "59a1996f",
   "metadata": {
    "papermill": {
     "duration": 0.019413,
     "end_time": "2023-01-04T16:18:55.932481",
     "exception": false,
     "start_time": "2023-01-04T16:18:55.913068",
     "status": "completed"
    },
    "tags": []
   },
   "source": [
    "# 1. Importing Dataset & preprocessing"
   ]
  },
  {
   "cell_type": "code",
   "execution_count": 4,
   "id": "21e7b61c",
   "metadata": {
    "execution": {
     "iopub.execute_input": "2023-01-04T16:18:55.972880Z",
     "iopub.status.busy": "2023-01-04T16:18:55.972567Z",
     "iopub.status.idle": "2023-01-04T16:19:11.821918Z",
     "shell.execute_reply": "2023-01-04T16:19:11.820937Z"
    },
    "papermill": {
     "duration": 15.872529,
     "end_time": "2023-01-04T16:19:11.824406",
     "exception": false,
     "start_time": "2023-01-04T16:18:55.951877",
     "status": "completed"
    },
    "tags": []
   },
   "outputs": [],
   "source": [
    "#importing 10000 rows from CORD-NER-full json file\n",
    "json_data = pd.read_json('/kaggle/input/cordner2020/CORD-NER-full.json',nrows=10000, lines=True)\n"
   ]
  },
  {
   "cell_type": "code",
   "execution_count": 5,
   "id": "9bc39984",
   "metadata": {
    "execution": {
     "iopub.execute_input": "2023-01-04T16:19:11.852709Z",
     "iopub.status.busy": "2023-01-04T16:19:11.851981Z",
     "iopub.status.idle": "2023-01-04T16:19:11.857212Z",
     "shell.execute_reply": "2023-01-04T16:19:11.856351Z"
    },
    "papermill": {
     "duration": 0.021319,
     "end_time": "2023-01-04T16:19:11.859236",
     "exception": false,
     "start_time": "2023-01-04T16:19:11.837917",
     "status": "completed"
    },
    "tags": []
   },
   "outputs": [],
   "source": [
    "#clearing cache to avoid ran out of memory error\n",
    "import gc \n",
    "def report_gpu(): \n",
    "    print(torch.cuda.list_gpu_processes()) \n",
    "    gc.collect() \n",
    "    torch.cuda.empty_cache()"
   ]
  },
  {
   "cell_type": "code",
   "execution_count": 6,
   "id": "10ae5847",
   "metadata": {
    "execution": {
     "iopub.execute_input": "2023-01-04T16:19:11.886260Z",
     "iopub.status.busy": "2023-01-04T16:19:11.886002Z",
     "iopub.status.idle": "2023-01-04T16:19:27.102678Z",
     "shell.execute_reply": "2023-01-04T16:19:27.101355Z"
    },
    "papermill": {
     "duration": 15.232855,
     "end_time": "2023-01-04T16:19:27.105182",
     "exception": false,
     "start_time": "2023-01-04T16:19:11.872327",
     "status": "completed"
    },
    "tags": []
   },
   "outputs": [],
   "source": [
    "#conversion to csv\n",
    "json_data.to_csv('CORD_NER-Full.csv')"
   ]
  },
  {
   "cell_type": "code",
   "execution_count": 7,
   "id": "0b9b7d3b",
   "metadata": {
    "execution": {
     "iopub.execute_input": "2023-01-04T16:19:27.134600Z",
     "iopub.status.busy": "2023-01-04T16:19:27.133943Z",
     "iopub.status.idle": "2023-01-04T16:19:32.892089Z",
     "shell.execute_reply": "2023-01-04T16:19:32.891128Z"
    },
    "papermill": {
     "duration": 5.776074,
     "end_time": "2023-01-04T16:19:32.894606",
     "exception": false,
     "start_time": "2023-01-04T16:19:27.118532",
     "status": "completed"
    },
    "tags": []
   },
   "outputs": [
    {
     "data": {
      "text/html": [
       "<div>\n",
       "<style scoped>\n",
       "    .dataframe tbody tr th:only-of-type {\n",
       "        vertical-align: middle;\n",
       "    }\n",
       "\n",
       "    .dataframe tbody tr th {\n",
       "        vertical-align: top;\n",
       "    }\n",
       "\n",
       "    .dataframe thead th {\n",
       "        text-align: right;\n",
       "    }\n",
       "</style>\n",
       "<table border=\"1\" class=\"dataframe\">\n",
       "  <thead>\n",
       "    <tr style=\"text-align: right;\">\n",
       "      <th></th>\n",
       "      <th>Unnamed: 0</th>\n",
       "      <th>id</th>\n",
       "      <th>source</th>\n",
       "      <th>doi</th>\n",
       "      <th>pmcid</th>\n",
       "      <th>pubmed_id</th>\n",
       "      <th>publish_time</th>\n",
       "      <th>authors</th>\n",
       "      <th>journal</th>\n",
       "      <th>title</th>\n",
       "      <th>abstract</th>\n",
       "      <th>body</th>\n",
       "      <th>entities</th>\n",
       "    </tr>\n",
       "  </thead>\n",
       "  <tbody>\n",
       "    <tr>\n",
       "      <th>0</th>\n",
       "      <td>0</td>\n",
       "      <td>0</td>\n",
       "      <td>CZI</td>\n",
       "      <td>10.1007/s00134-020-05985-9</td>\n",
       "      <td>NaN</td>\n",
       "      <td>32125455.0</td>\n",
       "      <td>2020</td>\n",
       "      <td>Zhang, Haibo; Penninger, Josef M.; Li, Yimin; ...</td>\n",
       "      <td>Intensive Care Med</td>\n",
       "      <td>Angiotensin-converting enzyme 2 (ACE2) as a SA...</td>\n",
       "      <td>NaN</td>\n",
       "      <td>SARS-CoV-2 has been sequenced [3] . A phylogen...</td>\n",
       "      <td>[{'text': 'Angiotensin-converting enzyme 2', '...</td>\n",
       "    </tr>\n",
       "    <tr>\n",
       "      <th>1</th>\n",
       "      <td>1</td>\n",
       "      <td>1</td>\n",
       "      <td>CZI</td>\n",
       "      <td>10.1038/s41421-020-0147-1</td>\n",
       "      <td>NaN</td>\n",
       "      <td>NaN</td>\n",
       "      <td>2020</td>\n",
       "      <td>Cao, Yanan; Li, Lin; Feng, Zhimin; Wan, Shengq...</td>\n",
       "      <td>Cell Discovery</td>\n",
       "      <td>Comparative genetic analysis of the novel coro...</td>\n",
       "      <td>NaN</td>\n",
       "      <td>Comparative genetic analysis of the novel coro...</td>\n",
       "      <td>[{'text': 'genetic analysis', 'start': 12, 'en...</td>\n",
       "    </tr>\n",
       "    <tr>\n",
       "      <th>2</th>\n",
       "      <td>2</td>\n",
       "      <td>2</td>\n",
       "      <td>CZI</td>\n",
       "      <td>10.3390/jcm9020538</td>\n",
       "      <td>NaN</td>\n",
       "      <td>NaN</td>\n",
       "      <td>2020</td>\n",
       "      <td>Linton, M. Natalie; Kobayashi, Tetsuro; Yang, ...</td>\n",
       "      <td>Journal of Clinical Medicine</td>\n",
       "      <td>Incubation Period and Other Epidemiological Ch...</td>\n",
       "      <td>The geographic spread of 2019 novel coronaviru...</td>\n",
       "      <td>As of 31 January 2020, mainland China reported...</td>\n",
       "      <td>[{'text': '2019', 'start': 63, 'end': 67, 'typ...</td>\n",
       "    </tr>\n",
       "    <tr>\n",
       "      <th>3</th>\n",
       "      <td>3</td>\n",
       "      <td>3</td>\n",
       "      <td>CZI</td>\n",
       "      <td>10.3390/jcm9020575</td>\n",
       "      <td>NaN</td>\n",
       "      <td>32093211.0</td>\n",
       "      <td>2020</td>\n",
       "      <td>Deng, Sheng-Qun; Peng, Hong-Juan</td>\n",
       "      <td>J Clin Med</td>\n",
       "      <td>Characteristics of and Public Health Responses...</td>\n",
       "      <td>In December 2019, cases of unidentified pneumo...</td>\n",
       "      <td>In December 2019, a cluster of pneumonia of un...</td>\n",
       "      <td>[{'text': 'Public Health', 'start': 23, 'end':...</td>\n",
       "    </tr>\n",
       "    <tr>\n",
       "      <th>4</th>\n",
       "      <td>4</td>\n",
       "      <td>4</td>\n",
       "      <td>CZI</td>\n",
       "      <td>10.1007/s00134-020-05976-w</td>\n",
       "      <td>NaN</td>\n",
       "      <td>32125453.0</td>\n",
       "      <td>2020</td>\n",
       "      <td>Zhang, Wei</td>\n",
       "      <td>Intensive Care Med</td>\n",
       "      <td>Imaging changes in severe COVID-19 pneumonia</td>\n",
       "      <td>NaN</td>\n",
       "      <td>NaN</td>\n",
       "      <td>[{'text': 'COVID-19', 'start': 26, 'end': 34, ...</td>\n",
       "    </tr>\n",
       "    <tr>\n",
       "      <th>5</th>\n",
       "      <td>5</td>\n",
       "      <td>5</td>\n",
       "      <td>CZI</td>\n",
       "      <td>10.1016/j.idm.2020.02.001</td>\n",
       "      <td>NaN</td>\n",
       "      <td>NaN</td>\n",
       "      <td>2020</td>\n",
       "      <td>Tang, Biao; Bragazzi, Nicola Luigi; Li, Qian; ...</td>\n",
       "      <td>Infectious Disease Modelling</td>\n",
       "      <td>An updated estimation of the risk of transmiss...</td>\n",
       "      <td>The basic reproduction number of an infectious...</td>\n",
       "      <td>Coronaviruses are a group of enveloped viruses...</td>\n",
       "      <td>[{'text': 'coronavirus', 'start': 63, 'end': 7...</td>\n",
       "    </tr>\n",
       "    <tr>\n",
       "      <th>6</th>\n",
       "      <td>6</td>\n",
       "      <td>6</td>\n",
       "      <td>CZI</td>\n",
       "      <td>10.1016/j.idm.2020.02.002</td>\n",
       "      <td>NaN</td>\n",
       "      <td>NaN</td>\n",
       "      <td>2020</td>\n",
       "      <td>Roosa, K.; Lee, Y.; Luo, R.; Kirpich, A.; Roth...</td>\n",
       "      <td>Infectious Disease Modelling</td>\n",
       "      <td>Real-time forecasts of the 2019-nCoV epidemic ...</td>\n",
       "      <td>The initial cluster of severe pneumonia cases ...</td>\n",
       "      <td>The ongoing epidemic of the novel coronavirus ...</td>\n",
       "      <td>[{'text': '2019-nCoV', 'start': 27, 'end': 36,...</td>\n",
       "    </tr>\n",
       "    <tr>\n",
       "      <th>7</th>\n",
       "      <td>7</td>\n",
       "      <td>7</td>\n",
       "      <td>CZI</td>\n",
       "      <td>10.1016/s2214-109x(20)30065-6</td>\n",
       "      <td>NaN</td>\n",
       "      <td>32105614.0</td>\n",
       "      <td>2020</td>\n",
       "      <td>Zeng, Yingchun; Zhen, Yan</td>\n",
       "      <td>The Lancet. Global health</td>\n",
       "      <td>RETRACTED: Chinese medical staff request inter...</td>\n",
       "      <td>NaN</td>\n",
       "      <td>NaN</td>\n",
       "      <td>[{'text': 'Chinese', 'start': 11, 'end': 18, '...</td>\n",
       "    </tr>\n",
       "    <tr>\n",
       "      <th>8</th>\n",
       "      <td>8</td>\n",
       "      <td>8</td>\n",
       "      <td>CZI</td>\n",
       "      <td>10.1093/jtm/taaa030</td>\n",
       "      <td>NaN</td>\n",
       "      <td>NaN</td>\n",
       "      <td>2020</td>\n",
       "      <td>Rocklöv, J.; Sjödin, H.; Wilder-Smith, A.</td>\n",
       "      <td>Journal of Travel Medicine</td>\n",
       "      <td>COVID-19 outbreak on the Diamond Princess crui...</td>\n",
       "      <td>Cruise ships carry a large number of people in...</td>\n",
       "      <td>Conclusions: The cruise ship conditions clearl...</td>\n",
       "      <td>[{'text': 'COVID-19', 'start': 0, 'end': 8, 't...</td>\n",
       "    </tr>\n",
       "    <tr>\n",
       "      <th>9</th>\n",
       "      <td>9</td>\n",
       "      <td>9</td>\n",
       "      <td>CZI</td>\n",
       "      <td>10.1128/mBio.02764-19</td>\n",
       "      <td>NaN</td>\n",
       "      <td>NaN</td>\n",
       "      <td>2020</td>\n",
       "      <td>Qing, Enya; Hantak, Michael; Perlman, Stanley;...</td>\n",
       "      <td>mBio</td>\n",
       "      <td>Distinct Roles for Sialoside and Protein Recep...</td>\n",
       "      <td>Coronaviruses (CoVs) are common human and anim...</td>\n",
       "      <td>could be attributed to S proteins. Intriguingl...</td>\n",
       "      <td>[{'text': 'Sialoside', 'start': 19, 'end': 28,...</td>\n",
       "    </tr>\n",
       "  </tbody>\n",
       "</table>\n",
       "</div>"
      ],
      "text/plain": [
       "   Unnamed: 0  id source                            doi pmcid   pubmed_id  \\\n",
       "0           0   0    CZI     10.1007/s00134-020-05985-9   NaN  32125455.0   \n",
       "1           1   1    CZI      10.1038/s41421-020-0147-1   NaN         NaN   \n",
       "2           2   2    CZI             10.3390/jcm9020538   NaN         NaN   \n",
       "3           3   3    CZI             10.3390/jcm9020575   NaN  32093211.0   \n",
       "4           4   4    CZI     10.1007/s00134-020-05976-w   NaN  32125453.0   \n",
       "5           5   5    CZI      10.1016/j.idm.2020.02.001   NaN         NaN   \n",
       "6           6   6    CZI      10.1016/j.idm.2020.02.002   NaN         NaN   \n",
       "7           7   7    CZI  10.1016/s2214-109x(20)30065-6   NaN  32105614.0   \n",
       "8           8   8    CZI            10.1093/jtm/taaa030   NaN         NaN   \n",
       "9           9   9    CZI          10.1128/mBio.02764-19   NaN         NaN   \n",
       "\n",
       "  publish_time                                            authors  \\\n",
       "0         2020  Zhang, Haibo; Penninger, Josef M.; Li, Yimin; ...   \n",
       "1         2020  Cao, Yanan; Li, Lin; Feng, Zhimin; Wan, Shengq...   \n",
       "2         2020  Linton, M. Natalie; Kobayashi, Tetsuro; Yang, ...   \n",
       "3         2020                   Deng, Sheng-Qun; Peng, Hong-Juan   \n",
       "4         2020                                         Zhang, Wei   \n",
       "5         2020  Tang, Biao; Bragazzi, Nicola Luigi; Li, Qian; ...   \n",
       "6         2020  Roosa, K.; Lee, Y.; Luo, R.; Kirpich, A.; Roth...   \n",
       "7         2020                          Zeng, Yingchun; Zhen, Yan   \n",
       "8         2020          Rocklöv, J.; Sjödin, H.; Wilder-Smith, A.   \n",
       "9         2020  Qing, Enya; Hantak, Michael; Perlman, Stanley;...   \n",
       "\n",
       "                        journal  \\\n",
       "0            Intensive Care Med   \n",
       "1                Cell Discovery   \n",
       "2  Journal of Clinical Medicine   \n",
       "3                    J Clin Med   \n",
       "4            Intensive Care Med   \n",
       "5  Infectious Disease Modelling   \n",
       "6  Infectious Disease Modelling   \n",
       "7     The Lancet. Global health   \n",
       "8    Journal of Travel Medicine   \n",
       "9                          mBio   \n",
       "\n",
       "                                               title  \\\n",
       "0  Angiotensin-converting enzyme 2 (ACE2) as a SA...   \n",
       "1  Comparative genetic analysis of the novel coro...   \n",
       "2  Incubation Period and Other Epidemiological Ch...   \n",
       "3  Characteristics of and Public Health Responses...   \n",
       "4       Imaging changes in severe COVID-19 pneumonia   \n",
       "5  An updated estimation of the risk of transmiss...   \n",
       "6  Real-time forecasts of the 2019-nCoV epidemic ...   \n",
       "7  RETRACTED: Chinese medical staff request inter...   \n",
       "8  COVID-19 outbreak on the Diamond Princess crui...   \n",
       "9  Distinct Roles for Sialoside and Protein Recep...   \n",
       "\n",
       "                                            abstract  \\\n",
       "0                                                NaN   \n",
       "1                                                NaN   \n",
       "2  The geographic spread of 2019 novel coronaviru...   \n",
       "3  In December 2019, cases of unidentified pneumo...   \n",
       "4                                                NaN   \n",
       "5  The basic reproduction number of an infectious...   \n",
       "6  The initial cluster of severe pneumonia cases ...   \n",
       "7                                                NaN   \n",
       "8  Cruise ships carry a large number of people in...   \n",
       "9  Coronaviruses (CoVs) are common human and anim...   \n",
       "\n",
       "                                                body  \\\n",
       "0  SARS-CoV-2 has been sequenced [3] . A phylogen...   \n",
       "1  Comparative genetic analysis of the novel coro...   \n",
       "2  As of 31 January 2020, mainland China reported...   \n",
       "3  In December 2019, a cluster of pneumonia of un...   \n",
       "4                                                NaN   \n",
       "5  Coronaviruses are a group of enveloped viruses...   \n",
       "6  The ongoing epidemic of the novel coronavirus ...   \n",
       "7                                                NaN   \n",
       "8  Conclusions: The cruise ship conditions clearl...   \n",
       "9  could be attributed to S proteins. Intriguingl...   \n",
       "\n",
       "                                            entities  \n",
       "0  [{'text': 'Angiotensin-converting enzyme 2', '...  \n",
       "1  [{'text': 'genetic analysis', 'start': 12, 'en...  \n",
       "2  [{'text': '2019', 'start': 63, 'end': 67, 'typ...  \n",
       "3  [{'text': 'Public Health', 'start': 23, 'end':...  \n",
       "4  [{'text': 'COVID-19', 'start': 26, 'end': 34, ...  \n",
       "5  [{'text': 'coronavirus', 'start': 63, 'end': 7...  \n",
       "6  [{'text': '2019-nCoV', 'start': 27, 'end': 36,...  \n",
       "7  [{'text': 'Chinese', 'start': 11, 'end': 18, '...  \n",
       "8  [{'text': 'COVID-19', 'start': 0, 'end': 8, 't...  \n",
       "9  [{'text': 'Sialoside', 'start': 19, 'end': 28,...  "
      ]
     },
     "execution_count": 7,
     "metadata": {},
     "output_type": "execute_result"
    }
   ],
   "source": [
    "#importing csv data\n",
    "data = pd.read_csv('/kaggle/working/CORD_NER-Full.csv')\n",
    "data.head(10)"
   ]
  },
  {
   "cell_type": "code",
   "execution_count": 8,
   "id": "c1256f31",
   "metadata": {
    "execution": {
     "iopub.execute_input": "2023-01-04T16:19:32.924093Z",
     "iopub.status.busy": "2023-01-04T16:19:32.923370Z",
     "iopub.status.idle": "2023-01-04T16:19:32.933131Z",
     "shell.execute_reply": "2023-01-04T16:19:32.932006Z"
    },
    "papermill": {
     "duration": 0.026763,
     "end_time": "2023-01-04T16:19:32.935724",
     "exception": false,
     "start_time": "2023-01-04T16:19:32.908961",
     "status": "completed"
    },
    "tags": []
   },
   "outputs": [
    {
     "name": "stdout",
     "output_type": "stream",
     "text": [
      "There are 1148 articles published in 2020\n"
     ]
    }
   ],
   "source": [
    "#looking for articles published in 2020\n",
    "data = data[data.publish_time=='2020']\n",
    "print(f'There are {len(data)} articles published in 2020')"
   ]
  },
  {
   "cell_type": "code",
   "execution_count": 9,
   "id": "9fff42a5",
   "metadata": {
    "execution": {
     "iopub.execute_input": "2023-01-04T16:19:32.963726Z",
     "iopub.status.busy": "2023-01-04T16:19:32.963448Z",
     "iopub.status.idle": "2023-01-04T16:19:32.973261Z",
     "shell.execute_reply": "2023-01-04T16:19:32.972342Z"
    },
    "papermill": {
     "duration": 0.026035,
     "end_time": "2023-01-04T16:19:32.975334",
     "exception": false,
     "start_time": "2023-01-04T16:19:32.949299",
     "status": "completed"
    },
    "tags": []
   },
   "outputs": [
    {
     "name": "stdout",
     "output_type": "stream",
     "text": [
      "Dropped 370 articles with missing abstract\n"
     ]
    }
   ],
   "source": [
    "#dropping articles with missing abstract\n",
    "len1 = len(data)\n",
    "data.dropna(axis=0,how='any',subset=['abstract'],inplace=True)\n",
    "print(f'Dropped {len1-len(data)} articles with missing abstract')"
   ]
  },
  {
   "cell_type": "code",
   "execution_count": 10,
   "id": "70ceba03",
   "metadata": {
    "execution": {
     "iopub.execute_input": "2023-01-04T16:19:33.003435Z",
     "iopub.status.busy": "2023-01-04T16:19:33.003134Z",
     "iopub.status.idle": "2023-01-04T16:19:33.012910Z",
     "shell.execute_reply": "2023-01-04T16:19:33.011606Z"
    },
    "papermill": {
     "duration": 0.026878,
     "end_time": "2023-01-04T16:19:33.015482",
     "exception": false,
     "start_time": "2023-01-04T16:19:32.988604",
     "status": "completed"
    },
    "tags": []
   },
   "outputs": [
    {
     "name": "stdout",
     "output_type": "stream",
     "text": [
      "Dropped 6 articles with duplicate abstract\n"
     ]
    }
   ],
   "source": [
    "#dropping articles with duplicate abstract\n",
    "len1 = len(data)\n",
    "data.drop_duplicates(subset=['abstract'],keep='first',inplace=True)\n",
    "print(f'Dropped {len1-len(data)} articles with duplicate abstract')"
   ]
  },
  {
   "cell_type": "markdown",
   "id": "72028c41",
   "metadata": {
    "papermill": {
     "duration": 0.013877,
     "end_time": "2023-01-04T16:19:33.043627",
     "exception": false,
     "start_time": "2023-01-04T16:19:33.029750",
     "status": "completed"
    },
    "tags": []
   },
   "source": [
    "Warning: Although the articles with duplicated abstracts are dropped, there still exist some articles with meaningless abstracts. The cleaning strategy here only weakens the effects of those meaningless abstracts."
   ]
  },
  {
   "cell_type": "code",
   "execution_count": 11,
   "id": "e99e3d43",
   "metadata": {
    "execution": {
     "iopub.execute_input": "2023-01-04T16:19:33.071973Z",
     "iopub.status.busy": "2023-01-04T16:19:33.071704Z",
     "iopub.status.idle": "2023-01-04T16:19:34.074763Z",
     "shell.execute_reply": "2023-01-04T16:19:34.073645Z"
    },
    "papermill": {
     "duration": 1.019582,
     "end_time": "2023-01-04T16:19:34.077018",
     "exception": false,
     "start_time": "2023-01-04T16:19:33.057436",
     "status": "completed"
    },
    "tags": []
   },
   "outputs": [
    {
     "data": {
      "text/html": [
       "<div>\n",
       "<style scoped>\n",
       "    .dataframe tbody tr th:only-of-type {\n",
       "        vertical-align: middle;\n",
       "    }\n",
       "\n",
       "    .dataframe tbody tr th {\n",
       "        vertical-align: top;\n",
       "    }\n",
       "\n",
       "    .dataframe thead th {\n",
       "        text-align: right;\n",
       "    }\n",
       "</style>\n",
       "<table border=\"1\" class=\"dataframe\">\n",
       "  <thead>\n",
       "    <tr style=\"text-align: right;\">\n",
       "      <th></th>\n",
       "      <th>Unnamed: 0</th>\n",
       "      <th>id</th>\n",
       "      <th>source</th>\n",
       "      <th>doi</th>\n",
       "      <th>pmcid</th>\n",
       "      <th>pubmed_id</th>\n",
       "      <th>publish_time</th>\n",
       "      <th>authors</th>\n",
       "      <th>journal</th>\n",
       "      <th>title</th>\n",
       "      <th>abstract</th>\n",
       "      <th>body</th>\n",
       "      <th>entities</th>\n",
       "      <th>abstract_tokens</th>\n",
       "    </tr>\n",
       "  </thead>\n",
       "  <tbody>\n",
       "    <tr>\n",
       "      <th>2</th>\n",
       "      <td>2</td>\n",
       "      <td>2</td>\n",
       "      <td>CZI</td>\n",
       "      <td>10.3390/jcm9020538</td>\n",
       "      <td>NaN</td>\n",
       "      <td>NaN</td>\n",
       "      <td>2020</td>\n",
       "      <td>Linton, M. Natalie; Kobayashi, Tetsuro; Yang, ...</td>\n",
       "      <td>Journal of Clinical Medicine</td>\n",
       "      <td>Incubation Period and Other Epidemiological Ch...</td>\n",
       "      <td>the geographic spread of 2019 novel coronaviru...</td>\n",
       "      <td>As of 31 January 2020, mainland China reported...</td>\n",
       "      <td>[{'text': '2019', 'start': 63, 'end': 67, 'typ...</td>\n",
       "      <td>[geographic, spread, novel, coronavirus, infec...</td>\n",
       "    </tr>\n",
       "    <tr>\n",
       "      <th>3</th>\n",
       "      <td>3</td>\n",
       "      <td>3</td>\n",
       "      <td>CZI</td>\n",
       "      <td>10.3390/jcm9020575</td>\n",
       "      <td>NaN</td>\n",
       "      <td>32093211.0</td>\n",
       "      <td>2020</td>\n",
       "      <td>Deng, Sheng-Qun; Peng, Hong-Juan</td>\n",
       "      <td>J Clin Med</td>\n",
       "      <td>Characteristics of and Public Health Responses...</td>\n",
       "      <td>in december 2019, cases of unidentified pneumo...</td>\n",
       "      <td>In December 2019, a cluster of pneumonia of un...</td>\n",
       "      <td>[{'text': 'Public Health', 'start': 23, 'end':...</td>\n",
       "      <td>[december, cases, unidentified, pneumonia, his...</td>\n",
       "    </tr>\n",
       "    <tr>\n",
       "      <th>5</th>\n",
       "      <td>5</td>\n",
       "      <td>5</td>\n",
       "      <td>CZI</td>\n",
       "      <td>10.1016/j.idm.2020.02.001</td>\n",
       "      <td>NaN</td>\n",
       "      <td>NaN</td>\n",
       "      <td>2020</td>\n",
       "      <td>Tang, Biao; Bragazzi, Nicola Luigi; Li, Qian; ...</td>\n",
       "      <td>Infectious Disease Modelling</td>\n",
       "      <td>An updated estimation of the risk of transmiss...</td>\n",
       "      <td>the basic reproduction number of an infectious...</td>\n",
       "      <td>Coronaviruses are a group of enveloped viruses...</td>\n",
       "      <td>[{'text': 'coronavirus', 'start': 63, 'end': 7...</td>\n",
       "      <td>[basic, reproduction, number, infectious, agen...</td>\n",
       "    </tr>\n",
       "    <tr>\n",
       "      <th>6</th>\n",
       "      <td>6</td>\n",
       "      <td>6</td>\n",
       "      <td>CZI</td>\n",
       "      <td>10.1016/j.idm.2020.02.002</td>\n",
       "      <td>NaN</td>\n",
       "      <td>NaN</td>\n",
       "      <td>2020</td>\n",
       "      <td>Roosa, K.; Lee, Y.; Luo, R.; Kirpich, A.; Roth...</td>\n",
       "      <td>Infectious Disease Modelling</td>\n",
       "      <td>Real-time forecasts of the 2019-nCoV epidemic ...</td>\n",
       "      <td>the initial cluster of severe pneumonia cases ...</td>\n",
       "      <td>The ongoing epidemic of the novel coronavirus ...</td>\n",
       "      <td>[{'text': '2019-nCoV', 'start': 27, 'end': 36,...</td>\n",
       "      <td>[initial, cluster, severe, pneumonia, cases, t...</td>\n",
       "    </tr>\n",
       "    <tr>\n",
       "      <th>8</th>\n",
       "      <td>8</td>\n",
       "      <td>8</td>\n",
       "      <td>CZI</td>\n",
       "      <td>10.1093/jtm/taaa030</td>\n",
       "      <td>NaN</td>\n",
       "      <td>NaN</td>\n",
       "      <td>2020</td>\n",
       "      <td>Rocklöv, J.; Sjödin, H.; Wilder-Smith, A.</td>\n",
       "      <td>Journal of Travel Medicine</td>\n",
       "      <td>COVID-19 outbreak on the Diamond Princess crui...</td>\n",
       "      <td>cruise ships carry a large number of people in...</td>\n",
       "      <td>Conclusions: The cruise ship conditions clearl...</td>\n",
       "      <td>[{'text': 'COVID-19', 'start': 0, 'end': 8, 't...</td>\n",
       "      <td>[cruise, ships, carry, large, number, people, ...</td>\n",
       "    </tr>\n",
       "  </tbody>\n",
       "</table>\n",
       "</div>"
      ],
      "text/plain": [
       "   Unnamed: 0  id source                        doi pmcid   pubmed_id  \\\n",
       "2           2   2    CZI         10.3390/jcm9020538   NaN         NaN   \n",
       "3           3   3    CZI         10.3390/jcm9020575   NaN  32093211.0   \n",
       "5           5   5    CZI  10.1016/j.idm.2020.02.001   NaN         NaN   \n",
       "6           6   6    CZI  10.1016/j.idm.2020.02.002   NaN         NaN   \n",
       "8           8   8    CZI        10.1093/jtm/taaa030   NaN         NaN   \n",
       "\n",
       "  publish_time                                            authors  \\\n",
       "2         2020  Linton, M. Natalie; Kobayashi, Tetsuro; Yang, ...   \n",
       "3         2020                   Deng, Sheng-Qun; Peng, Hong-Juan   \n",
       "5         2020  Tang, Biao; Bragazzi, Nicola Luigi; Li, Qian; ...   \n",
       "6         2020  Roosa, K.; Lee, Y.; Luo, R.; Kirpich, A.; Roth...   \n",
       "8         2020          Rocklöv, J.; Sjödin, H.; Wilder-Smith, A.   \n",
       "\n",
       "                        journal  \\\n",
       "2  Journal of Clinical Medicine   \n",
       "3                    J Clin Med   \n",
       "5  Infectious Disease Modelling   \n",
       "6  Infectious Disease Modelling   \n",
       "8    Journal of Travel Medicine   \n",
       "\n",
       "                                               title  \\\n",
       "2  Incubation Period and Other Epidemiological Ch...   \n",
       "3  Characteristics of and Public Health Responses...   \n",
       "5  An updated estimation of the risk of transmiss...   \n",
       "6  Real-time forecasts of the 2019-nCoV epidemic ...   \n",
       "8  COVID-19 outbreak on the Diamond Princess crui...   \n",
       "\n",
       "                                            abstract  \\\n",
       "2  the geographic spread of 2019 novel coronaviru...   \n",
       "3  in december 2019, cases of unidentified pneumo...   \n",
       "5  the basic reproduction number of an infectious...   \n",
       "6  the initial cluster of severe pneumonia cases ...   \n",
       "8  cruise ships carry a large number of people in...   \n",
       "\n",
       "                                                body  \\\n",
       "2  As of 31 January 2020, mainland China reported...   \n",
       "3  In December 2019, a cluster of pneumonia of un...   \n",
       "5  Coronaviruses are a group of enveloped viruses...   \n",
       "6  The ongoing epidemic of the novel coronavirus ...   \n",
       "8  Conclusions: The cruise ship conditions clearl...   \n",
       "\n",
       "                                            entities  \\\n",
       "2  [{'text': '2019', 'start': 63, 'end': 67, 'typ...   \n",
       "3  [{'text': 'Public Health', 'start': 23, 'end':...   \n",
       "5  [{'text': 'coronavirus', 'start': 63, 'end': 7...   \n",
       "6  [{'text': '2019-nCoV', 'start': 27, 'end': 36,...   \n",
       "8  [{'text': 'COVID-19', 'start': 0, 'end': 8, 't...   \n",
       "\n",
       "                                     abstract_tokens  \n",
       "2  [geographic, spread, novel, coronavirus, infec...  \n",
       "3  [december, cases, unidentified, pneumonia, his...  \n",
       "5  [basic, reproduction, number, infectious, agen...  \n",
       "6  [initial, cluster, severe, pneumonia, cases, t...  \n",
       "8  [cruise, ships, carry, large, number, people, ...  "
      ]
     },
     "execution_count": 11,
     "metadata": {},
     "output_type": "execute_result"
    }
   ],
   "source": [
    "data['abstract'] = data['abstract'].apply(lambda x: x.strip().lower())\n",
    "stopwords = set(stopwords.words('english'))\n",
    "data['abstract_tokens'] = data['abstract'].apply(lambda x: word_tokenize(x))\n",
    "\n",
    "## Remove non-English words\n",
    "data['abstract_tokens'] = data['abstract_tokens'].apply(lambda x: [w for w in x if w.isalpha()])\n",
    "\n",
    "## Remove Stopwords\n",
    "data['abstract_tokens'] = data['abstract_tokens'].apply(lambda x: [w for w in x if w not in stopwords])\n",
    "\n",
    "## Remove words with single characters\n",
    "data['abstract_tokens'] = data['abstract_tokens'].apply(lambda x: [w for w in x if len(w)>1])\n",
    "#data['abstract_cleaned'] = data['abstract_tokens'].apply(lambda x: ' '.join(x))\n",
    "data.head()"
   ]
  },
  {
   "cell_type": "code",
   "execution_count": 12,
   "id": "5c509c5f",
   "metadata": {
    "execution": {
     "iopub.execute_input": "2023-01-04T16:19:34.107455Z",
     "iopub.status.busy": "2023-01-04T16:19:34.106619Z",
     "iopub.status.idle": "2023-01-04T16:19:34.111746Z",
     "shell.execute_reply": "2023-01-04T16:19:34.110802Z"
    },
    "papermill": {
     "duration": 0.022098,
     "end_time": "2023-01-04T16:19:34.113825",
     "exception": false,
     "start_time": "2023-01-04T16:19:34.091727",
     "status": "completed"
    },
    "tags": []
   },
   "outputs": [],
   "source": [
    "data.reset_index(drop=True,inplace=True)"
   ]
  },
  {
   "cell_type": "markdown",
   "id": "36953073",
   "metadata": {
    "papermill": {
     "duration": 0.013552,
     "end_time": "2023-01-04T16:19:34.141260",
     "exception": false,
     "start_time": "2023-01-04T16:19:34.127708",
     "status": "completed"
    },
    "tags": []
   },
   "source": [
    "Here I create inverted index. Inverted index is a fundamental technology used commonly in search engine . Inverted index assigns each word with a list of document id and it helps retrieve the articles with keyword matching fastly. For example {'patient':[1,3,6]} means that the word patient occurs in the second,fourth and sixth document in the corpus.\n",
    "\n"
   ]
  },
  {
   "cell_type": "code",
   "execution_count": 13,
   "id": "8ac7a061",
   "metadata": {
    "execution": {
     "iopub.execute_input": "2023-01-04T16:19:34.169760Z",
     "iopub.status.busy": "2023-01-04T16:19:34.169489Z",
     "iopub.status.idle": "2023-01-04T16:19:34.207601Z",
     "shell.execute_reply": "2023-01-04T16:19:34.206127Z"
    },
    "papermill": {
     "duration": 0.054629,
     "end_time": "2023-01-04T16:19:34.209563",
     "exception": false,
     "start_time": "2023-01-04T16:19:34.154934",
     "status": "completed"
    },
    "tags": []
   },
   "outputs": [
    {
     "name": "stdout",
     "output_type": "stream",
     "text": [
      "There are 8711 unique words in inverted index\n"
     ]
    }
   ],
   "source": [
    "inverted_idx = {}\n",
    "for idx,sentence in enumerate(list(data['abstract_tokens'])):\n",
    "    for token in set(sentence):\n",
    "        if token not in inverted_idx:\n",
    "            inverted_idx[token] = [idx]\n",
    "        else:\n",
    "            inverted_idx[token].append(idx)\n",
    "\n",
    "print(f'There are {len(inverted_idx)} unique words in inverted index')"
   ]
  },
  {
   "cell_type": "markdown",
   "id": "fb7c4f75",
   "metadata": {
    "papermill": {
     "duration": 0.013726,
     "end_time": "2023-01-04T16:19:34.237315",
     "exception": false,
     "start_time": "2023-01-04T16:19:34.223589",
     "status": "completed"
    },
    "tags": []
   },
   "source": [
    "# 2.Article Matching and Deep Cleaning"
   ]
  },
  {
   "cell_type": "code",
   "execution_count": 14,
   "id": "b716b49f",
   "metadata": {
    "execution": {
     "iopub.execute_input": "2023-01-04T16:19:34.267482Z",
     "iopub.status.busy": "2023-01-04T16:19:34.265902Z",
     "iopub.status.idle": "2023-01-04T16:19:34.273364Z",
     "shell.execute_reply": "2023-01-04T16:19:34.272368Z"
    },
    "papermill": {
     "duration": 0.024246,
     "end_time": "2023-01-04T16:19:34.275488",
     "exception": false,
     "start_time": "2023-01-04T16:19:34.251242",
     "status": "completed"
    },
    "tags": []
   },
   "outputs": [
    {
     "name": "stdout",
     "output_type": "stream",
     "text": [
      "Found 606 articles related to covid19\n"
     ]
    }
   ],
   "source": [
    "keywords_cov = [\"sars-cov-2\",\"sars\",\"cov-2\",\"2019-ncov\",\"ncov\",\"cov\",\"covid19\",\"covid\",\"corona\",\n",
    "             \"coronavirus\"]\n",
    "cov_idx = []\n",
    "for word in keywords_cov:\n",
    "    try:\n",
    "        cov_idx += inverted_idx[word]\n",
    "    except:\n",
    "        pass\n",
    "cov_idx = list(set(cov_idx))\n",
    "print(f'Found {len(cov_idx)} articles related to covid19')"
   ]
  },
  {
   "cell_type": "code",
   "execution_count": 15,
   "id": "87385570",
   "metadata": {
    "execution": {
     "iopub.execute_input": "2023-01-04T16:19:34.304139Z",
     "iopub.status.busy": "2023-01-04T16:19:34.303879Z",
     "iopub.status.idle": "2023-01-04T16:19:34.326720Z",
     "shell.execute_reply": "2023-01-04T16:19:34.325713Z"
    },
    "papermill": {
     "duration": 0.039538,
     "end_time": "2023-01-04T16:19:34.328710",
     "exception": false,
     "start_time": "2023-01-04T16:19:34.289172",
     "status": "completed"
    },
    "tags": []
   },
   "outputs": [
    {
     "data": {
      "text/html": [
       "<div>\n",
       "<style scoped>\n",
       "    .dataframe tbody tr th:only-of-type {\n",
       "        vertical-align: middle;\n",
       "    }\n",
       "\n",
       "    .dataframe tbody tr th {\n",
       "        vertical-align: top;\n",
       "    }\n",
       "\n",
       "    .dataframe thead th {\n",
       "        text-align: right;\n",
       "    }\n",
       "</style>\n",
       "<table border=\"1\" class=\"dataframe\">\n",
       "  <thead>\n",
       "    <tr style=\"text-align: right;\">\n",
       "      <th></th>\n",
       "      <th>Unnamed: 0</th>\n",
       "      <th>id</th>\n",
       "      <th>source</th>\n",
       "      <th>doi</th>\n",
       "      <th>pmcid</th>\n",
       "      <th>pubmed_id</th>\n",
       "      <th>publish_time</th>\n",
       "      <th>authors</th>\n",
       "      <th>journal</th>\n",
       "      <th>title</th>\n",
       "      <th>abstract</th>\n",
       "      <th>body</th>\n",
       "      <th>entities</th>\n",
       "      <th>abstract_tokens</th>\n",
       "    </tr>\n",
       "  </thead>\n",
       "  <tbody>\n",
       "    <tr>\n",
       "      <th>0</th>\n",
       "      <td>2</td>\n",
       "      <td>2</td>\n",
       "      <td>CZI</td>\n",
       "      <td>10.3390/jcm9020538</td>\n",
       "      <td>NaN</td>\n",
       "      <td>NaN</td>\n",
       "      <td>2020</td>\n",
       "      <td>Linton, M. Natalie; Kobayashi, Tetsuro; Yang, ...</td>\n",
       "      <td>Journal of Clinical Medicine</td>\n",
       "      <td>Incubation Period and Other Epidemiological Ch...</td>\n",
       "      <td>the geographic spread of 2019 novel coronaviru...</td>\n",
       "      <td>As of 31 January 2020, mainland China reported...</td>\n",
       "      <td>[{'text': '2019', 'start': 63, 'end': 67, 'typ...</td>\n",
       "      <td>[geographic, spread, novel, coronavirus, infec...</td>\n",
       "    </tr>\n",
       "    <tr>\n",
       "      <th>1</th>\n",
       "      <td>3</td>\n",
       "      <td>3</td>\n",
       "      <td>CZI</td>\n",
       "      <td>10.3390/jcm9020575</td>\n",
       "      <td>NaN</td>\n",
       "      <td>32093211.0</td>\n",
       "      <td>2020</td>\n",
       "      <td>Deng, Sheng-Qun; Peng, Hong-Juan</td>\n",
       "      <td>J Clin Med</td>\n",
       "      <td>Characteristics of and Public Health Responses...</td>\n",
       "      <td>in december 2019, cases of unidentified pneumo...</td>\n",
       "      <td>In December 2019, a cluster of pneumonia of un...</td>\n",
       "      <td>[{'text': 'Public Health', 'start': 23, 'end':...</td>\n",
       "      <td>[december, cases, unidentified, pneumonia, his...</td>\n",
       "    </tr>\n",
       "    <tr>\n",
       "      <th>2</th>\n",
       "      <td>5</td>\n",
       "      <td>5</td>\n",
       "      <td>CZI</td>\n",
       "      <td>10.1016/j.idm.2020.02.001</td>\n",
       "      <td>NaN</td>\n",
       "      <td>NaN</td>\n",
       "      <td>2020</td>\n",
       "      <td>Tang, Biao; Bragazzi, Nicola Luigi; Li, Qian; ...</td>\n",
       "      <td>Infectious Disease Modelling</td>\n",
       "      <td>An updated estimation of the risk of transmiss...</td>\n",
       "      <td>the basic reproduction number of an infectious...</td>\n",
       "      <td>Coronaviruses are a group of enveloped viruses...</td>\n",
       "      <td>[{'text': 'coronavirus', 'start': 63, 'end': 7...</td>\n",
       "      <td>[basic, reproduction, number, infectious, agen...</td>\n",
       "    </tr>\n",
       "    <tr>\n",
       "      <th>3</th>\n",
       "      <td>6</td>\n",
       "      <td>6</td>\n",
       "      <td>CZI</td>\n",
       "      <td>10.1016/j.idm.2020.02.002</td>\n",
       "      <td>NaN</td>\n",
       "      <td>NaN</td>\n",
       "      <td>2020</td>\n",
       "      <td>Roosa, K.; Lee, Y.; Luo, R.; Kirpich, A.; Roth...</td>\n",
       "      <td>Infectious Disease Modelling</td>\n",
       "      <td>Real-time forecasts of the 2019-nCoV epidemic ...</td>\n",
       "      <td>the initial cluster of severe pneumonia cases ...</td>\n",
       "      <td>The ongoing epidemic of the novel coronavirus ...</td>\n",
       "      <td>[{'text': '2019-nCoV', 'start': 27, 'end': 36,...</td>\n",
       "      <td>[initial, cluster, severe, pneumonia, cases, t...</td>\n",
       "    </tr>\n",
       "    <tr>\n",
       "      <th>5</th>\n",
       "      <td>9</td>\n",
       "      <td>9</td>\n",
       "      <td>CZI</td>\n",
       "      <td>10.1128/mBio.02764-19</td>\n",
       "      <td>NaN</td>\n",
       "      <td>NaN</td>\n",
       "      <td>2020</td>\n",
       "      <td>Qing, Enya; Hantak, Michael; Perlman, Stanley;...</td>\n",
       "      <td>mBio</td>\n",
       "      <td>Distinct Roles for Sialoside and Protein Recep...</td>\n",
       "      <td>coronaviruses (covs) are common human and anim...</td>\n",
       "      <td>could be attributed to S proteins. Intriguingl...</td>\n",
       "      <td>[{'text': 'Sialoside', 'start': 19, 'end': 28,...</td>\n",
       "      <td>[coronaviruses, covs, common, human, animal, p...</td>\n",
       "    </tr>\n",
       "  </tbody>\n",
       "</table>\n",
       "</div>"
      ],
      "text/plain": [
       "   Unnamed: 0  id source                        doi pmcid   pubmed_id  \\\n",
       "0           2   2    CZI         10.3390/jcm9020538   NaN         NaN   \n",
       "1           3   3    CZI         10.3390/jcm9020575   NaN  32093211.0   \n",
       "2           5   5    CZI  10.1016/j.idm.2020.02.001   NaN         NaN   \n",
       "3           6   6    CZI  10.1016/j.idm.2020.02.002   NaN         NaN   \n",
       "5           9   9    CZI      10.1128/mBio.02764-19   NaN         NaN   \n",
       "\n",
       "  publish_time                                            authors  \\\n",
       "0         2020  Linton, M. Natalie; Kobayashi, Tetsuro; Yang, ...   \n",
       "1         2020                   Deng, Sheng-Qun; Peng, Hong-Juan   \n",
       "2         2020  Tang, Biao; Bragazzi, Nicola Luigi; Li, Qian; ...   \n",
       "3         2020  Roosa, K.; Lee, Y.; Luo, R.; Kirpich, A.; Roth...   \n",
       "5         2020  Qing, Enya; Hantak, Michael; Perlman, Stanley;...   \n",
       "\n",
       "                        journal  \\\n",
       "0  Journal of Clinical Medicine   \n",
       "1                    J Clin Med   \n",
       "2  Infectious Disease Modelling   \n",
       "3  Infectious Disease Modelling   \n",
       "5                          mBio   \n",
       "\n",
       "                                               title  \\\n",
       "0  Incubation Period and Other Epidemiological Ch...   \n",
       "1  Characteristics of and Public Health Responses...   \n",
       "2  An updated estimation of the risk of transmiss...   \n",
       "3  Real-time forecasts of the 2019-nCoV epidemic ...   \n",
       "5  Distinct Roles for Sialoside and Protein Recep...   \n",
       "\n",
       "                                            abstract  \\\n",
       "0  the geographic spread of 2019 novel coronaviru...   \n",
       "1  in december 2019, cases of unidentified pneumo...   \n",
       "2  the basic reproduction number of an infectious...   \n",
       "3  the initial cluster of severe pneumonia cases ...   \n",
       "5  coronaviruses (covs) are common human and anim...   \n",
       "\n",
       "                                                body  \\\n",
       "0  As of 31 January 2020, mainland China reported...   \n",
       "1  In December 2019, a cluster of pneumonia of un...   \n",
       "2  Coronaviruses are a group of enveloped viruses...   \n",
       "3  The ongoing epidemic of the novel coronavirus ...   \n",
       "5  could be attributed to S proteins. Intriguingl...   \n",
       "\n",
       "                                            entities  \\\n",
       "0  [{'text': '2019', 'start': 63, 'end': 67, 'typ...   \n",
       "1  [{'text': 'Public Health', 'start': 23, 'end':...   \n",
       "2  [{'text': 'coronavirus', 'start': 63, 'end': 7...   \n",
       "3  [{'text': '2019-nCoV', 'start': 27, 'end': 36,...   \n",
       "5  [{'text': 'Sialoside', 'start': 19, 'end': 28,...   \n",
       "\n",
       "                                     abstract_tokens  \n",
       "0  [geographic, spread, novel, coronavirus, infec...  \n",
       "1  [december, cases, unidentified, pneumonia, his...  \n",
       "2  [basic, reproduction, number, infectious, agen...  \n",
       "3  [initial, cluster, severe, pneumonia, cases, t...  \n",
       "5  [coronaviruses, covs, common, human, animal, p...  "
      ]
     },
     "execution_count": 15,
     "metadata": {},
     "output_type": "execute_result"
    }
   ],
   "source": [
    "cov_article = data.iloc[cov_idx,:]\n",
    "cov_article.head()"
   ]
  },
  {
   "cell_type": "markdown",
   "id": "7a8de322",
   "metadata": {
    "papermill": {
     "duration": 0.013847,
     "end_time": "2023-01-04T16:19:34.357092",
     "exception": false,
     "start_time": "2023-01-04T16:19:34.343245",
     "status": "completed"
    },
    "tags": []
   },
   "source": [
    "For topic modeling and visualization, lemmatization is needed. POS tagging technique is also used to filter meaningful words."
   ]
  },
  {
   "cell_type": "code",
   "execution_count": 16,
   "id": "ce8164ae",
   "metadata": {
    "execution": {
     "iopub.execute_input": "2023-01-04T16:19:34.387585Z",
     "iopub.status.busy": "2023-01-04T16:19:34.386670Z",
     "iopub.status.idle": "2023-01-04T16:19:34.393029Z",
     "shell.execute_reply": "2023-01-04T16:19:34.392193Z"
    },
    "papermill": {
     "duration": 0.023832,
     "end_time": "2023-01-04T16:19:34.395036",
     "exception": false,
     "start_time": "2023-01-04T16:19:34.371204",
     "status": "completed"
    },
    "tags": []
   },
   "outputs": [],
   "source": [
    "def lemmatization(texts, allowed_postags=['NOUN','ADJ','VERB','ADV']):\n",
    "    texts_out = []\n",
    "    nlp = spacy.load('en_core_web_sm', disable=['parser', 'ner'])\n",
    "    for sent in texts:\n",
    "        doc = nlp(\" \".join(sent)) \n",
    "        ##'-PRON-' is used as the lemma for all pronouns such as their, you, me, and I\n",
    "        texts_out.append([token.lemma_ if token.lemma_ not in ['-PRON-'] else '' \n",
    "                          for token in doc if token.pos_ in allowed_postags])\n",
    "    return texts_out   "
   ]
  },
  {
   "cell_type": "markdown",
   "id": "8602c31b",
   "metadata": {
    "papermill": {
     "duration": 0.014251,
     "end_time": "2023-01-04T16:19:34.423744",
     "exception": false,
     "start_time": "2023-01-04T16:19:34.409493",
     "status": "completed"
    },
    "tags": []
   },
   "source": [
    "First, let's see how the word cloud of this corpus looks like."
   ]
  },
  {
   "cell_type": "code",
   "execution_count": 17,
   "id": "998b5cee",
   "metadata": {
    "execution": {
     "iopub.execute_input": "2023-01-04T16:19:34.453882Z",
     "iopub.status.busy": "2023-01-04T16:19:34.453116Z",
     "iopub.status.idle": "2023-01-04T16:19:41.670548Z",
     "shell.execute_reply": "2023-01-04T16:19:41.669663Z"
    },
    "papermill": {
     "duration": 7.238832,
     "end_time": "2023-01-04T16:19:41.676710",
     "exception": false,
     "start_time": "2023-01-04T16:19:34.437878",
     "status": "completed"
    },
    "tags": []
   },
   "outputs": [
    {
     "data": {
      "text/plain": [
       "Text(0.5, 1.0, 'Word Cloud: Articles Related to SAR-Cov-2')"
      ]
     },
     "execution_count": 17,
     "metadata": {},
     "output_type": "execute_result"
    },
    {
     "data": {
      "image/png": "[encoded data removed]",
      "text/plain": [
       "<Figure size 720x576 with 1 Axes>"
      ]
     },
     "metadata": {},
     "output_type": "display_data"
    }
   ],
   "source": [
    "cov_article['Lemma_Tokens'] = lemmatization(list(cov_article['abstract_tokens']))\n",
    "## convert tokens that frequently occur together as bigram and trigram\n",
    "bigram = Phrases(list(cov_article['Lemma_Tokens']), min_count=3)\n",
    "cov_article['Phrase_Lemma_Tokens'] = cov_article['Lemma_Tokens'].apply(lambda x: bigram[x])\n",
    "\n",
    "\n",
    "cov_abstract_tokens = []\n",
    "for tokens in list(cov_article['Phrase_Lemma_Tokens']):\n",
    "    cov_abstract_tokens += tokens\n",
    "cov_wordcnt_dict = collections.Counter(cov_abstract_tokens)\n",
    "\n",
    "wcloud = wordcloud.WordCloud(background_color='white')\n",
    "wcloud.generate_from_frequencies(cov_wordcnt_dict)\n",
    "fig,ax = plt.subplots(figsize=(10,8))\n",
    "ax.imshow(wcloud)\n",
    "for pos in ['left','right','top','bottom']:\n",
    "    ax.spines[pos].set_color(None)\n",
    "ax.set_xticks([])\n",
    "ax.set_yticks([])\n",
    "ax.set_title('Word Cloud: Articles Related to SAR-Cov-2' ,fontsize=14)"
   ]
  },
  {
   "cell_type": "markdown",
   "id": "ddd8d7de",
   "metadata": {
    "papermill": {
     "duration": 0.016674,
     "end_time": "2023-01-04T16:19:41.711077",
     "exception": false,
     "start_time": "2023-01-04T16:19:41.694403",
     "status": "completed"
    },
    "tags": []
   },
   "source": [
    "Words or phrases like  'patient', 'infection', 'disease', 'outbreak', 'virus', 'case, 'epidemic' occur frequently in this corpus."
   ]
  },
  {
   "cell_type": "markdown",
   "id": "86971a0f",
   "metadata": {
    "papermill": {
     "duration": 0.016527,
     "end_time": "2023-01-04T16:19:41.744322",
     "exception": false,
     "start_time": "2023-01-04T16:19:41.727795",
     "status": "completed"
    },
    "tags": []
   },
   "source": [
    "# 3.Topic Extraction : LDA"
   ]
  },
  {
   "cell_type": "code",
   "execution_count": 18,
   "id": "36cab871",
   "metadata": {
    "execution": {
     "iopub.execute_input": "2023-01-04T16:19:41.779186Z",
     "iopub.status.busy": "2023-01-04T16:19:41.778895Z",
     "iopub.status.idle": "2023-01-04T16:20:25.462980Z",
     "shell.execute_reply": "2023-01-04T16:20:25.462271Z"
    },
    "papermill": {
     "duration": 43.703928,
     "end_time": "2023-01-04T16:20:25.464944",
     "exception": false,
     "start_time": "2023-01-04T16:19:41.761016",
     "status": "completed"
    },
    "tags": []
   },
   "outputs": [
    {
     "name": "stderr",
     "output_type": "stream",
     "text": [
      "100%|██████████| 8/8 [00:43<00:00,  5.42s/it]\n"
     ]
    },
    {
     "name": "stdout",
     "output_type": "stream",
     "text": [
      "Topic number selection took 43.33951735496521 seconds\n"
     ]
    },
    {
     "data": {
      "image/png": "[encoded data removed]",
      "text/plain": [
       "<Figure size 576x360 with 1 Axes>"
      ]
     },
     "metadata": {
      "needs_background": "light"
     },
     "output_type": "display_data"
    }
   ],
   "source": [
    "#https://towardsdatascience.com/evaluate-topic-model-in-python-latent-dirichlet-allocation-lda-7d57484bb5d0\n",
    "id2token_cov_article = corpora.Dictionary(list(cov_article['Phrase_Lemma_Tokens']))\n",
    "##eliminate rare and frequent tokens\n",
    "\n",
    "corpus_cov_article = [id2token_cov_article.doc2bow(tokens) \n",
    "                        for tokens in list(cov_article['Phrase_Lemma_Tokens'])]\n",
    "\n",
    "begin_time = time.time()\n",
    "coherence_scores = []\n",
    "for nb_topics in tqdm(range(3,11)):\n",
    "    lda_model = LdaMulticore(corpus=corpus_cov_article,\n",
    "                            id2word=id2token_cov_article,\n",
    "                            num_topics=nb_topics, \n",
    "                            random_state=98,\n",
    "                            chunksize=100,\n",
    "                            passes=10,\n",
    "                            iterations=50,\n",
    "                            decay=0.5,\n",
    "                            per_word_topics=True,)\n",
    " \n",
    "    cm = CoherenceModel(model=lda_model, \n",
    "                        texts=list(cov_article['Phrase_Lemma_Tokens']),\n",
    "                        dictionary=id2token_cov_article,\n",
    "                        coherence='c_v',\n",
    "                        topn=20)\n",
    "    coherence_score = cm.get_coherence()\n",
    "    coherence_scores.append(coherence_score)\n",
    "    \n",
    "print(f'Topic number selection took {time.time()-begin_time} seconds')\n",
    "\n",
    "fig,ax = plt.subplots(figsize=(8,5))\n",
    "ax.plot(range(3,11),coherence_scores,color='black')\n",
    "ax.scatter(range(3,11),coherence_scores,marker='o',color='blue')\n",
    "ax.set_xticks(range(3,11,1))\n",
    "ax.set_title('c_v Coherence Score w.r.t. Topic Number',fontsize=14)\n",
    "#ax.set_xlabel('Number of Topics',fontsize=14)\n",
    "for pos in ['top','right']:\n",
    "    ax.spines[pos].set_color(None)"
   ]
  },
  {
   "cell_type": "markdown",
   "id": "37ddd1cb",
   "metadata": {
    "papermill": {
     "duration": 0.017649,
     "end_time": "2023-01-04T16:20:25.500700",
     "exception": false,
     "start_time": "2023-01-04T16:20:25.483051",
     "status": "completed"
    },
    "tags": []
   },
   "source": [
    "The higher the c_v coherence score is, the more suitable the topic number should be. Hence, I choose 8 as the topic number for analysis."
   ]
  },
  {
   "cell_type": "code",
   "execution_count": 19,
   "id": "f4ca55c6",
   "metadata": {
    "execution": {
     "iopub.execute_input": "2023-01-04T16:20:25.538921Z",
     "iopub.status.busy": "2023-01-04T16:20:25.537881Z",
     "iopub.status.idle": "2023-01-04T16:20:30.714284Z",
     "shell.execute_reply": "2023-01-04T16:20:30.712773Z"
    },
    "papermill": {
     "duration": 5.198245,
     "end_time": "2023-01-04T16:20:30.716775",
     "exception": false,
     "start_time": "2023-01-04T16:20:25.518530",
     "status": "completed"
    },
    "tags": []
   },
   "outputs": [
    {
     "name": "stdout",
     "output_type": "stream",
     "text": [
      "Perplexity:  -7.8924815839885225\n"
     ]
    }
   ],
   "source": [
    "lda_model = LdaMulticore(corpus=corpus_cov_article,\n",
    "                        id2word=id2token_cov_article,\n",
    "                        num_topics=8, \n",
    "                        random_state=98,\n",
    "                        chunksize=100,\n",
    "                        passes=10,\n",
    "                        iterations=50,\n",
    "                        decay=0.5,\n",
    "                        per_word_topics=True,)\n",
    "\n",
    "print('Perplexity: ', lda_model.log_perplexity(corpus_cov_article))"
   ]
  },
  {
   "cell_type": "markdown",
   "id": "7aa45633",
   "metadata": {
    "papermill": {
     "duration": 0.018304,
     "end_time": "2023-01-04T16:20:30.753771",
     "exception": false,
     "start_time": "2023-01-04T16:20:30.735467",
     "status": "completed"
    },
    "tags": []
   },
   "source": [
    "# Word per Topic"
   ]
  },
  {
   "cell_type": "code",
   "execution_count": 20,
   "id": "bdd910bd",
   "metadata": {
    "execution": {
     "iopub.execute_input": "2023-01-04T16:20:30.790916Z",
     "iopub.status.busy": "2023-01-04T16:20:30.790592Z",
     "iopub.status.idle": "2023-01-04T16:20:32.552141Z",
     "shell.execute_reply": "2023-01-04T16:20:32.551242Z"
    },
    "papermill": {
     "duration": 1.7833,
     "end_time": "2023-01-04T16:20:32.554945",
     "exception": false,
     "start_time": "2023-01-04T16:20:30.771645",
     "status": "completed"
    },
    "tags": []
   },
   "outputs": [
    {
     "data": {
      "image/png": "[encoded data removed]",
      "text/plain": [
       "<Figure size 1152x1080 with 8 Axes>"
      ]
     },
     "metadata": {
      "needs_background": "light"
     },
     "output_type": "display_data"
    }
   ],
   "source": [
    "word_topic_scores = lda_model.show_topics(num_words=15,formatted=False)\n",
    "\n",
    "fig = plt.figure(figsize=(16,15))\n",
    "for i,topic in enumerate(word_topic_scores):\n",
    "    word_score_pairs = topic[1]\n",
    "    #word_score_dict = dict(topic[1])\n",
    "    words = [word_score_pair[0] for word_score_pair in word_score_pairs]\n",
    "    probs = [word_score_pair[1] for word_score_pair in word_score_pairs]\n",
    "    #fig,ax = plt.subplots(figsize=(7,5))\n",
    "    ax = fig.add_subplot(4,2,i+1)\n",
    "    ax.barh(y=words,width=probs,height=0.6,color=sns.color_palette()[i])\n",
    "    ax.set_yticklabels(labels=words, fontsize=14)\n",
    "    ax.set_xticks([])\n",
    "    ax.set_title(f'Topic {i+1}',fontsize=15)\n",
    "    for pos in ['left','right','bottom','top']:\n",
    "        ax.spines[pos].set_color(None)"
   ]
  },
  {
   "cell_type": "markdown",
   "id": "93a2e7d0",
   "metadata": {
    "papermill": {
     "duration": 0.019444,
     "end_time": "2023-01-04T16:20:32.594408",
     "exception": false,
     "start_time": "2023-01-04T16:20:32.574964",
     "status": "completed"
    },
    "tags": []
   },
   "source": [
    "1. First topic is talking about the hospital practices to ensure the public health by adopting public treatment strategies and infection prevention control measures. We can see words like 'infection', 'hospital', 'disease', 'prevention_control','public health','treatment strategies'.\n",
    "\n",
    "2. Second topic is probably talking about evolution of virus inside human host. We can see words like  'virus', 'human', 'cell','host','protein','infection'.\n",
    "\n",
    "3. Third topic talks about Scientists testion western drugs in lab for atypical pneumonia and myocardial. We can see words like 'Scientist', 'lab', 'test', 'ventilator', 'drug','western','atypical pneumonia','myocardial'.\n",
    "\n",
    "4. Fourth topic probably talks about most of the patient cases orignated from distribution of lesions in lungs that were infected. We can see words like 'patient', 'case', 'lesion', 'infection', 'lung', 'distribuion'.\n",
    "\n",
    "5. Fifth topic talks about observation on hospitalised COVID19 confirmed patients for syndrome, treatment, effect and precaution in isolation. We can see words like 'patient', 'treatment', 'syndrome', 'confirm', 'hospitalize_observation','effect','precaution'.\n",
    "\n",
    "6. Sixth topic talks about rise in cases of COVID19 in the country. We can see words like 'country', 'case', 'transmission', 'outbreak', 'report', 'virus'.\n",
    "\n",
    "7. Seventh topic probably talks about symptoms of COVID19 in a patient. We can see words like 'patient','case','fever','high'.\n",
    "\n",
    "8. Eighth topic probably talks about psychological impact and research on vaccine by scientists in medical world and also about COVID19 cases in wild animals. We can see words like 'vaccine','scientist','research',medical','journal','wild_animal'."
   ]
  },
  {
   "cell_type": "markdown",
   "id": "dcc3696b",
   "metadata": {
    "papermill": {
     "duration": 0.019456,
     "end_time": "2023-01-04T16:20:32.633349",
     "exception": false,
     "start_time": "2023-01-04T16:20:32.613893",
     "status": "completed"
    },
    "tags": []
   },
   "source": [
    "# 4. LDA Visualization"
   ]
  },
  {
   "cell_type": "code",
   "execution_count": 21,
   "id": "3f28a765",
   "metadata": {
    "execution": {
     "iopub.execute_input": "2023-01-04T16:20:32.674881Z",
     "iopub.status.busy": "2023-01-04T16:20:32.674016Z",
     "iopub.status.idle": "2023-01-04T16:20:32.697511Z",
     "shell.execute_reply": "2023-01-04T16:20:32.696239Z"
    },
    "papermill": {
     "duration": 0.046378,
     "end_time": "2023-01-04T16:20:32.699663",
     "exception": false,
     "start_time": "2023-01-04T16:20:32.653285",
     "status": "completed"
    },
    "tags": []
   },
   "outputs": [],
   "source": [
    "from pyLDAvis import gensim"
   ]
  },
  {
   "cell_type": "code",
   "execution_count": 22,
   "id": "94e288c3",
   "metadata": {
    "execution": {
     "iopub.execute_input": "2023-01-04T16:20:32.740155Z",
     "iopub.status.busy": "2023-01-04T16:20:32.739339Z",
     "iopub.status.idle": "2023-01-04T16:20:35.195402Z",
     "shell.execute_reply": "2023-01-04T16:20:35.194234Z"
    },
    "papermill": {
     "duration": 2.478693,
     "end_time": "2023-01-04T16:20:35.197641",
     "exception": false,
     "start_time": "2023-01-04T16:20:32.718948",
     "status": "completed"
    },
    "tags": []
   },
   "outputs": [
    {
     "name": "stdout",
     "output_type": "stream",
     "text": [
      "CPU times: user 403 ms, sys: 205 ms, total: 608 ms\n",
      "Wall time: 2.43 s\n"
     ]
    },
    {
     "data": {
      "text/html": [
       "\n",
       "<link rel=\"stylesheet\" type=\"text/css\" href=\"https://cdn.jsdelivr.net/gh/bmabey/pyLDAvis@3.2.2/pyLDAvis/js/ldavis.v1.0.0.css\">\n",
       "\n",
       "\n",
       "<div id=\"ldavis_el231398223979616802269047141\"></div>\n",
       "<script type=\"text/javascript\">\n",
       "\n",
       "var ldavis_el231398223979616802269047141_data = {\"mdsDat\": {\"x\": [-0.008472288851478424, 0.083381613251282, 0.11799954370551095, -0.024991484387520066, -0.13968130207859755, 0.30267027682457626, -0.17393784253843705, -0.1569685159253357], \"y\": [0.07620829692922623, -0.13776705007761658, 0.2151930315620344, -0.19555061211037641, 0.025234938418889574, -0.02428283506340521, 0.04963344269401899, -0.008669212352771542], \"topics\": [1, 2, 3, 4, 5, 6, 7, 8], \"cluster\": [1, 1, 1, 1, 1, 1, 1, 1], \"Freq\": [36.65724126575846, 17.694111319297896, 15.327824690275122, 9.423346663836004, 7.666534057198674, 5.5398492023975, 5.038991200116935, 2.6521016011194107]}, \"tinfo\": {\"Term\": [\"patient\", \"case\", \"syndrome\", \"virus\", \"treatment\", \"hospital\", \"report\", \"coronavirus\", \"outbreak\", \"infection\", \"lesion\", \"take\", \"people\", \"human\", \"show\", \"say\", \"conclusion\", \"lung\", \"confirm\", \"use\", \"result\", \"precaution\", \"clinical\", \"novel\", \"day\", \"group\", \"control\", \"need\", \"prevention_control\", \"disease\", \"start\", \"global\", \"way\", \"hand\", \"economy\", \"view\", \"almost\", \"know\", \"post\", \"industry\", \"clearly\", \"province\", \"thing\", \"report\", \"responsibility\", \"campaign\", \"let\", \"biopharma\", \"descend\", \"ok\", \"psa\", \"tomorrow\", \"undetected\", \"wash\", \"isolate\", \"genome\", \"recent\", \"coronavirus\", \"confirm_case\", \"field\", \"begin\", \"transmission\", \"go\", \"relate\", \"outbreak\", \"week\", \"population\", \"severe_acute\", \"possible\", \"virus\", \"coronaviruse\", \"information\", \"cause\", \"drug\", \"new\", \"make\", \"spread\", \"first\", \"datum\", \"case\", \"country\", \"respiratory_syndrome\", \"identify\", \"death\", \"epidemic\", \"potential\", \"also\", \"study\", \"infection\", \"use\", \"health\", \"disease\", \"include\", \"treatment\", \"duration\", \"nucleic_acid\", \"clinical_characteristic\", \"colorectal_cancer\", \"liver\", \"white_blood\", \"syndrome\", \"cell_count\", \"underlie_disease\", \"old\", \"acid\", \"neonate\", \"swab\", \"elevate\", \"reaction\", \"inhibitor\", \"divide\", \"surgeon\", \"prognosis\", \"critical_group\", \"critically_ill\", \"mild_moderate\", \"procalcitonin\", \"cross_infection\", \"common_symptom\", \"emergency_surgery\", \"significantly_high\", \"respiratory_support\", \"child\", \"ordinary\", \"combine\", \"fever\", \"blood\", \"surgery\", \"receive\", \"negative\", \"outcome\", \"patient\", \"group\", \"clinical\", \"function\", \"conclusion\", \"test\", \"count\", \"method\", \"chinese\", \"positive\", \"clinical_manifestation\", \"pneumonia\", \"day\", \"observe\", \"detection\", \"department\", \"high\", \"infection\", \"diagnose\", \"severe\", \"treatment\", \"case\", \"compare\", \"result\", \"include\", \"disease\", \"sample\", \"medical\", \"total\", \"confirm\", \"hospital\", \"precaution\", \"reference\", \"treatment_strategy\", \"environment\", \"touch\", \"pediatrician\", \"preventive_effect\", \"expert\", \"question\", \"nosocomial_infection\", \"efficient\", \"author\", \"biological\", \"regulation\", \"greatly\", \"variety\", \"child_prime\", \"dangerous\", \"digestive\", \"frontline\", \"proposal\", \"prime\", \"transplant\", \"heat\", \"put\", \"stability\", \"mission\", \"live\", \"hand_hygiene\", \"save\", \"threaten\", \"become\", \"issue\", \"people\", \"hospital\", \"prevention\", \"mortality\", \"public\", \"face\", \"situation\", \"prevention_control\", \"control\", \"measure\", \"reduce\", \"novel\", \"infection\", \"diagnosis\", \"disease\", \"experience\", \"relevant\", \"include\", \"public_health\", \"epidemic\", \"treatment\", \"spread\", \"severe\", \"country\", \"lesion\", \"consolidation\", \"imaging\", \"ground_glass\", \"manifestation\", \"pangolin\", \"shadow\", \"correlation\", \"bilateral\", \"petient\", \"patchy\", \"peripheral\", \"hrct\", \"involvement\", \"chloroquine\", \"ci\", \"infiltrate\", \"chest_image\", \"thickening\", \"pleural_effusion\", \"accompany\", \"distribution\", \"severe_critical\", \"opacity\", \"analyze_result\", \"exponential_growth\", \"pleural\", \"radiologist\", \"unilateral\", \"subpleural\", \"sign\", \"image\", \"basic_reproduction\", \"lung\", \"case\", \"show\", \"finding\", \"incubation_period\", \"initial\", \"patient\", \"result\", \"change\", \"time\", \"value\", \"day\", \"conclusion\", \"mainly\", \"pneumonia\", \"method\", \"find\", \"first\", \"increase\", \"use\", \"respectively\", \"mean\", \"estimate\", \"bind\", \"host\", \"gene\", \"spike_protein\", \"spike\", \"modernization\", \"interaction\", \"domain\", \"implication\", \"rbd\", \"immune_response\", \"pedv\", \"dog\", \"fusion\", \"domain_rbd\", \"forecasting_model\", \"pathway\", \"sialic_acid\", \"critical_period\", \"partial\", \"leaf\", \"viral_entry\", \"animal_human\", \"burn\", \"residue\", \"mediate\", \"methanol_extract\", \"protease\", \"cell_entry\", \"immunization\", \"receptor\", \"assay\", \"bat\", \"cell\", \"molecular\", \"cov\", \"animal\", \"protein\", \"covs\", \"human\", \"system\", \"viral\", \"strengthen\", \"antiviral\", \"virus\", \"however\", \"show\", \"infection\", \"use\", \"sequence\", \"prevention_control\", \"factor\", \"improve\", \"result\", \"suggest\", \"many\", \"study\", \"ophthalmologist\", \"wear\", \"discharge_home\", \"hospitalize_observation\", \"isolation_observation\", \"ophthalmic\", \"differentiation\", \"malignancy\", \"digestive_system\", \"donor\", \"prescription\", \"epidemic_period\", \"cancer_patient\", \"systemic\", \"disinfect\", \"new_challenge\", \"poor_prognosis\", \"patient_rsquo\", \"advanced_stage\", \"conjunctivitis\", \"consultation\", \"front_line\", \"always\", \"cleaning\", \"ocular\", \"cover\", \"side\", \"overwhelming\", \"coronavirus_name\", \"curative\", \"mask\", \"reasonable\", \"regular\", \"novel_pneumonia\", \"spread_rapidly\", \"patient\", \"take\", \"cancer\", \"traditional_chinese\", \"effect\", \"examine\", \"need\", \"treatment\", \"diagnosis_treatment\", \"understand\", \"surface\", \"confirm\", \"medical_staff\", \"perform\", \"hospital\", \"ncp\", \"infect\", \"outbreak\", \"contact\", \"disease\", \"city\", \"epidemic\", \"increase\", \"novel\", \"component\", \"journal\", \"psychological_impact\", \"wild_animal\", \"brain\", \"illustrate\", \"kill\", \"state_local\", \"conservation\", \"quality\", \"bad\", \"introduction\", \"bird\", \"century\", \"battle\", \"moderate_severe\", \"reason\", \"initiative\", \"destination_country\", \"framework\", \"ijcp\", \"food\", \"pharmaceutical\", \"power\", \"causative_agent\", \"warning\", \"police\", \"espii\", \"pace\", \"firm\", \"company\", \"science\", \"write\", \"get\", \"last_week\", \"capacity\", \"vaccine\", \"say\", \"psychological\", \"research\", \"scientific\", \"scientist\", \"world_health\", \"problem\", \"publish\", \"paper\", \"work\", \"year\", \"human\", \"response\", \"medical\", \"world\", \"animal\", \"lab\", \"loc\", \"crisis\", \"ventilator\", \"atypical_pneumonia\", \"myocardial\", \"japanese\", \"connectivity\", \"cruise_ship\", \"port\", \"breathing\", \"por\", \"continue_spread\", \"haplotype\", \"small_nodular\", \"posterior\", \"emerg\\u00eancia\", \"spontaneous\", \"entry_screen\", \"suction\", \"reagent\", \"western\", \"unlikely\", \"transcription\", \"infer\", \"descriptive\", \"limb\", \"class\", \"nodular\", \"distribute\", \"probability\", \"ggo\", \"filter\", \"fatality\", \"scientist\", \"place\", \"say\", \"score\", \"see\", \"use\", \"ct\", \"extent\", \"share\", \"parameter\", \"test\", \"drug\", \"protein\", \"control\"], \"Freq\": [910.0, 655.0, 204.0, 396.0, 251.0, 186.0, 272.0, 248.0, 295.0, 435.0, 72.0, 81.0, 139.0, 118.0, 121.0, 64.0, 117.0, 80.0, 114.0, 208.0, 179.0, 67.0, 141.0, 239.0, 138.0, 106.0, 97.0, 66.0, 96.0, 296.0, 61.7730946645578, 60.35304168108009, 52.15017414749708, 51.74064241341871, 50.20821509328762, 49.88212563612588, 48.709041445589826, 50.23921491029545, 47.65685075166395, 45.01592770711584, 42.058290416873, 41.89263411085877, 41.834662468007146, 267.87418287741724, 41.39691825372235, 40.61157163562762, 39.9412419479787, 38.22967654442602, 38.22967654442602, 38.22967654442602, 38.22967654442602, 38.22967654442602, 38.22967654442602, 38.22967654442602, 31.118179569541056, 29.726932512606577, 30.048295076646664, 241.82312107540125, 91.23252762227831, 45.4971196371803, 39.556647366589395, 131.26894016641512, 95.95432579002068, 70.88793827151567, 250.7856412752287, 81.28972505538358, 73.70735012370224, 76.27431362617884, 74.73238702914446, 302.2539724625916, 72.38386967581243, 72.03054785539074, 121.01198737284179, 61.86455570417162, 120.71991252278909, 89.08153071450764, 138.92372795772923, 119.24578355115844, 90.24414791773755, 323.50472748879736, 112.09661203879465, 74.60474023728698, 76.31103699531297, 61.382197559006286, 105.78198736103333, 65.46897919777501, 95.56316401153846, 87.43796971208579, 138.9946933872722, 98.23128219971564, 79.32145172214253, 103.56722909005204, 85.27649341046536, 81.72464884875065, 38.80526732576842, 20.05462421742148, 26.215086583584977, 17.935149882996377, 17.819621276836788, 15.976407529011357, 193.2078251874654, 13.993449580705443, 13.889515754828844, 13.98251653230914, 12.894857872592791, 14.026293639823313, 12.852086837087333, 12.594318812171675, 12.534944594260473, 12.515024767722823, 12.257429411911836, 12.240056704189902, 11.679909145853056, 11.008046672969028, 11.50100498975554, 10.484615752513761, 10.337524631342644, 10.25992633723388, 10.0970883925692, 9.879325703222342, 9.815080819237199, 9.718442013511101, 52.52736690944054, 9.44420255371465, 25.98552250988191, 57.60144716955748, 33.78961110444334, 27.181841936976127, 21.67640830312225, 27.538983526847925, 12.85126840549294, 559.3741843959866, 80.4662700482769, 98.45094103125784, 17.63700323785789, 79.80259787986064, 59.669675709125926, 19.4999252177112, 63.80463166494823, 45.17386682725888, 26.37537940560856, 22.488276475362046, 68.37734073034069, 65.49459309863647, 29.921166418374344, 33.810726639578654, 19.428001049961118, 50.427043874324205, 121.3288268766936, 31.758631183292827, 47.3648880524308, 71.24601932331986, 115.65304768542747, 35.415459401671384, 56.60118802133639, 64.85598090640558, 61.60157350681489, 29.49494520958663, 29.124888369920406, 28.533637416734738, 29.890543103521743, 30.4192099900065, 66.81030364243433, 52.29705883686965, 50.96243631470714, 50.35615096354319, 43.3865220489376, 41.741065279763795, 42.14082986298623, 34.281866460305736, 32.82454193151513, 28.109904341994522, 27.3295885411412, 27.295028346315117, 27.016253841727295, 26.666467180593497, 25.016803218684185, 24.076973771682216, 23.722129141476753, 23.285959285479702, 23.156051618297198, 23.053999959243054, 23.052300135790937, 23.030634735962256, 23.176114031004705, 23.2803462367253, 31.002818830939244, 22.782821918973806, 22.407050265963118, 43.27260448090234, 22.29345433288421, 22.144471637725797, 46.41503333950782, 53.52115997946075, 37.7035782142365, 102.80730061202858, 125.86984118981692, 50.571597966133574, 32.20680222577658, 50.661268408588356, 38.40158832144742, 51.94598563591044, 66.93739440991847, 67.47558998666673, 64.11891766272689, 45.925878447502264, 110.46710280791936, 128.0484787971722, 49.1030335060726, 96.4356637085296, 39.4103704237426, 38.788546299902414, 73.83423698805755, 47.72219238652634, 47.18510696914355, 48.29173526697756, 42.12388004663052, 40.27741526349826, 41.03155585825319, 71.43694312037802, 27.061465983718925, 23.987081257871374, 21.219839462247577, 18.752879336423373, 17.919975050790786, 17.36871944588835, 16.772802925209827, 15.373852096298402, 15.100937861748122, 15.094962165304956, 14.894279334265512, 14.319922522511984, 13.906096241680146, 13.39997994846189, 13.291017307127216, 13.130247578251478, 13.466363227771721, 13.91913944033896, 11.424157008422354, 11.187874080106221, 41.27386424192659, 10.247923926077409, 30.598772104691466, 9.228436731470083, 9.11018683090618, 8.99174982438711, 8.871303555054025, 8.718892997345803, 8.61669965811073, 32.64718683982594, 43.22405260300614, 10.779828948048253, 53.58598040018757, 211.6448331492963, 57.23447423501846, 23.73074609929177, 17.26000769662992, 21.343104015030374, 103.28346530636918, 43.52446397125193, 24.286665532747165, 30.845603131230174, 18.163119239531078, 30.76665292296559, 28.643240592869454, 18.529425923260437, 28.03828876813997, 25.112196142782917, 22.731017718790948, 25.913143581754493, 21.699340996445258, 22.219674152950198, 18.574301585644154, 18.39705483859147, 18.225025796243116, 21.53210662790476, 30.052534778978483, 17.208324565775758, 16.67364840713804, 16.118956596899366, 15.354192989778564, 18.8134670404471, 10.351807513303104, 10.197296404485693, 9.608310211668615, 9.707078137283125, 8.120324426274726, 8.03379837831815, 7.913445861857843, 7.792202492353332, 7.725819237160329, 7.436534171436914, 7.422044403427633, 7.361822737639401, 7.044193841710522, 6.979953390805885, 6.75978814244233, 7.380234853760787, 6.622305732810184, 5.969440187288427, 5.911210832167501, 5.840263901161153, 5.57147537470139, 5.041192072968055, 4.9684357588855175, 36.09271215760023, 30.300821576739384, 33.23207405451983, 39.66013749764694, 14.180274417948473, 22.598691246402087, 19.27229787369415, 29.913627436928543, 9.948748405152605, 44.05715286944478, 26.184383398384337, 29.561437767413864, 15.882558795202188, 10.982106799818704, 55.800910480164774, 21.534261973328213, 26.387894019350604, 37.996563712334456, 25.702345410882824, 16.636853581694783, 17.349292113603653, 12.881168505855063, 12.768256774578536, 16.76516409704803, 13.931998863963857, 13.22919884304976, 12.986347113764374, 35.36217598365172, 29.25959131912177, 28.315600554529226, 28.215543388316597, 28.215543388316597, 22.385890993885344, 21.659931554278664, 16.358331704510483, 15.072963108312763, 14.122662522424976, 14.122575024903053, 9.900777718309241, 9.70567261901407, 9.253576048149961, 8.898207362789316, 8.496088751465267, 8.263595336070143, 8.242385311773733, 8.204183268719897, 8.111877132985038, 8.050801987735957, 7.842217895188564, 7.803403994463567, 7.629940782233724, 7.550446783637575, 7.568925010303092, 7.431505152264788, 7.392898120680909, 7.564676380631436, 7.313327249261927, 17.385703857601754, 8.642607726801252, 14.766906776343262, 24.942806077746166, 17.30225497101469, 212.35618571536574, 37.078354878576604, 10.817682375025957, 14.28971404124477, 23.31808709252268, 14.372991682681784, 25.09883665869747, 49.95526518280135, 21.187104945524123, 16.15574119221481, 14.8335911377299, 29.15229685788152, 17.074616418121686, 16.813135073713507, 27.327208547454607, 16.147141435774387, 19.459248881316327, 22.704564468516125, 15.711105035059227, 18.720134814270843, 15.323366016480906, 16.554297404432, 15.951801968116921, 15.490165042451721, 10.268104328928851, 10.055320880675657, 8.787980743699178, 8.689611375790387, 7.93537629907533, 7.711974257299434, 7.527022336520112, 7.394708601255783, 6.371747898826827, 6.344621283605655, 6.291854053670207, 6.1525071132523435, 5.796968701230541, 5.640470790922431, 5.59232301015265, 5.31574045520928, 5.155812350923122, 5.0723450554274185, 4.941359283890755, 4.889491954032743, 4.813341534024524, 4.710808920242638, 4.661888862621815, 4.623928200858769, 4.583064039635516, 4.520810339363856, 4.290720442590486, 4.293248178341795, 4.208131160783729, 4.3808056703360165, 7.467395855583811, 11.341662950683338, 8.068682027792043, 12.848308290943159, 9.427972283356777, 7.4311343734363415, 24.04111196514057, 26.042332837535444, 6.8251616717029115, 18.45246529977679, 9.525600924922612, 9.40836776404504, 7.587111558241651, 7.589890276863578, 9.183767371439558, 8.864093075706647, 8.592437516323065, 8.556834331263195, 9.95466850663232, 8.235187418177976, 7.961603014219066, 7.871649957520917, 7.252553381379591, 6.932585353260281, 6.24613460923887, 6.048087704094272, 5.801560411128415, 5.240265147971567, 5.135341493911709, 4.935157710520451, 4.708686016231704, 4.427372966392208, 4.200665802601904, 4.200527871928184, 4.1991401876229455, 4.156011868980665, 3.5522513118517405, 3.403461813963656, 3.2135160171089763, 3.1752754110174446, 3.1743918767886026, 3.171197031378655, 3.1691549991701056, 3.1387408368164844, 5.57441701540257, 3.0266199542179217, 3.0221822367501994, 2.979892273309143, 2.886067101702608, 2.7958718106461276, 2.6985268636694277, 2.6222416267386137, 2.6121457596597737, 5.0608224278420035, 4.686968367896207, 3.785481908351642, 4.398649277588522, 9.51085073179192, 7.930894657773646, 12.103973727233766, 5.712608590527426, 6.650375604442174, 12.409462942428195, 4.016756043516495, 3.8623799045444502, 5.061501609250562, 4.169591607566662, 5.448039008002603, 5.198787808629913, 4.328569724179689, 4.30174654652453], \"Total\": [910.0, 655.0, 204.0, 396.0, 251.0, 186.0, 272.0, 248.0, 295.0, 435.0, 72.0, 81.0, 139.0, 118.0, 121.0, 64.0, 117.0, 80.0, 114.0, 208.0, 179.0, 67.0, 141.0, 239.0, 138.0, 106.0, 97.0, 66.0, 96.0, 296.0, 62.55469344200734, 61.13497636550077, 52.9342477320732, 52.52188769773568, 50.9929350306966, 50.66643251629992, 49.49027173110273, 51.061029352930035, 48.43842986458445, 45.797062419413926, 42.83932989529218, 42.67409623439203, 42.615668123028975, 272.93765705525266, 42.18305752916668, 41.398191180391024, 40.72219116306485, 39.01060380906724, 39.01060380906724, 39.01060380906724, 39.01060380906724, 39.01060380906724, 39.01060380906724, 39.01060380906724, 31.90760547242475, 30.512801920082932, 30.87282197513425, 248.69711481505018, 93.99793011058516, 46.96996007760387, 41.08648815762346, 143.63465895971942, 104.06897723203437, 75.94379042205847, 295.1152869283932, 88.90197559060758, 79.8463952858749, 83.61105628340788, 82.28727976235902, 396.3808723190688, 80.59247653156557, 80.86165771305195, 148.9789201784617, 67.74751732612387, 154.93121371954797, 108.1552139271452, 189.5647055750909, 168.2445012133702, 116.6325668909748, 655.2852556590268, 166.63080271806902, 93.7562363838465, 99.21863200638369, 70.25198697214806, 194.2229589960865, 80.6581015703753, 162.84146074778843, 138.92706751289748, 435.44755294916376, 208.89134047553262, 123.27185424678972, 296.66666406892807, 242.73477632292756, 251.73558510214315, 39.6058949649665, 20.85514153329458, 27.270871135158508, 18.735078255288936, 18.621799757173935, 16.776834345598655, 204.1398631784698, 14.793841384609863, 14.690209858553064, 14.79134759895507, 13.69492065316816, 14.89889964513615, 13.652187867784276, 13.394616569821334, 13.335469792639918, 13.315785672929145, 13.057461414852044, 13.04053000139498, 12.479940133463591, 11.80793224675483, 12.383306881600936, 11.291068624559102, 11.137670957037857, 11.060425116067561, 10.897423009959322, 10.679524058111983, 10.614990816694611, 10.518437775923617, 56.85364415620924, 10.244731688585295, 28.738272681194353, 66.22602337426302, 38.4140390745451, 30.623098418522503, 24.621229571163862, 32.01864675799201, 14.12265656809946, 910.6676458235667, 106.87053762140741, 141.65607477512205, 20.11182717571849, 117.48103962796797, 90.04892109919811, 23.971703896870164, 115.27305751904636, 74.2708747725375, 36.61264666949916, 29.636347299310444, 140.40534400647763, 138.01840557127187, 45.672724291937556, 55.48962444253788, 24.308988854155327, 103.52104445263335, 435.44755294916376, 54.641110911851975, 110.78384331403068, 251.73558510214315, 655.2852556590268, 69.8890816387945, 179.26076068595003, 242.73477632292756, 296.66666406892807, 49.84242262288843, 58.14268944684362, 51.57732958964896, 114.43348519952418, 186.79542096057472, 67.66793413779658, 53.15243888515626, 51.81946239464797, 51.21580127524594, 44.26023380946407, 42.595831282849666, 43.04334782081399, 35.13764164962294, 33.680231565899916, 28.96494438098464, 28.185258581152045, 28.151506341168123, 27.87777869824394, 27.52577001067967, 25.87398130765332, 24.933130777429916, 24.576983322271214, 24.14204458231279, 24.01330165786343, 23.908801288248046, 23.907654788053815, 23.886282380143633, 24.043106733097044, 24.15332960165317, 32.16868239375164, 23.641400155363442, 23.261992263132946, 44.92507821047225, 23.149364343366955, 22.999387479070062, 49.38993838361341, 58.545305143172556, 41.20975465811856, 139.98860957833958, 186.79542096057472, 62.269903879351645, 35.99450810627012, 65.9757668931113, 46.310575007853274, 68.96427269581469, 96.58019992651064, 97.8113356762175, 95.76568848208419, 63.59198336444958, 239.0819403241783, 435.44755294916376, 81.70020395653302, 296.66666406892807, 55.65117949455924, 54.696738855813734, 242.73477632292756, 99.95435711522467, 194.2229589960865, 251.73558510214315, 189.5647055750909, 110.78384331403068, 166.63080271806902, 72.23856230373303, 27.863166603433154, 24.789092991516174, 22.021528859419202, 19.55516600718454, 18.7225860921517, 18.170389054029236, 17.574748673041697, 16.175762935650457, 15.902880452140776, 15.89690030724813, 15.695893968628532, 15.121408248069534, 14.708249686626056, 14.202324216304769, 14.092744041450185, 13.932112071936524, 14.29303639921838, 14.839042980539446, 12.225707930334824, 11.99111858114932, 44.340602019657354, 11.050798708232765, 33.225611185967615, 10.031088178412357, 9.911659453798276, 9.79345034712459, 9.672998718419414, 9.520585199861346, 9.418392862752553, 36.72813371689544, 49.2758633091665, 12.128862380897807, 80.34798465423245, 655.2852556590268, 121.79028159538466, 42.72101378978604, 26.21029295056543, 40.267280459973854, 910.6676458235667, 179.26076068595003, 54.335689955565876, 95.02545812469072, 31.400893284002446, 138.01840557127187, 117.48103962796797, 33.79100039115683, 140.40534400647763, 115.27305751904636, 84.24681252373959, 168.2445012133702, 93.12248379034422, 208.89134047553262, 41.30023122956472, 48.40365326347912, 45.300890882714306, 22.33130731394848, 31.426174806753227, 18.007830183217262, 17.473046926197892, 16.936276003300577, 16.153336174556646, 20.0980945423381, 11.151275211499055, 10.998862864661456, 10.407481594284956, 10.51748406068434, 8.919475134698192, 8.833096109027444, 8.7177850806657, 8.595950764098973, 8.525034418352048, 8.236064272266812, 8.221105758407937, 8.161636361366938, 7.84479195881599, 7.779264191491194, 7.558944430926444, 8.271406646808938, 7.421974148242136, 6.768657359324424, 6.710462938942695, 6.639580757481259, 6.370922803381669, 5.840775922541652, 5.767771002464592, 45.37483067478927, 40.57304304761836, 47.24922739220126, 60.01603799356628, 18.475246596466118, 33.07734417254423, 31.184932342443886, 58.798438478312605, 13.064460244359486, 118.73591887536162, 56.22426774602163, 72.57866980252246, 32.479747365018426, 17.104040941276647, 396.3808723190688, 75.37140881364435, 121.79028159538466, 435.44755294916376, 208.89134047553262, 66.15732644842149, 96.58019992651064, 31.835540405490292, 39.454346811300624, 179.26076068595003, 71.65569699873052, 62.95576292527183, 138.92706751289748, 36.27601119830155, 30.173563604518257, 29.229476759678672, 29.130628443920955, 29.130628443920955, 23.299765162695778, 22.592126568564545, 17.272500731023964, 15.986761279941781, 15.036499467692007, 15.036852444842006, 10.814895485709524, 10.625154907389284, 10.168569623132312, 9.81223998626644, 9.410442933608905, 9.177471046903566, 9.156803311447456, 9.1180263024528, 9.025824531770642, 8.964697569884917, 8.756521178168725, 8.717626484952211, 8.543913338264362, 8.464418529552384, 8.485494527677186, 8.345618552452693, 8.306695346642632, 8.507132941547852, 8.227383995710959, 20.062133493318917, 9.7810521108565, 17.85336365765779, 32.50417174232005, 22.22015417996012, 910.6676458235667, 81.96015637280817, 14.283388225341119, 22.005516932099233, 51.317149687807074, 24.254329466204133, 66.21612463320486, 251.73558510214315, 53.61018599076995, 33.37721354348649, 28.231171033812, 114.43348519952418, 40.76366420617564, 42.901234670455544, 186.79542096057472, 48.5933446460764, 94.37173835253692, 295.1152869283932, 47.86133281786044, 296.66666406892807, 47.50034312049799, 194.2229589960865, 93.12248379034422, 239.0819403241783, 11.081650761667012, 10.867477839616914, 9.600366468417198, 9.501370708754644, 8.746984119087092, 8.534537527805808, 8.351999326197333, 8.207653168163258, 7.185038841029812, 7.1566805983967425, 7.1049459332837, 6.965477982106299, 6.60895679408327, 6.452613399157567, 6.404348353234921, 6.128330633845413, 5.9697478167590425, 5.884366177644451, 5.756480365453492, 5.704423604489872, 5.624988098130829, 5.523337277090126, 5.473603840527754, 5.43637483783232, 5.395863592796616, 5.335483464875095, 5.102824428837044, 5.1099812095927755, 5.020438357919772, 5.232262767879452, 9.626753760592909, 15.978018889985009, 10.89385474111863, 19.6818703298972, 13.572049379429025, 10.105019347351597, 52.32161992428291, 64.76136870563401, 9.7218666077454, 52.13801708852974, 19.679253771329407, 26.36395181610699, 16.781258767119006, 18.012698435703662, 34.3145084442514, 35.406557038394936, 48.42412836555277, 50.16819923386555, 118.73591887536162, 48.87172985945445, 58.14268944684362, 58.812957669948545, 31.184932342443886, 7.779490808752385, 7.092526089031072, 6.896347946818553, 6.648110328221714, 6.087162294932897, 5.984103402836654, 5.782018469678892, 5.5550828718640854, 5.273871940511869, 5.046977016643278, 5.046849220819476, 5.0462405472178125, 5.005144558424026, 4.398639014132378, 4.254450383040421, 4.0615059272753, 4.021482972943323, 4.020720068070093, 4.017605378466357, 4.017195023555694, 3.9879451716042658, 7.107775565626976, 3.87351929513471, 3.878490568780507, 3.826797653817713, 3.7357917901383186, 3.6421308776353714, 3.5490232216119044, 3.472462467520619, 3.4596998939446593, 6.78494725602675, 6.479511907187085, 5.362639357281946, 6.788492125172256, 26.36395181610699, 24.109529388130984, 64.76136870563401, 16.341120757073586, 25.747053620144218, 208.89134047553262, 8.339291161966518, 10.004074629150914, 37.625388794626126, 15.666849429610343, 90.04892109919811, 67.74751732612387, 58.798438478312605, 97.8113356762175], \"Category\": [\"Default\", \"Default\", \"Default\", \"Default\", \"Default\", \"Default\", \"Default\", \"Default\", \"Default\", \"Default\", \"Default\", \"Default\", \"Default\", \"Default\", \"Default\", \"Default\", \"Default\", \"Default\", \"Default\", \"Default\", \"Default\", \"Default\", \"Default\", \"Default\", \"Default\", \"Default\", \"Default\", \"Default\", \"Default\", \"Default\", \"Topic1\", \"Topic1\", \"Topic1\", \"Topic1\", \"Topic1\", \"Topic1\", \"Topic1\", \"Topic1\", \"Topic1\", \"Topic1\", \"Topic1\", \"Topic1\", \"Topic1\", \"Topic1\", \"Topic1\", \"Topic1\", \"Topic1\", \"Topic1\", \"Topic1\", \"Topic1\", \"Topic1\", \"Topic1\", \"Topic1\", \"Topic1\", \"Topic1\", \"Topic1\", \"Topic1\", \"Topic1\", \"Topic1\", \"Topic1\", \"Topic1\", \"Topic1\", \"Topic1\", \"Topic1\", \"Topic1\", \"Topic1\", \"Topic1\", \"Topic1\", \"Topic1\", \"Topic1\", \"Topic1\", \"Topic1\", \"Topic1\", \"Topic1\", \"Topic1\", \"Topic1\", \"Topic1\", \"Topic1\", \"Topic1\", \"Topic1\", \"Topic1\", \"Topic1\", \"Topic1\", \"Topic1\", \"Topic1\", \"Topic1\", \"Topic1\", \"Topic1\", \"Topic1\", \"Topic1\", \"Topic1\", \"Topic1\", \"Topic1\", \"Topic1\", \"Topic2\", \"Topic2\", \"Topic2\", \"Topic2\", \"Topic2\", \"Topic2\", \"Topic2\", \"Topic2\", \"Topic2\", \"Topic2\", \"Topic2\", \"Topic2\", \"Topic2\", \"Topic2\", \"Topic2\", \"Topic2\", \"Topic2\", \"Topic2\", \"Topic2\", \"Topic2\", \"Topic2\", \"Topic2\", \"Topic2\", \"Topic2\", \"Topic2\", \"Topic2\", \"Topic2\", \"Topic2\", \"Topic2\", \"Topic2\", \"Topic2\", \"Topic2\", \"Topic2\", \"Topic2\", \"Topic2\", \"Topic2\", \"Topic2\", \"Topic2\", \"Topic2\", \"Topic2\", \"Topic2\", \"Topic2\", \"Topic2\", \"Topic2\", \"Topic2\", \"Topic2\", \"Topic2\", \"Topic2\", \"Topic2\", \"Topic2\", \"Topic2\", \"Topic2\", \"Topic2\", \"Topic2\", \"Topic2\", \"Topic2\", \"Topic2\", \"Topic2\", \"Topic2\", \"Topic2\", \"Topic2\", \"Topic2\", \"Topic2\", \"Topic2\", \"Topic2\", \"Topic2\", \"Topic2\", \"Topic2\", \"Topic3\", \"Topic3\", \"Topic3\", \"Topic3\", \"Topic3\", \"Topic3\", \"Topic3\", \"Topic3\", \"Topic3\", \"Topic3\", \"Topic3\", \"Topic3\", \"Topic3\", \"Topic3\", \"Topic3\", \"Topic3\", \"Topic3\", \"Topic3\", \"Topic3\", \"Topic3\", \"Topic3\", \"Topic3\", \"Topic3\", \"Topic3\", \"Topic3\", \"Topic3\", \"Topic3\", \"Topic3\", \"Topic3\", \"Topic3\", \"Topic3\", \"Topic3\", \"Topic3\", \"Topic3\", \"Topic3\", \"Topic3\", \"Topic3\", \"Topic3\", \"Topic3\", \"Topic3\", \"Topic3\", \"Topic3\", \"Topic3\", \"Topic3\", \"Topic3\", \"Topic3\", \"Topic3\", \"Topic3\", \"Topic3\", \"Topic3\", \"Topic3\", \"Topic3\", \"Topic3\", \"Topic3\", \"Topic3\", \"Topic3\", \"Topic3\", \"Topic4\", \"Topic4\", \"Topic4\", \"Topic4\", \"Topic4\", \"Topic4\", \"Topic4\", \"Topic4\", \"Topic4\", \"Topic4\", \"Topic4\", \"Topic4\", \"Topic4\", \"Topic4\", \"Topic4\", \"Topic4\", \"Topic4\", \"Topic4\", \"Topic4\", \"Topic4\", \"Topic4\", \"Topic4\", \"Topic4\", \"Topic4\", \"Topic4\", \"Topic4\", \"Topic4\", \"Topic4\", \"Topic4\", \"Topic4\", \"Topic4\", \"Topic4\", \"Topic4\", \"Topic4\", \"Topic4\", \"Topic4\", \"Topic4\", \"Topic4\", \"Topic4\", \"Topic4\", \"Topic4\", \"Topic4\", \"Topic4\", \"Topic4\", \"Topic4\", \"Topic4\", \"Topic4\", \"Topic4\", \"Topic4\", \"Topic4\", \"Topic4\", \"Topic4\", \"Topic4\", \"Topic4\", \"Topic4\", \"Topic4\", \"Topic5\", \"Topic5\", \"Topic5\", \"Topic5\", \"Topic5\", \"Topic5\", \"Topic5\", \"Topic5\", \"Topic5\", \"Topic5\", \"Topic5\", \"Topic5\", \"Topic5\", \"Topic5\", \"Topic5\", \"Topic5\", \"Topic5\", \"Topic5\", \"Topic5\", \"Topic5\", \"Topic5\", \"Topic5\", \"Topic5\", \"Topic5\", \"Topic5\", \"Topic5\", \"Topic5\", \"Topic5\", \"Topic5\", \"Topic5\", \"Topic5\", \"Topic5\", \"Topic5\", \"Topic5\", \"Topic5\", \"Topic5\", \"Topic5\", \"Topic5\", \"Topic5\", \"Topic5\", \"Topic5\", \"Topic5\", \"Topic5\", \"Topic5\", \"Topic5\", \"Topic5\", \"Topic5\", \"Topic5\", \"Topic5\", \"Topic5\", \"Topic5\", \"Topic5\", \"Topic5\", \"Topic5\", \"Topic5\", \"Topic5\", \"Topic5\", \"Topic6\", \"Topic6\", \"Topic6\", \"Topic6\", \"Topic6\", \"Topic6\", \"Topic6\", \"Topic6\", \"Topic6\", \"Topic6\", \"Topic6\", \"Topic6\", \"Topic6\", \"Topic6\", \"Topic6\", \"Topic6\", \"Topic6\", \"Topic6\", \"Topic6\", \"Topic6\", \"Topic6\", \"Topic6\", \"Topic6\", \"Topic6\", \"Topic6\", \"Topic6\", \"Topic6\", \"Topic6\", \"Topic6\", \"Topic6\", \"Topic6\", \"Topic6\", \"Topic6\", \"Topic6\", \"Topic6\", \"Topic6\", \"Topic6\", \"Topic6\", \"Topic6\", \"Topic6\", \"Topic6\", \"Topic6\", \"Topic6\", \"Topic6\", \"Topic6\", \"Topic6\", \"Topic6\", \"Topic6\", \"Topic6\", \"Topic6\", \"Topic6\", \"Topic6\", \"Topic6\", \"Topic6\", \"Topic6\", \"Topic6\", \"Topic6\", \"Topic6\", \"Topic6\", \"Topic7\", \"Topic7\", \"Topic7\", \"Topic7\", \"Topic7\", \"Topic7\", \"Topic7\", \"Topic7\", \"Topic7\", \"Topic7\", \"Topic7\", \"Topic7\", \"Topic7\", \"Topic7\", \"Topic7\", \"Topic7\", \"Topic7\", \"Topic7\", \"Topic7\", \"Topic7\", \"Topic7\", \"Topic7\", \"Topic7\", \"Topic7\", \"Topic7\", \"Topic7\", \"Topic7\", \"Topic7\", \"Topic7\", \"Topic7\", \"Topic7\", \"Topic7\", \"Topic7\", \"Topic7\", \"Topic7\", \"Topic7\", \"Topic7\", \"Topic7\", \"Topic7\", \"Topic7\", \"Topic7\", \"Topic7\", \"Topic7\", \"Topic7\", \"Topic7\", \"Topic7\", \"Topic7\", \"Topic7\", \"Topic7\", \"Topic7\", \"Topic7\", \"Topic7\", \"Topic7\", \"Topic8\", \"Topic8\", \"Topic8\", \"Topic8\", \"Topic8\", \"Topic8\", \"Topic8\", \"Topic8\", \"Topic8\", \"Topic8\", \"Topic8\", \"Topic8\", \"Topic8\", \"Topic8\", \"Topic8\", \"Topic8\", \"Topic8\", \"Topic8\", \"Topic8\", \"Topic8\", \"Topic8\", \"Topic8\", \"Topic8\", \"Topic8\", \"Topic8\", \"Topic8\", \"Topic8\", \"Topic8\", \"Topic8\", \"Topic8\", \"Topic8\", \"Topic8\", \"Topic8\", \"Topic8\", \"Topic8\", \"Topic8\", \"Topic8\", \"Topic8\", \"Topic8\", \"Topic8\", \"Topic8\", \"Topic8\", \"Topic8\", \"Topic8\", \"Topic8\", \"Topic8\", \"Topic8\", \"Topic8\"], \"logprob\": [30.0, 29.0, 28.0, 27.0, 26.0, 25.0, 24.0, 23.0, 22.0, 21.0, 20.0, 19.0, 18.0, 17.0, 16.0, 15.0, 14.0, 13.0, 12.0, 11.0, 10.0, 9.0, 8.0, 7.0, 6.0, 5.0, 4.0, 3.0, 2.0, 1.0, -5.6613, -5.6846, -5.8307, -5.8386, -5.8686, -5.8751, -5.8989, -5.868, -5.9208, -5.9778, -6.0458, -6.0497, -6.0511, -4.1943, -6.0616, -6.0808, -6.0974, -6.1412, -6.1412, -6.1412, -6.1412, -6.1412, -6.1412, -6.1412, -6.347, -6.3928, -6.382, -4.2966, -5.2714, -5.9672, -6.1071, -4.9076, -5.2209, -5.5237, -4.2602, -5.3868, -5.4847, -5.4505, -5.4709, -4.0735, -5.5028, -5.5077, -4.9889, -5.6599, -4.9913, -5.2953, -4.8509, -5.0036, -5.2823, -4.0056, -5.0654, -5.4726, -5.45, -5.6677, -5.1234, -5.6032, -5.225, -5.3139, -4.8504, -5.1975, -5.4113, -5.1446, -5.3389, -5.3815, -5.3979, -6.058, -5.7901, -6.1697, -6.1761, -6.2853, -3.7927, -6.4178, -6.4253, -6.4186, -6.4996, -6.4155, -6.5029, -6.5232, -6.5279, -6.5295, -6.5503, -6.5517, -6.5986, -6.6578, -6.614, -6.7065, -6.7207, -6.7282, -6.7442, -6.766, -6.7725, -6.7824, -5.0951, -6.811, -5.7989, -5.0029, -5.5363, -5.7539, -5.9802, -5.7408, -6.503, -2.7296, -4.6686, -4.4669, -6.1864, -4.6769, -4.9676, -6.086, -4.9006, -5.2459, -5.784, -5.9434, -4.8314, -4.8745, -5.6579, -5.5357, -6.0897, -5.1359, -4.2579, -5.5983, -5.1986, -4.7903, -4.3058, -5.4893, -5.0204, -4.8843, -4.9357, -5.6722, -5.6848, -5.7053, -5.6589, -5.6414, -4.711, -4.9559, -4.9818, -4.9937, -5.1427, -5.1814, -5.1719, -5.3783, -5.4217, -5.5767, -5.6049, -5.6062, -5.6164, -5.6295, -5.6933, -5.7316, -5.7465, -5.765, -5.7706, -5.775, -5.7751, -5.776, -5.7697, -5.7653, -5.4788, -5.7869, -5.8035, -5.1454, -5.8086, -5.8153, -5.0752, -4.9328, -5.2831, -4.28, -4.0776, -4.9895, -5.4407, -4.9877, -5.2648, -4.9627, -4.7091, -4.7011, -4.7521, -5.0858, -4.2082, -4.0605, -5.0189, -4.344, -5.2388, -5.2547, -4.611, -5.0475, -5.0588, -5.0356, -5.1723, -5.2171, -5.1985, -4.1576, -5.1283, -5.2489, -5.3715, -5.495, -5.5405, -5.5717, -5.6066, -5.6937, -5.7116, -5.712, -5.7254, -5.7647, -5.7941, -5.8311, -5.8393, -5.8515, -5.8262, -5.7931, -5.9907, -6.0116, -4.7062, -6.0993, -5.0054, -6.2041, -6.217, -6.2301, -6.2436, -6.2609, -6.2727, -4.9406, -4.66, -6.0487, -4.4451, -3.0715, -4.3792, -5.2596, -5.578, -5.3657, -3.7889, -4.6531, -5.2365, -4.9974, -5.527, -5.0, -5.0715, -5.507, -5.0928, -5.203, -5.3027, -5.1716, -5.3491, -5.3254, -5.5046, -5.5142, -5.5236, -5.1505, -4.8171, -5.3747, -5.4062, -5.4401, -5.4887, -5.2855, -5.8829, -5.8979, -5.9574, -5.9472, -6.1257, -6.1364, -6.1515, -6.1669, -6.1755, -6.2137, -6.2156, -6.2238, -6.2679, -6.277, -6.3091, -6.2213, -6.3296, -6.4334, -6.4432, -6.4553, -6.5024, -6.6024, -6.617, -4.634, -4.8089, -4.7165, -4.5397, -5.5682, -5.1022, -5.2614, -4.8218, -5.9226, -4.4346, -4.9549, -4.8336, -5.4548, -5.8238, -4.1983, -5.1504, -4.9472, -4.5826, -4.9735, -5.4084, -5.3665, -5.6643, -5.6731, -5.4008, -5.5859, -5.6376, -5.6562, -4.3295, -4.519, -4.5518, -4.5553, -4.5553, -4.7867, -4.8197, -5.1004, -5.1823, -5.2474, -5.2474, -5.6026, -5.6225, -5.6702, -5.7093, -5.7556, -5.7833, -5.7859, -5.7905, -5.8018, -5.8094, -5.8356, -5.8406, -5.8631, -5.8736, -5.8711, -5.8894, -5.8946, -5.8717, -5.9055, -5.0395, -5.7385, -5.2028, -4.6786, -5.0443, -2.5369, -4.2821, -5.514, -5.2356, -4.7459, -5.2298, -4.6723, -3.984, -4.8418, -5.1129, -5.1983, -4.5226, -5.0576, -5.073, -4.5873, -5.1134, -4.9268, -4.7726, -5.1408, -4.9656, -5.1658, -5.0885, -5.1256, -5.155, -5.4714, -5.4923, -5.627, -5.6383, -5.7291, -5.7576, -5.7819, -5.7996, -5.9485, -5.9528, -5.9612, -5.9835, -6.0431, -6.0704, -6.079, -6.1297, -6.1603, -6.1766, -6.2028, -6.2133, -6.229, -6.2505, -6.261, -6.2692, -6.278, -6.2917, -6.344, -6.3434, -6.3634, -6.3232, -5.7899, -5.3719, -5.7124, -5.2472, -5.5567, -5.7947, -4.6206, -4.5407, -5.8798, -4.8852, -5.5464, -5.5588, -5.774, -5.7736, -5.583, -5.6184, -5.6495, -5.6537, -5.5024, -5.692, -5.7258, -5.7371, -5.8191, -5.2223, -5.3266, -5.3588, -5.4004, -5.5022, -5.5224, -5.5622, -5.6091, -5.6707, -5.7233, -5.7233, -5.7237, -5.734, -5.891, -5.9338, -5.9912, -6.0032, -6.0034, -6.0044, -6.0051, -6.0147, -5.4404, -6.0511, -6.0526, -6.0667, -6.0987, -6.1304, -6.1658, -6.1945, -6.1984, -5.537, -5.6138, -5.8274, -5.6773, -4.9061, -5.0878, -4.665, -5.4159, -5.2639, -4.6401, -5.7681, -5.8073, -5.5369, -5.7307, -5.4633, -5.5101, -5.6933, -5.6995], \"loglift\": [30.0, 29.0, 28.0, 27.0, 26.0, 25.0, 24.0, 23.0, 22.0, 21.0, 20.0, 19.0, 18.0, 17.0, 16.0, 15.0, 14.0, 13.0, 12.0, 11.0, 10.0, 9.0, 8.0, 7.0, 6.0, 5.0, 4.0, 3.0, 2.0, 1.0, 0.991, 0.9907, 0.9886, 0.9886, 0.9881, 0.988, 0.9876, 0.9873, 0.9873, 0.9864, 0.9852, 0.9851, 0.9851, 0.9848, 0.9847, 0.9844, 0.9842, 0.9833, 0.9833, 0.9833, 0.9833, 0.9833, 0.9833, 0.9833, 0.9785, 0.9775, 0.9765, 0.9755, 0.9737, 0.9717, 0.9656, 0.9135, 0.9224, 0.9347, 0.8408, 0.914, 0.9236, 0.9117, 0.9073, 0.7325, 0.8961, 0.8879, 0.7956, 0.9127, 0.7541, 0.8095, 0.6928, 0.6593, 0.747, 0.2977, 0.6071, 0.7751, 0.7411, 0.8686, 0.3959, 0.7949, 0.4706, 0.5405, -0.1384, 0.2491, 0.5627, -0.0488, -0.0425, -0.1215, 1.7115, 1.6928, 1.6925, 1.6883, 1.6879, 1.6831, 1.6769, 1.6763, 1.6759, 1.6757, 1.6717, 1.6716, 1.6715, 1.6703, 1.67, 1.6699, 1.6687, 1.6686, 1.6657, 1.6618, 1.658, 1.6578, 1.6574, 1.6568, 1.6557, 1.6541, 1.6536, 1.6528, 1.6528, 1.6506, 1.6312, 1.5924, 1.6037, 1.6127, 1.6046, 1.5812, 1.6376, 1.2446, 1.4482, 1.3681, 1.6006, 1.3452, 1.3204, 1.5255, 1.1405, 1.2347, 1.404, 1.4559, 1.0124, 0.9865, 1.309, 1.2365, 1.5078, 1.0127, 0.4541, 1.1893, 0.8822, 0.4697, -0.0025, 1.0522, 0.5791, 0.4121, 0.16, 1.2073, 1.0406, 1.1399, 0.3895, -0.083, 1.8627, 1.8593, 1.8588, 1.8586, 1.8556, 1.8552, 1.8543, 1.8508, 1.8498, 1.8455, 1.8447, 1.8446, 1.8441, 1.8438, 1.8418, 1.8406, 1.8401, 1.8394, 1.8391, 1.8391, 1.8391, 1.839, 1.8388, 1.8387, 1.8386, 1.8385, 1.8381, 1.838, 1.8378, 1.8376, 1.8134, 1.7858, 1.7866, 1.5668, 1.4807, 1.6674, 1.7643, 1.6114, 1.6882, 1.5921, 1.5089, 1.5042, 1.4743, 1.55, 1.1034, 0.6515, 1.3664, 0.7518, 1.5304, 1.5318, 0.6854, 1.1362, 0.4606, 0.2244, 0.3714, 0.8637, 0.4741, 2.3508, 2.3328, 2.3291, 2.3249, 2.3201, 2.3182, 2.3169, 2.3153, 2.3111, 2.3102, 2.3102, 2.3096, 2.3075, 2.3059, 2.3038, 2.3034, 2.3027, 2.3024, 2.298, 2.2942, 2.2926, 2.2903, 2.2866, 2.2796, 2.2786, 2.2777, 2.2766, 2.2755, 2.274, 2.273, 2.2442, 2.2309, 2.2441, 1.9569, 1.2318, 1.6068, 1.7741, 1.9442, 1.7272, 0.1853, 0.9465, 1.5567, 1.2368, 1.8145, 0.861, 0.9506, 1.7611, 0.751, 0.838, 1.052, 0.4913, 0.9053, 0.1211, 1.5629, 1.3946, 1.4514, 2.5319, 2.5236, 2.5229, 2.5215, 2.5188, 2.5176, 2.5023, 2.4939, 2.4926, 2.4884, 2.4881, 2.4744, 2.4735, 2.4715, 2.4701, 2.4699, 2.4662, 2.4661, 2.4652, 2.4607, 2.4599, 2.4566, 2.4543, 2.4543, 2.4427, 2.4415, 2.44, 2.4342, 2.4211, 2.4191, 2.3394, 2.2764, 2.2164, 2.154, 2.3037, 2.1873, 2.087, 1.8925, 2.2959, 1.5769, 1.8041, 1.6701, 1.8529, 2.1253, 0.6077, 1.3155, 1.0389, 0.1294, 0.4731, 1.1879, 0.8515, 1.6635, 1.4401, 0.1988, 0.9306, 1.0083, 0.1983, 2.8677, 2.8624, 2.8614, 2.8613, 2.8613, 2.8532, 2.8511, 2.8388, 2.8343, 2.8305, 2.8305, 2.8049, 2.8027, 2.7989, 2.7954, 2.791, 2.7883, 2.788, 2.7876, 2.7864, 2.7857, 2.7829, 2.7824, 2.7801, 2.7789, 2.7789, 2.7772, 2.7767, 2.7758, 2.7754, 2.75, 2.7695, 2.7034, 2.6284, 2.643, 1.4373, 2.1, 2.6153, 2.4614, 2.1044, 2.37, 1.9231, 1.276, 1.9649, 2.1676, 2.2497, 1.5257, 2.023, 1.9565, 0.9711, 1.7915, 1.3143, 0.3284, 1.7793, 0.1302, 1.7618, 0.4308, 1.1289, 0.1566, 2.9117, 2.9103, 2.8995, 2.8987, 2.8906, 2.8866, 2.884, 2.8837, 2.8678, 2.8675, 2.8664, 2.8639, 2.8569, 2.8534, 2.8524, 2.8457, 2.8414, 2.8395, 2.8353, 2.8338, 2.8321, 2.8288, 2.8274, 2.8261, 2.8247, 2.8223, 2.8146, 2.8138, 2.8115, 2.8104, 2.734, 2.6452, 2.6878, 2.5615, 2.6236, 2.6806, 2.2103, 2.077, 2.6342, 1.9493, 2.2624, 1.9576, 2.1942, 2.1237, 1.6698, 1.6031, 1.2588, 1.2193, 0.5091, 1.2072, 0.9997, 0.9769, 1.5294, 3.5146, 3.5027, 3.4986, 3.4936, 3.48, 3.4769, 3.4714, 3.4645, 3.4549, 3.4463, 3.4463, 3.4461, 3.4439, 3.4161, 3.4066, 3.3956, 3.3936, 3.3935, 3.3932, 3.3927, 3.3904, 3.3868, 3.3831, 3.3804, 3.3797, 3.3718, 3.3654, 3.3559, 3.349, 3.3488, 3.3366, 3.306, 3.2815, 3.1959, 2.6103, 2.518, 1.9526, 2.5788, 2.2762, 0.8065, 2.8993, 2.6781, 1.6238, 2.3061, 0.8247, 1.0625, 1.0209, 0.5058]}, \"token.table\": {\"Topic\": [4, 2, 6, 1, 1, 2, 3, 5, 6, 4, 1, 2, 5, 7, 5, 1, 5, 6, 2, 5, 8, 3, 7, 3, 4, 1, 4, 5, 7, 7, 3, 5, 8, 1, 3, 4, 5, 3, 1, 7, 2, 4, 7, 8, 5, 1, 5, 6, 6, 3, 7, 1, 2, 3, 4, 7, 1, 2, 3, 4, 5, 7, 1, 2, 4, 5, 2, 5, 7, 1, 3, 4, 6, 8, 4, 2, 3, 3, 1, 2, 3, 4, 4, 1, 6, 8, 6, 1, 1, 2, 3, 6, 2, 1, 2, 4, 2, 2, 5, 2, 1, 7, 1, 2, 4, 5, 8, 7, 1, 2, 4, 1, 2, 3, 4, 6, 1, 2, 8, 6, 8, 7, 4, 6, 1, 3, 6, 8, 1, 3, 5, 8, 1, 4, 7, 6, 1, 5, 7, 4, 1, 2, 1, 3, 6, 7, 1, 4, 5, 6, 5, 7, 8, 2, 5, 2, 2, 8, 3, 8, 6, 3, 1, 2, 4, 5, 1, 2, 4, 6, 1, 2, 3, 4, 1, 2, 6, 1, 8, 7, 1, 2, 3, 5, 2, 3, 4, 6, 2, 3, 4, 6, 2, 3, 6, 6, 3, 6, 6, 1, 2, 3, 5, 6, 7, 8, 6, 8, 1, 3, 4, 2, 5, 5, 5, 6, 1, 8, 2, 1, 1, 2, 3, 6, 3, 2, 2, 8, 8, 3, 1, 3, 4, 5, 6, 7, 6, 7, 1, 4, 8, 2, 4, 6, 1, 2, 3, 3, 4, 3, 8, 1, 3, 6, 1, 2, 3, 5, 3, 8, 1, 2, 3, 4, 1, 4, 3, 8, 1, 2, 4, 5, 8, 1, 2, 3, 4, 5, 7, 7, 1, 3, 4, 5, 6, 7, 7, 5, 7, 6, 3, 2, 7, 5, 5, 1, 5, 7, 8, 3, 8, 1, 1, 6, 3, 4, 1, 2, 3, 4, 1, 3, 8, 1, 2, 3, 7, 3, 1, 2, 4, 5, 8, 1, 2, 3, 4, 6, 6, 1, 5, 1, 2, 3, 4, 5, 7, 4, 1, 2, 5, 7, 1, 2, 4, 5, 8, 7, 7, 2, 3, 4, 4, 5, 5, 5, 2, 3, 5, 7, 1, 2, 3, 4, 6, 7, 1, 2, 3, 4, 5, 6, 3, 4, 1, 1, 2, 3, 4, 5, 6, 1, 2, 3, 4, 5, 6, 8, 4, 1, 2, 7, 2, 1, 2, 3, 4, 7, 1, 5, 7, 4, 1, 6, 1, 2, 3, 8, 7, 7, 1, 8, 1, 7, 5, 4, 1, 8, 1, 3, 2, 8, 2, 4, 6, 1, 2, 3, 4, 1, 2, 3, 6, 4, 1, 3, 4, 5, 7, 5, 6, 1, 2, 4, 1, 2, 3, 6, 5, 1, 2, 3, 6, 7, 2, 6, 5, 1, 2, 3, 4, 6, 2, 3, 7, 5, 1, 5, 7, 2, 3, 8, 3, 4, 6, 1, 3, 6, 2, 4, 8, 2, 1, 2, 3, 4, 5, 7, 6, 8, 3, 1, 2, 3, 4, 5, 6, 7, 4, 6, 2, 1, 2, 6, 8, 6, 1, 2, 2, 4, 6, 6, 2, 1, 3, 4, 5, 6, 7, 8, 1, 2, 6, 7, 4, 1, 3, 5, 7, 4, 5, 8, 5, 4, 5, 1, 2, 3, 4, 6, 6, 3, 5, 1, 3, 4, 7, 1, 2, 3, 4, 6, 4, 4, 7, 1, 2, 3, 8, 4, 4, 1, 2, 3, 4, 6, 7, 6, 1, 3, 8, 8, 2, 3, 5, 1, 2, 1, 8, 1, 3, 5, 6, 7, 7, 3, 6, 2, 3, 6, 2, 3, 5, 3, 3, 2, 8, 3, 5, 7, 2, 2, 3, 5, 1, 2, 5, 7, 8, 1, 1, 6, 7, 7, 1, 3, 1, 3, 7, 1, 3, 7, 3, 7, 3, 4, 5, 2, 8, 7, 6, 2, 8, 1, 1, 4, 5, 1, 2, 3, 6, 3, 3, 6, 3, 1, 2, 1, 3, 6, 1, 2, 3, 1, 3, 4, 7, 5, 1, 2, 3, 4, 2, 1, 3, 6, 7, 1, 3, 6, 7, 1, 1, 2, 4, 5, 1, 2, 5, 3, 1, 4, 7, 8, 1, 7, 1, 3, 5, 7, 1, 7, 8, 2, 8, 1, 3, 4, 8, 1, 5, 1, 2, 3, 4, 1, 3, 4, 7, 4, 4, 1, 2, 8, 1, 2, 4, 5, 8, 5, 6, 3, 4, 5, 2, 2, 3, 4, 6, 7, 8, 5, 5, 8, 1, 3, 5, 3, 6, 3, 1, 7, 1, 5, 1, 2, 3, 4, 5, 4, 8, 1, 2, 4, 5, 1, 6, 2, 2, 4, 2, 1, 2, 5, 1, 2, 3, 5, 6, 1, 2, 3, 6, 1, 2, 4, 5, 8, 4, 1, 2, 3, 1, 2, 3, 4, 5, 6, 1, 1, 2, 3, 6, 3, 2, 6, 8, 1, 2, 3, 3, 1, 2, 3, 6, 3, 2, 1, 3, 6, 1, 4, 8, 1, 2, 3, 4, 5, 6, 7, 8, 1, 5, 7, 2, 4, 5, 3, 8, 1, 1, 2, 3, 5, 6, 7, 5, 1, 3, 4, 5, 6, 7, 1, 1, 6, 1, 2, 8, 5, 8, 2, 7, 1, 2, 3, 5, 6, 7, 1, 3, 7, 5, 7, 8, 2, 7, 1, 2, 4, 5, 7], \"Freq\": [0.917345610883424, 0.9492570515180461, 0.8773828605701605, 0.9900935736670321, 0.5895304522518771, 0.12281884421914105, 0.23949674622732506, 0.049127537687656424, 0.9176809781663702, 0.897210735258879, 0.1282670732158635, 0.032066768303965876, 0.6092685977753517, 0.22446737812776116, 0.8462889444204222, 0.2923285799634434, 0.6431228759195755, 0.058465715992688676, 0.2464690653906227, 0.7394071961718681, 0.8214008034847572, 0.9590961020979476, 0.8444821475547772, 0.0824479632628149, 0.9069275958909638, 0.0423287344658277, 0.1693149378633108, 0.6984241186861571, 0.0846574689316554, 0.9368634666740638, 0.9223626022264807, 0.017080788930120012, 0.05124236679036004, 0.9735560714399519, 0.024338901785998797, 0.9273132933310279, 0.9851639982697502, 0.9685133199547483, 0.9740941254328305, 0.9078588628952085, 0.8850930758418984, 0.10412859715787041, 0.9146009517203681, 0.792573707868868, 0.943145295333307, 0.9903814352985636, 0.21003419865585524, 0.7701253950714692, 0.9411627488880638, 0.19792144193411917, 0.6927250467694172, 0.49444115704106606, 0.1770221426443323, 0.006104211815321803, 0.3235232262120556, 0.9266357301313015, 0.812195442516661, 0.12753482155220294, 0.006712359029063314, 0.013424718058126627, 0.03356179514531657, 0.013424718058126627, 0.13329770287164908, 0.06664885143582454, 0.13329770287164908, 0.6664885143582454, 0.9463397393569664, 0.8560506457204092, 0.9298558008733858, 0.294465755621845, 0.03680821945273063, 0.44169863343276755, 0.1656369875372878, 0.03680821945273063, 0.9095338203092318, 0.9322181680101087, 0.07035608815170631, 0.9765234278468846, 0.3500699309066681, 0.6058902650307717, 0.026928456223589855, 0.9153431369406102, 0.9224605202339474, 0.6526268646388464, 0.31578719256718374, 0.8453030066783987, 0.9363390852961467, 0.9804074924294178, 0.1270683239569843, 0.6918164304324701, 0.14824637794981502, 0.021178053992830716, 0.9533982200693231, 0.03374234988882274, 0.7423316975541003, 0.1687117494441137, 0.9607646018195082, 0.9047168661954338, 0.06959360509195645, 0.9176481440484459, 0.20775435310156107, 0.7271402358554637, 0.2718593456156298, 0.5007935313972128, 0.1144670928907915, 0.0715419330567447, 0.014308386611348938, 0.9023926322052492, 0.06809609470033572, 0.6809609470033572, 0.24684834328871696, 0.3582867368630181, 0.2621610269729401, 0.03495480359639201, 0.08738700899098002, 0.2534223260738421, 0.9681064241834028, 0.010638532133883546, 0.010638532133883546, 0.8863456154991969, 0.9000765812737876, 0.8350685546384655, 0.9690212309419706, 0.8923892789060032, 0.41787386231201207, 0.25072431738720724, 0.33429908984960965, 0.7991777167090421, 0.18402774970362296, 0.6849921794523743, 0.08179011097938799, 0.04089505548969399, 0.9730712002025811, 0.012062866118213816, 0.012062866118213816, 0.9403873261376846, 0.8933836394989033, 0.07444863662490861, 0.024816212208302872, 0.967296905137351, 0.1668633993315033, 0.7926011468246407, 0.6721446345637451, 0.24605294658137097, 0.07201549656040125, 0.0060012913800334385, 0.24185738607878865, 0.03023217325984858, 0.6953399849765174, 0.9427853584615904, 0.7654353729858414, 0.15308707459716828, 0.8700257072684305, 0.931577161024372, 0.8576711446168397, 0.969046484491921, 0.9041243799456611, 0.7584560347917303, 0.47965707424187665, 0.47965707424187665, 0.8508172225398972, 0.9526947861263795, 0.7716541134186796, 0.09431328052894973, 0.12003508430957238, 0.008573934593540885, 0.21011690346636105, 0.47095168018322303, 0.22460772439507562, 0.08694492557228733, 0.8683028427962318, 0.09964130982907578, 0.01423447283272511, 0.01423447283272511, 0.16454818520007047, 0.7816038797003348, 0.04113704630001762, 0.9740941254328305, 0.8030426127921129, 0.8685863031873823, 0.2703208059289211, 0.6127271601055545, 0.05406416118578422, 0.05406416118578422, 0.5856396304171593, 0.18301238450536228, 0.07320495380214491, 0.16471114605482606, 0.3059967881267562, 0.5997537047284421, 0.024479743050140494, 0.06119935762535123, 0.4849824621850111, 0.11191902973500256, 0.39171660407250897, 0.9737905784669049, 0.9578024849601798, 0.938276348619789, 0.9579370930999797, 0.3505618008224761, 0.2089887658749377, 0.3235955084515164, 0.04044943855643955, 0.0640449443810293, 0.003370786546369963, 0.010112359639109888, 0.9172217569685129, 0.8671272341426928, 0.02255269334315023, 0.04510538668630046, 0.9246604270691594, 0.9190147777385543, 0.9056847000480366, 0.8967584254120216, 0.9306707564463998, 0.9310677681385173, 0.9151626870921867, 0.07380344250743441, 0.9847018994141542, 0.9805279882380005, 0.4481932480646872, 0.058459988878002675, 0.03897332591866845, 0.4481932480646872, 0.957947571148251, 0.9705391664058214, 0.9363713163232374, 0.7459934606671479, 0.7467134567470118, 0.9762612075770927, 0.5457645200541705, 0.2419899287032643, 0.06178466264764195, 0.05148721887303496, 0.08752827208415943, 0.010297443774606991, 0.9246506370046477, 0.7827817434026862, 0.5739401476080231, 0.3973431791132468, 0.022074621061847044, 0.2061487623051784, 0.1649190098441427, 0.5772165344544995, 0.053907213238729226, 0.2335979240344933, 0.7007937721034799, 0.9676232781651369, 0.9080215116300312, 0.49979635152165697, 0.3998370812173256, 0.021593340178359295, 0.8205469267776533, 0.12956004107015578, 0.18846860846644375, 0.25129147795525836, 0.15705717372203645, 0.4083486516772948, 0.2946162362896238, 0.5892324725792476, 0.030199608825935434, 0.8757886559521276, 0.015099804412967717, 0.07549902206483859, 0.9580591494148792, 0.021290203320330648, 0.18647534047615874, 0.745901361904635, 0.5578846082367336, 0.035609655844897885, 0.27300736147755045, 0.1305687380979589, 0.011869885281632629, 0.11703842105908605, 0.16385378948272047, 0.023407684211817208, 0.561784421083613, 0.09363073684726883, 0.046815368423634415, 0.7644875988560361, 0.7073039483714384, 0.07726849856158571, 0.15453699712317143, 0.011887461317167032, 0.041606114610084614, 0.005943730658583516, 0.9052498062610008, 0.9384126335933854, 0.8765127463648685, 0.9136048251610649, 0.9619888392859431, 0.8949957576073371, 0.0994439730674819, 0.9176642835279798, 0.9440337801410117, 0.9831938764120703, 0.20323271787457672, 0.6605063330923743, 0.10161635893728836, 0.1543326124442797, 0.7716630622213985, 0.9814349095562708, 0.9224651049078381, 0.06726308056619652, 0.9662216147850891, 0.9536122643463845, 0.2245707800686924, 0.7485692668956413, 0.009357115836195517, 0.009357115836195517, 0.990063424590922, 0.9503500689557256, 0.9093721915229707, 0.6408599958417299, 0.04056075923048924, 0.2758131627673268, 0.04056075923048924, 0.952249664097068, 0.3380955069093652, 0.48299358129909314, 0.04829935812990931, 0.08693884463383676, 0.02897961487794559, 0.005353450287258708, 0.16060350861776124, 0.6745347361945973, 0.010706900574517416, 0.1445431577559851, 0.9611876398033254, 0.031820608335224695, 0.9546182500567408, 0.4112965445112939, 0.19901445702159382, 0.06633815234053127, 0.02653526093621251, 0.29188787029833757, 0.02653526093621251, 0.9258396949759823, 0.48005692413795625, 0.05895435910466129, 0.37057025722929954, 0.08422051300665899, 0.7659851628987405, 0.07055126500383137, 0.04031500857361792, 0.1007875214340448, 0.01007875214340448, 0.8888907696820708, 0.937367721910617, 0.1014695565784208, 0.02029391131568416, 0.8726381865744188, 0.9681677344231097, 0.9507977328324404, 0.8668860115742251, 0.9091848969341431, 0.5322607443087899, 0.07603724918696998, 0.32949474647686994, 0.05069149945797999, 0.35017644067168346, 0.2677819840430521, 0.3048594895259362, 0.06591556530290513, 0.008239445662863141, 0.0041197228314315704, 0.2469865392742547, 0.2469865392742547, 0.03221563555751148, 0.23624799408841754, 0.06443127111502296, 0.1718167229733946, 0.30522360109017466, 0.6486001523166212, 0.9825957741106984, 0.3072953884950919, 0.06357835624036384, 0.2966989957883646, 0.12715671248072768, 0.010596392706727308, 0.20133146142781885, 0.3192118064703593, 0.2778750257763559, 0.2939504404906906, 0.00229648781633352, 0.08726653702067377, 0.01837190253066816, 0.7839452909163154, 0.9330961402604506, 0.8904096457619173, 0.07420080381349312, 0.03710040190674656, 0.9762848636433722, 0.39734493656466785, 0.02483405853529174, 0.04966811707058348, 0.5215152292411266, 0.8497091868612315, 0.04975596059086234, 0.9453632512263845, 0.8613909936135715, 0.951846772952865, 0.9715551994896915, 0.9611876398033254, 0.024266099332454875, 0.04853219866490975, 0.9221117746332852, 0.8647499184273062, 0.9201767095899142, 0.9578544834057597, 0.9792203689119489, 0.8998018214925568, 0.22104252026573526, 0.6631275607972058, 0.8998280335634393, 0.982854554904825, 0.9822654149386765, 0.8236936290295338, 0.022259282339254675, 0.9571491405879511, 0.9666090407327901, 0.8459609347478164, 0.14935035460616103, 0.6720765957277246, 0.17424208037385452, 0.26634310602876726, 0.029593678447640808, 0.14796839223820404, 0.5622798905051754, 0.8228914424777671, 0.08321374137415623, 0.09245971263795136, 0.9263279387947361, 0.9716102636520411, 0.7306717901997593, 0.01588416935216868, 0.01588416935216868, 0.20649420157819284, 0.03176833870433736, 0.09969029468705505, 0.8473675048399679, 0.4338515501234829, 0.16527678099942206, 0.37187275724869967, 0.18795875939812653, 0.08353722639916736, 0.6682978111933389, 0.052210766499479595, 0.8941260915368924, 0.06879626721871819, 0.49877293733570693, 0.13759253443743638, 0.15479160124211594, 0.13759253443743638, 0.5642279821477759, 0.41703807376139956, 0.903671514687038, 0.18217613423266932, 0.5552034567090874, 0.008675054011079491, 0.21687635027698726, 0.034700216044317965, 0.8856557631975674, 0.9457487454703942, 0.8158828723088319, 0.9286007446329705, 0.10825295292039853, 0.7577706704427898, 0.10825295292039853, 0.08334604798995462, 0.8890245118928494, 0.8355470591684365, 0.4938947951576707, 0.14405264858765396, 0.32926319677178045, 0.3624494808922254, 0.2416329872614836, 0.37755154259606816, 0.8744904246464152, 0.031231800880229116, 0.06246360176045823, 0.9396667091834797, 0.780991751726871, 0.07745372744398721, 0.038726863721993604, 0.045181341008992536, 0.025817909147995737, 0.03227238643499467, 0.8501193893252801, 0.8639402234178897, 0.966685785123823, 0.2969693148036568, 0.09201866092507675, 0.4600933046253838, 0.06273999608527961, 0.01673066562274123, 0.06273999608527961, 0.004182666405685307, 0.21535697188327624, 0.7691320424402722, 0.9589961289915307, 0.21894905887550187, 0.6568471766265056, 0.08757962355020074, 0.021894905887550185, 0.9451328490042252, 0.9740941254328305, 0.9464992899625336, 0.06019452851614278, 0.933015192000213, 0.944215525194358, 0.9648249309626055, 0.8785003134857912, 0.8505150736596803, 0.04405058150428623, 0.006777012539120959, 0.006777012539120959, 0.07793564419989102, 0.010165518808681438, 0.006777012539120959, 0.07080820773188098, 0.9205067005144528, 0.8426937196907351, 0.7967431755615474, 0.9614056472436465, 0.48013705431920894, 0.16946013681854433, 0.08473006840927216, 0.2541902052278165, 0.3191452131115782, 0.3829742557338938, 0.25531617048926253, 0.8923117447535863, 0.9435801766436699, 0.8499205164742345, 0.014275240873681625, 0.6138353575683099, 0.024158099940076595, 0.11310383153763133, 0.23279623578619266, 0.8736673408719756, 0.9860119813393672, 0.8969137622099213, 0.2214465883572618, 0.7357741484128376, 0.021430315002315656, 0.014286876668210439, 0.2797122295471824, 0.20978417216038678, 0.023309352462265197, 0.09323740984906079, 0.3962589918585084, 0.955663948162531, 0.943225351227536, 0.9134749509964372, 0.12443212605704726, 0.20738687676174544, 0.3318190028187927, 0.3318190028187927, 0.9189815316358293, 0.8997433983112293, 0.13532248458522655, 0.484312050094495, 0.12107801252362375, 0.19942260886243912, 0.04985565221560978, 0.7838796054583476, 0.8716998352938592, 0.9267794711966271, 0.06262023454031264, 0.7926693074917632, 0.7925536389029135, 0.7101371347092418, 0.02731296671958622, 0.245816700476276, 0.9114409932688956, 0.08506782603843026, 0.9909487184904603, 0.7386422804047411, 0.8058706904139892, 0.049592042487014716, 0.012398010621753679, 0.08678607435227575, 0.03719403186526104, 0.9197305463936114, 0.9901292370410419, 0.931045912125202, 0.016059122267757256, 0.8190152356556201, 0.16059122267757256, 0.12424906977963375, 0.6937239729362885, 0.1760195155211478, 0.9757605327272088, 0.962895758911383, 0.14738508086584565, 0.7369254043292282, 0.3886147333774839, 0.1665491714474931, 0.4441311238599816, 0.8978537827678447, 0.9615430740587702, 0.9620349718071322, 0.9417787948733606, 0.17007254374090955, 0.22109430686318243, 0.5102176312227287, 0.017007254374090956, 0.06802901749636382, 0.9842036201378587, 0.9740941254328305, 0.20572181050155558, 0.7200263367554446, 0.937464213434742, 0.22735620526096817, 0.7730110978872917, 0.49022375226238646, 0.48021918588968465, 0.03001369911810529, 0.5828438438071385, 0.1165687687614277, 0.26227972971321234, 0.9636701814688363, 0.8383775016233272, 0.9798032396372053, 0.9304250173074163, 0.9608472433418748, 0.9748437964423968, 0.7522671127379527, 0.8375563178671229, 0.9201464114489719, 0.8935378282555871, 0.08123071165959883, 0.971728467976227, 0.15427054814089416, 0.04407729946882691, 0.7933913904388843, 0.1415272731536056, 0.031450505145245694, 0.7233616183406509, 0.09435151543573707, 0.9783182313111488, 0.11202370815665012, 0.8401778111748759, 0.980898989911066, 0.9349019795485147, 0.05267053405907125, 0.054847876907402296, 0.7130223997962298, 0.21939150762960918, 0.9819092128637527, 0.00732768069301308, 0.00732768069301308, 0.4219569755145129, 0.1917986252338695, 0.01917986252338695, 0.3452375254209651, 0.8864387250647974, 0.3147682134693223, 0.19370351598112143, 0.02421293949764018, 0.46004585045516333, 0.9507115232349137, 0.799946786397688, 0.06399574291181503, 0.07466170006378421, 0.06399574291181503, 0.40923454229093376, 0.2660024524891069, 0.1636938169163735, 0.1636938169163735, 0.9719542015571375, 0.345864871725156, 0.31797254336022407, 0.24545248961140104, 0.09483391644076859, 0.26082199291071767, 0.5818336764931394, 0.14044261156730953, 0.9565472132690696, 0.3705913028041374, 0.030882608567011447, 0.4014739113711488, 0.1852956514020687, 0.25034392733802513, 0.6884458001795691, 0.40651947949648143, 0.05081493493706018, 0.05081493493706018, 0.5081493493706019, 0.26551406438709113, 0.3413752256405458, 0.37930580626727306, 0.6119531303060285, 0.36717187818361713, 0.2330363733466444, 0.03883939555777406, 0.5049121422510628, 0.27187576890441845, 0.7406587090275191, 0.256963225580976, 0.1263722180166222, 0.4242495890558032, 0.36106348004749206, 0.07221269600949841, 0.9089706957222325, 0.01196014073318727, 0.02392028146637454, 0.04784056293274908, 0.9049119673630533, 0.9355881125853106, 0.6644449612589955, 0.18604458915251873, 0.1328889922517991, 0.21348172990007513, 0.07389752188848756, 0.46801763862708784, 0.21348172990007513, 0.01642167153077501, 0.8514669687640156, 0.8387634728336308, 0.08168125348062429, 0.8984937882868671, 0.02722708449354143, 0.9420639332322934, 0.1305023550338434, 0.7540136068622063, 0.014500261670427044, 0.05800104668170818, 0.04350078501128113, 0.7051439621810951, 0.9447177169811053, 0.9729270499761185, 0.7461350079613901, 0.7332588604946765, 0.2215602312286073, 0.04220194880544901, 0.18001675270136128, 0.7650711989807855, 0.9728696206168682, 0.9911326646893157, 0.8528625487188427, 0.4926146690793672, 0.4926146690793672, 0.6262278586706888, 0.15835647000867992, 0.05758417091224724, 0.06478219227627814, 0.09357427773240178, 0.9555770428299721, 0.746789733236462, 0.6698699755980377, 0.1116449959330063, 0.027911248983251574, 0.195378742882761, 0.4604839092374212, 0.5313275875816399, 0.9202079975826387, 0.8816873991976247, 0.09796526657751385, 0.9522283260309305, 0.01959440913557873, 0.9454302407916736, 0.03429021598726277, 0.3201464549313523, 0.19564505579138197, 0.017785914162852908, 0.4624337682341756, 0.8850802358205866, 0.4880420166361561, 0.024402100831807803, 0.024402100831807803, 0.45143886538844435, 0.24431164450893028, 0.6663044850243554, 0.022210149500811842, 0.011105074750405921, 0.05552537375202961, 0.9434570691897177, 0.9855530101921299, 0.04049407764929627, 0.9313637859338143, 0.3998928366137112, 0.11575845270396903, 0.06314097420216493, 0.32622836671118544, 0.01052349570036082, 0.08418796560288656, 0.9740941254328305, 0.2908254482994859, 0.5622625333790061, 0.03877672643993146, 0.11633017931979438, 0.9715267249854745, 0.3181020478455186, 0.6362040956910372, 0.7734967887116131, 0.9120361405023932, 0.027848431771065444, 0.05569686354213089, 0.9566151435970155, 0.3257386116735464, 0.28204196864416825, 0.19067626049183203, 0.19862110467899172, 0.984186204241042, 0.9530156570124692, 0.41944783622394616, 0.05992111946056374, 0.47936895568450993, 0.9740941254328305, 0.9453200418952264, 0.7744894942870469, 0.4691434301532414, 0.0957435571741309, 0.0957435571741309, 0.10531791289154398, 0.12446662432637016, 0.028723067152239268, 0.019148711434826177, 0.057446134304478536, 0.4587013940839663, 0.05733767426049579, 0.4587013940839663, 0.12738491111773076, 0.5732321000297884, 0.2866160500148942, 0.9625746647799799, 0.9025120979911483, 0.986846665865304, 0.44090088847133774, 0.013778152764729304, 0.013778152764729304, 0.4133445829418791, 0.11022522211783443, 0.013778152764729304, 0.9260552268859663, 0.7618934744078759, 0.05802499970656009, 0.005045652148396529, 0.1412782601551028, 0.030273912890379177, 0.9371221995000694, 0.9740941254328305, 0.9823507885329381, 0.9611062312725128, 0.9111158606081369, 0.056241719790625734, 0.022496687916250292, 0.1406909926694893, 0.8441459560169358, 0.9536960114407725, 0.9472317495945425, 0.12390517294820716, 0.18585775942231075, 0.26846120805444884, 0.08260344863213812, 0.16520689726427623, 0.18585775942231075, 0.8161466775633084, 0.03400611156513785, 0.1360244462605514, 0.4767222835318589, 0.4767222835318589, 0.059590285441482364, 0.18358974371588058, 0.7343589748635223, 0.25912829638151486, 0.3986589175100229, 0.139530621128508, 0.019932945875501144, 0.1793965128795103], \"Term\": [\"accompany\", \"acid\", \"advanced_stage\", \"almost\", \"also\", \"also\", \"also\", \"also\", \"always\", \"analyze_result\", \"animal\", \"animal\", \"animal\", \"animal\", \"animal_human\", \"antiviral\", \"antiviral\", \"antiviral\", \"assay\", \"assay\", \"atypical_pneumonia\", \"author\", \"bad\", \"basic_reproduction\", \"basic_reproduction\", \"bat\", \"bat\", \"bat\", \"bat\", \"battle\", \"become\", \"become\", \"become\", \"begin\", \"begin\", \"bilateral\", \"bind\", \"biological\", \"biopharma\", \"bird\", \"blood\", \"blood\", \"brain\", \"breathing\", \"burn\", \"campaign\", \"cancer\", \"cancer\", \"cancer_patient\", \"capacity\", \"capacity\", \"case\", \"case\", \"case\", \"case\", \"causative_agent\", \"cause\", \"cause\", \"cause\", \"cause\", \"cause\", \"cause\", \"cell\", \"cell\", \"cell\", \"cell\", \"cell_count\", \"cell_entry\", \"century\", \"change\", \"change\", \"change\", \"change\", \"change\", \"chest_image\", \"child\", \"child\", \"child_prime\", \"chinese\", \"chinese\", \"chinese\", \"chloroquine\", \"ci\", \"city\", \"city\", \"class\", \"cleaning\", \"clearly\", \"clinical\", \"clinical\", \"clinical\", \"clinical\", \"clinical_characteristic\", \"clinical_manifestation\", \"clinical_manifestation\", \"clinical_manifestation\", \"colorectal_cancer\", \"combine\", \"combine\", \"common_symptom\", \"company\", \"company\", \"compare\", \"compare\", \"compare\", \"compare\", \"compare\", \"component\", \"conclusion\", \"conclusion\", \"conclusion\", \"confirm\", \"confirm\", \"confirm\", \"confirm\", \"confirm\", \"confirm_case\", \"confirm_case\", \"confirm_case\", \"conjunctivitis\", \"connectivity\", \"conservation\", \"consolidation\", \"consultation\", \"contact\", \"contact\", \"contact\", \"continue_spread\", \"control\", \"control\", \"control\", \"control\", \"coronavirus\", \"coronavirus\", \"coronavirus\", \"coronavirus_name\", \"coronaviruse\", \"coronaviruse\", \"coronaviruse\", \"correlation\", \"count\", \"count\", \"country\", \"country\", \"country\", \"country\", \"cov\", \"cov\", \"cov\", \"cover\", \"covs\", \"covs\", \"crisis\", \"critical_group\", \"critical_period\", \"critically_ill\", \"cross_infection\", \"cruise_ship\", \"ct\", \"ct\", \"curative\", \"dangerous\", \"datum\", \"datum\", \"datum\", \"datum\", \"day\", \"day\", \"day\", \"day\", \"death\", \"death\", \"death\", \"death\", \"department\", \"department\", \"department\", \"descend\", \"descriptive\", \"destination_country\", \"detection\", \"detection\", \"detection\", \"detection\", \"diagnose\", \"diagnose\", \"diagnose\", \"diagnose\", \"diagnosis\", \"diagnosis\", \"diagnosis\", \"diagnosis\", \"diagnosis_treatment\", \"diagnosis_treatment\", \"diagnosis_treatment\", \"differentiation\", \"digestive\", \"digestive_system\", \"discharge_home\", \"disease\", \"disease\", \"disease\", \"disease\", \"disease\", \"disease\", \"disease\", \"disinfect\", \"distribute\", \"distribution\", \"distribution\", \"distribution\", \"divide\", \"dog\", \"domain\", \"domain_rbd\", \"donor\", \"drug\", \"drug\", \"duration\", \"economy\", \"effect\", \"effect\", \"effect\", \"effect\", \"efficient\", \"elevate\", \"emergency_surgery\", \"emerg\\u00eancia\", \"entry_screen\", \"environment\", \"epidemic\", \"epidemic\", \"epidemic\", \"epidemic\", \"epidemic\", \"epidemic\", \"epidemic_period\", \"espii\", \"estimate\", \"estimate\", \"estimate\", \"examine\", \"examine\", \"examine\", \"experience\", \"experience\", \"experience\", \"expert\", \"exponential_growth\", \"extent\", \"extent\", \"face\", \"face\", \"face\", \"factor\", \"factor\", \"factor\", \"factor\", \"fatality\", \"fatality\", \"fever\", \"fever\", \"fever\", \"fever\", \"field\", \"field\", \"filter\", \"filter\", \"find\", \"find\", \"find\", \"find\", \"find\", \"finding\", \"finding\", \"finding\", \"finding\", \"finding\", \"finding\", \"firm\", \"first\", \"first\", \"first\", \"first\", \"first\", \"first\", \"food\", \"forecasting_model\", \"framework\", \"front_line\", \"frontline\", \"function\", \"function\", \"fusion\", \"gene\", \"genome\", \"get\", \"get\", \"get\", \"ggo\", \"ggo\", \"global\", \"go\", \"go\", \"greatly\", \"ground_glass\", \"group\", \"group\", \"group\", \"group\", \"hand\", \"hand_hygiene\", \"haplotype\", \"health\", \"health\", \"health\", \"health\", \"heat\", \"high\", \"high\", \"high\", \"high\", \"high\", \"hospital\", \"hospital\", \"hospital\", \"hospital\", \"hospital\", \"hospitalize_observation\", \"host\", \"host\", \"however\", \"however\", \"however\", \"however\", \"however\", \"however\", \"hrct\", \"human\", \"human\", \"human\", \"human\", \"identify\", \"identify\", \"identify\", \"identify\", \"identify\", \"ijcp\", \"illustrate\", \"image\", \"image\", \"image\", \"imaging\", \"immune_response\", \"immunization\", \"implication\", \"improve\", \"improve\", \"improve\", \"improve\", \"include\", \"include\", \"include\", \"include\", \"include\", \"include\", \"increase\", \"increase\", \"increase\", \"increase\", \"increase\", \"increase\", \"incubation_period\", \"incubation_period\", \"industry\", \"infect\", \"infect\", \"infect\", \"infect\", \"infect\", \"infect\", \"infection\", \"infection\", \"infection\", \"infection\", \"infection\", \"infection\", \"infer\", \"infiltrate\", \"information\", \"information\", \"information\", \"inhibitor\", \"initial\", \"initial\", \"initial\", \"initial\", \"initiative\", \"interaction\", \"interaction\", \"introduction\", \"involvement\", \"isolate\", \"isolation_observation\", \"issue\", \"issue\", \"issue\", \"japanese\", \"journal\", \"kill\", \"know\", \"lab\", \"last_week\", \"last_week\", \"leaf\", \"lesion\", \"let\", \"limb\", \"live\", \"live\", \"liver\", \"loc\", \"lung\", \"lung\", \"lung\", \"mainly\", \"mainly\", \"mainly\", \"mainly\", \"make\", \"make\", \"make\", \"malignancy\", \"manifestation\", \"many\", \"many\", \"many\", \"many\", \"many\", \"mask\", \"mask\", \"mean\", \"mean\", \"mean\", \"measure\", \"measure\", \"measure\", \"measure\", \"mediate\", \"medical\", \"medical\", \"medical\", \"medical\", \"medical\", \"medical_staff\", \"medical_staff\", \"methanol_extract\", \"method\", \"method\", \"method\", \"method\", \"method\", \"mild_moderate\", \"mission\", \"moderate_severe\", \"modernization\", \"molecular\", \"molecular\", \"molecular\", \"mortality\", \"mortality\", \"myocardial\", \"ncp\", \"ncp\", \"ncp\", \"need\", \"need\", \"need\", \"negative\", \"negative\", \"negative\", \"neonate\", \"new\", \"new\", \"new\", \"new\", \"new\", \"new\", \"new_challenge\", \"nodular\", \"nosocomial_infection\", \"novel\", \"novel\", \"novel\", \"novel\", \"novel\", \"novel\", \"novel\", \"novel_pneumonia\", \"novel_pneumonia\", \"nucleic_acid\", \"observe\", \"observe\", \"observe\", \"observe\", \"ocular\", \"ok\", \"old\", \"opacity\", \"opacity\", \"ophthalmic\", \"ophthalmologist\", \"ordinary\", \"outbreak\", \"outbreak\", \"outbreak\", \"outbreak\", \"outbreak\", \"outbreak\", \"outbreak\", \"outcome\", \"outcome\", \"overwhelming\", \"pace\", \"pangolin\", \"paper\", \"paper\", \"paper\", \"paper\", \"parameter\", \"parameter\", \"parameter\", \"partial\", \"patchy\", \"pathway\", \"patient\", \"patient\", \"patient\", \"patient\", \"patient\", \"patient_rsquo\", \"pediatrician\", \"pedv\", \"people\", \"people\", \"people\", \"people\", \"perform\", \"perform\", \"perform\", \"perform\", \"perform\", \"peripheral\", \"petient\", \"pharmaceutical\", \"place\", \"place\", \"place\", \"place\", \"pleural\", \"pleural_effusion\", \"pneumonia\", \"pneumonia\", \"pneumonia\", \"pneumonia\", \"pneumonia\", \"police\", \"poor_prognosis\", \"population\", \"population\", \"por\", \"port\", \"positive\", \"positive\", \"positive\", \"possible\", \"possible\", \"post\", \"posterior\", \"potential\", \"potential\", \"potential\", \"potential\", \"potential\", \"power\", \"precaution\", \"prescription\", \"prevention\", \"prevention\", \"prevention\", \"prevention_control\", \"prevention_control\", \"prevention_control\", \"preventive_effect\", \"prime\", \"probability\", \"probability\", \"problem\", \"problem\", \"problem\", \"procalcitonin\", \"prognosis\", \"proposal\", \"protease\", \"protein\", \"protein\", \"protein\", \"protein\", \"protein\", \"province\", \"psa\", \"psychological\", \"psychological\", \"psychological_impact\", \"public\", \"public\", \"public_health\", \"public_health\", \"public_health\", \"publish\", \"publish\", \"publish\", \"put\", \"quality\", \"question\", \"radiologist\", \"rbd\", \"reaction\", \"reagent\", \"reason\", \"reasonable\", \"receive\", \"receive\", \"recent\", \"receptor\", \"receptor\", \"receptor\", \"reduce\", \"reduce\", \"reduce\", \"reduce\", \"reference\", \"regular\", \"regular\", \"regulation\", \"relate\", \"relate\", \"relevant\", \"relevant\", \"relevant\", \"report\", \"report\", \"report\", \"research\", \"research\", \"research\", \"research\", \"residue\", \"respectively\", \"respectively\", \"respectively\", \"respectively\", \"respiratory_support\", \"respiratory_syndrome\", \"respiratory_syndrome\", \"respiratory_syndrome\", \"respiratory_syndrome\", \"response\", \"response\", \"response\", \"response\", \"responsibility\", \"result\", \"result\", \"result\", \"result\", \"sample\", \"sample\", \"sample\", \"save\", \"say\", \"say\", \"say\", \"say\", \"science\", \"science\", \"scientific\", \"scientific\", \"scientific\", \"scientific\", \"scientist\", \"scientist\", \"scientist\", \"score\", \"score\", \"see\", \"see\", \"see\", \"see\", \"sequence\", \"sequence\", \"severe\", \"severe\", \"severe\", \"severe\", \"severe_acute\", \"severe_acute\", \"severe_acute\", \"severe_acute\", \"severe_critical\", \"shadow\", \"share\", \"share\", \"share\", \"show\", \"show\", \"show\", \"show\", \"show\", \"sialic_acid\", \"side\", \"sign\", \"sign\", \"sign\", \"significantly_high\", \"situation\", \"situation\", \"situation\", \"situation\", \"situation\", \"small_nodular\", \"spike\", \"spike_protein\", \"spontaneous\", \"spread\", \"spread\", \"spread\", \"spread_rapidly\", \"spread_rapidly\", \"stability\", \"start\", \"state_local\", \"strengthen\", \"strengthen\", \"study\", \"study\", \"study\", \"study\", \"study\", \"subpleural\", \"suction\", \"suggest\", \"suggest\", \"suggest\", \"suggest\", \"surface\", \"surface\", \"surgeon\", \"surgery\", \"surgery\", \"swab\", \"syndrome\", \"syndrome\", \"syndrome\", \"system\", \"system\", \"system\", \"system\", \"systemic\", \"take\", \"take\", \"take\", \"take\", \"test\", \"test\", \"test\", \"test\", \"test\", \"thickening\", \"thing\", \"threaten\", \"threaten\", \"time\", \"time\", \"time\", \"time\", \"time\", \"time\", \"tomorrow\", \"total\", \"total\", \"total\", \"total\", \"touch\", \"traditional_chinese\", \"traditional_chinese\", \"transcription\", \"transmission\", \"transmission\", \"transmission\", \"transplant\", \"treatment\", \"treatment\", \"treatment\", \"treatment\", \"treatment_strategy\", \"underlie_disease\", \"understand\", \"understand\", \"understand\", \"undetected\", \"unilateral\", \"unlikely\", \"use\", \"use\", \"use\", \"use\", \"use\", \"use\", \"use\", \"use\", \"vaccine\", \"vaccine\", \"vaccine\", \"value\", \"value\", \"value\", \"variety\", \"ventilator\", \"view\", \"viral\", \"viral\", \"viral\", \"viral\", \"viral\", \"viral\", \"viral_entry\", \"virus\", \"virus\", \"virus\", \"virus\", \"virus\", \"warning\", \"wash\", \"way\", \"wear\", \"week\", \"week\", \"week\", \"western\", \"western\", \"white_blood\", \"wild_animal\", \"work\", \"work\", \"work\", \"work\", \"work\", \"work\", \"world\", \"world\", \"world\", \"world_health\", \"world_health\", \"world_health\", \"write\", \"write\", \"year\", \"year\", \"year\", \"year\", \"year\"]}, \"R\": 30, \"lambda.step\": 0.01, \"plot.opts\": {\"xlab\": \"PC1\", \"ylab\": \"PC2\"}, \"topic.order\": [6, 7, 1, 4, 2, 5, 8, 3]};\n",
       "\n",
       "function LDAvis_load_lib(url, callback){\n",
       "  var s = document.createElement('script');\n",
       "  s.src = url;\n",
       "  s.async = true;\n",
       "  s.onreadystatechange = s.onload = callback;\n",
       "  s.onerror = function(){console.warn(\"failed to load library \" + url);};\n",
       "  document.getElementsByTagName(\"head\")[0].appendChild(s);\n",
       "}\n",
       "\n",
       "if(typeof(LDAvis) !== \"undefined\"){\n",
       "   // already loaded: just create the visualization\n",
       "   !function(LDAvis){\n",
       "       new LDAvis(\"#\" + \"ldavis_el231398223979616802269047141\", ldavis_el231398223979616802269047141_data);\n",
       "   }(LDAvis);\n",
       "}else if(typeof define === \"function\" && define.amd){\n",
       "   // require.js is available: use it to load d3/LDAvis\n",
       "   require.config({paths: {d3: \"https://d3js.org/d3.v5\"}});\n",
       "   require([\"d3\"], function(d3){\n",
       "      window.d3 = d3;\n",
       "      LDAvis_load_lib(\"https://cdn.jsdelivr.net/gh/bmabey/pyLDAvis@3.2.2/pyLDAvis/js/ldavis.v3.0.0.js\", function(){\n",
       "        new LDAvis(\"#\" + \"ldavis_el231398223979616802269047141\", ldavis_el231398223979616802269047141_data);\n",
       "      });\n",
       "    });\n",
       "}else{\n",
       "    // require.js not available: dynamically load d3 & LDAvis\n",
       "    LDAvis_load_lib(\"https://d3js.org/d3.v5.js\", function(){\n",
       "         LDAvis_load_lib(\"https://cdn.jsdelivr.net/gh/bmabey/pyLDAvis@3.2.2/pyLDAvis/js/ldavis.v3.0.0.js\", function(){\n",
       "                 new LDAvis(\"#\" + \"ldavis_el231398223979616802269047141\", ldavis_el231398223979616802269047141_data);\n",
       "            })\n",
       "         });\n",
       "}\n",
       "</script>"
      ],
      "text/plain": [
       "PreparedData(topic_coordinates=              x         y  topics  cluster       Freq\n",
       "topic                                                \n",
       "5     -0.008472  0.076208       1        1  36.657241\n",
       "6      0.083382 -0.137767       2        1  17.694111\n",
       "0      0.118000  0.215193       3        1  15.327825\n",
       "3     -0.024991 -0.195551       4        1   9.423347\n",
       "1     -0.139681  0.025235       5        1   7.666534\n",
       "4      0.302670 -0.024283       6        1   5.539849\n",
       "7     -0.173938  0.049633       7        1   5.038991\n",
       "2     -0.156969 -0.008669       8        1   2.652102, topic_info=          Term        Freq       Total Category  logprob  loglift\n",
       "239    patient  910.000000  910.000000  Default  30.0000  30.0000\n",
       "61        case  655.000000  655.000000  Default  29.0000  29.0000\n",
       "340   syndrome  204.000000  204.000000  Default  28.0000  28.0000\n",
       "56       virus  396.000000  396.000000  Default  27.0000  27.0000\n",
       "52   treatment  251.000000  251.000000  Default  26.0000  26.0000\n",
       "..         ...         ...         ...      ...      ...      ...\n",
       "170  parameter    4.169592   15.666849   Topic8  -5.7307   2.3061\n",
       "412       test    5.448039   90.048921   Topic8  -5.4633   0.8247\n",
       "79        drug    5.198788   67.747517   Topic8  -5.5101   1.0625\n",
       "530    protein    4.328570   58.798438   Topic8  -5.6933   1.0209\n",
       "348    control    4.301747   97.811336   Topic8  -5.6995   0.5058\n",
       "\n",
       "[492 rows x 6 columns], token_table=      Topic      Freq            Term\n",
       "term                                 \n",
       "1550      4  0.917346       accompany\n",
       "2334      2  0.949257            acid\n",
       "4247      6  0.877383  advanced_stage\n",
       "1222      1  0.990094          almost\n",
       "58        1  0.589530            also\n",
       "...     ...       ...             ...\n",
       "1054      1  0.259128            year\n",
       "1054      2  0.398659            year\n",
       "1054      4  0.139531            year\n",
       "1054      5  0.019933            year\n",
       "1054      7  0.179397            year\n",
       "\n",
       "[872 rows x 3 columns], R=30, lambda_step=0.01, plot_opts={'xlab': 'PC1', 'ylab': 'PC2'}, topic_order=[6, 7, 1, 4, 2, 5, 8, 3])"
      ]
     },
     "execution_count": 22,
     "metadata": {},
     "output_type": "execute_result"
    }
   ],
   "source": [
    "\n",
    "%%time\n",
    "pyLDAvis.enable_notebook()\n",
    "pyLDAvis.gensim.prepare(lda_model, corpus_cov_article, id2token_cov_article)"
   ]
  },
  {
   "cell_type": "markdown",
   "id": "08820f49",
   "metadata": {
    "papermill": {
     "duration": 0.021288,
     "end_time": "2023-01-04T16:20:35.240589",
     "exception": false,
     "start_time": "2023-01-04T16:20:35.219301",
     "status": "completed"
    },
    "tags": []
   },
   "source": [
    "As we can see from the interactive figure above, topic 1 and 2  are very close as well as 7 and 8 (5 is also similar to 7). The other topics are separated appropriately.\n"
   ]
  },
  {
   "cell_type": "markdown",
   "id": "5046d35a",
   "metadata": {
    "papermill": {
     "duration": 0.021242,
     "end_time": "2023-01-04T16:20:35.283679",
     "exception": false,
     "start_time": "2023-01-04T16:20:35.262437",
     "status": "completed"
    },
    "tags": []
   },
   "source": [
    "# Topic per document"
   ]
  },
  {
   "cell_type": "code",
   "execution_count": 23,
   "id": "f8e089cb",
   "metadata": {
    "execution": {
     "iopub.execute_input": "2023-01-04T16:20:35.327247Z",
     "iopub.status.busy": "2023-01-04T16:20:35.326916Z",
     "iopub.status.idle": "2023-01-04T16:20:35.517012Z",
     "shell.execute_reply": "2023-01-04T16:20:35.516084Z"
    },
    "papermill": {
     "duration": 0.214799,
     "end_time": "2023-01-04T16:20:35.519516",
     "exception": false,
     "start_time": "2023-01-04T16:20:35.304717",
     "status": "completed"
    },
    "tags": []
   },
   "outputs": [],
   "source": [
    "document_topic_distribution = []\n",
    "num_topic_document = []\n",
    "topic_frequency = {}\n",
    "for i in range(len(corpus_cov_article)):\n",
    "    document_topic = lda_model.get_document_topics(corpus_cov_article[i])\n",
    "    document_topic_distribution.append(document_topic)\n",
    "    num_topic_document.append(len(document_topic))\n",
    "    for topic_idx,prob in document_topic:\n",
    "        if topic_idx not in topic_frequency:\n",
    "            topic_frequency[topic_idx] = 1\n",
    "        else:\n",
    "            topic_frequency[topic_idx] += 1\n",
    "\n",
    "topic_frequency = dict(sorted(topic_frequency.items()))"
   ]
  },
  {
   "cell_type": "code",
   "execution_count": 24,
   "id": "1800ed43",
   "metadata": {
    "execution": {
     "iopub.execute_input": "2023-01-04T16:20:35.563937Z",
     "iopub.status.busy": "2023-01-04T16:20:35.563637Z",
     "iopub.status.idle": "2023-01-04T16:20:35.897338Z",
     "shell.execute_reply": "2023-01-04T16:20:35.896439Z"
    },
    "papermill": {
     "duration": 0.357829,
     "end_time": "2023-01-04T16:20:35.899581",
     "exception": false,
     "start_time": "2023-01-04T16:20:35.541752",
     "status": "completed"
    },
    "tags": []
   },
   "outputs": [
    {
     "data": {
      "image/png": "[encoded data removed]",
      "text/plain": [
       "<Figure size 1152x360 with 2 Axes>"
      ]
     },
     "metadata": {
      "needs_background": "light"
     },
     "output_type": "display_data"
    }
   ],
   "source": [
    "#num_topic_document_counter = collections.Counter(num_topic_document)\n",
    "num_topic_document_counter = (pd.DataFrame(num_topic_document)).value_counts(sort=False)\n",
    "counter_idx = [str(idx[0]) for idx in num_topic_document_counter.index]\n",
    "counter_values = num_topic_document_counter.values\n",
    "fig,axes = plt.subplots(figsize=(16,5),nrows=1,ncols=2)\n",
    "axes[0].bar(counter_idx, counter_values,width=0.6,alpha=0.5)\n",
    "axes[0].set_xlabel('Number of topics in an Article',fontsize=14)\n",
    "\n",
    "df_topic_frequency = pd.DataFrame.from_dict(topic_frequency,orient='index')\n",
    "topic_idxs = [str(idx+1) for idx in df_topic_frequency.index]\n",
    "axes[1].bar(topic_idxs, df_topic_frequency.iloc[:,0], width=0.6,color='red',alpha=0.5)\n",
    "axes[1].set_xlabel('Topic Index',fontsize=14)\n",
    "\n",
    "for ax in axes:\n",
    "    for pos in ['top','right']:\n",
    "        ax.spines[pos].set_color(None)\n",
    "    ax.set_xticklabels(['1','2','3','4','5','6','7','8'],fontsize=13)"
   ]
  },
  {
   "cell_type": "markdown",
   "id": "629e4d53",
   "metadata": {
    "papermill": {
     "duration": 0.022726,
     "end_time": "2023-01-04T16:20:35.943364",
     "exception": false,
     "start_time": "2023-01-04T16:20:35.920638",
     "status": "completed"
    },
    "tags": []
   },
   "source": [
    "1.The left figure shows that there are very few articles who covered all the topics. 3rd and 4th topic are mostly present in many articles..\n",
    "\n",
    "2.The right figure shows that occurence frequencies of topics are not very close as we can see many articles covered 1st and 6th topic.\n"
   ]
  },
  {
   "cell_type": "code",
   "execution_count": 25,
   "id": "8f6f2ee1",
   "metadata": {
    "execution": {
     "iopub.execute_input": "2023-01-04T16:20:35.986015Z",
     "iopub.status.busy": "2023-01-04T16:20:35.985703Z",
     "iopub.status.idle": "2023-01-04T16:20:36.003876Z",
     "shell.execute_reply": "2023-01-04T16:20:36.002764Z"
    },
    "papermill": {
     "duration": 0.042259,
     "end_time": "2023-01-04T16:20:36.006318",
     "exception": false,
     "start_time": "2023-01-04T16:20:35.964059",
     "status": "completed"
    },
    "tags": []
   },
   "outputs": [
    {
     "data": {
      "text/html": [
       "<div>\n",
       "<style scoped>\n",
       "    .dataframe tbody tr th:only-of-type {\n",
       "        vertical-align: middle;\n",
       "    }\n",
       "\n",
       "    .dataframe tbody tr th {\n",
       "        vertical-align: top;\n",
       "    }\n",
       "\n",
       "    .dataframe thead th {\n",
       "        text-align: right;\n",
       "    }\n",
       "</style>\n",
       "<table border=\"1\" class=\"dataframe\">\n",
       "  <thead>\n",
       "    <tr style=\"text-align: right;\">\n",
       "      <th></th>\n",
       "      <th>0</th>\n",
       "      <th>1</th>\n",
       "      <th>2</th>\n",
       "      <th>3</th>\n",
       "      <th>4</th>\n",
       "      <th>5</th>\n",
       "      <th>6</th>\n",
       "      <th>7</th>\n",
       "    </tr>\n",
       "  </thead>\n",
       "  <tbody>\n",
       "    <tr>\n",
       "      <th>0</th>\n",
       "      <td>0.000000</td>\n",
       "      <td>0.000000</td>\n",
       "      <td>0.000000</td>\n",
       "      <td>0.490149</td>\n",
       "      <td>0.092091</td>\n",
       "      <td>0.357688</td>\n",
       "      <td>0.053205</td>\n",
       "      <td>0.000000</td>\n",
       "    </tr>\n",
       "    <tr>\n",
       "      <th>1</th>\n",
       "      <td>0.069948</td>\n",
       "      <td>0.000000</td>\n",
       "      <td>0.468936</td>\n",
       "      <td>0.000000</td>\n",
       "      <td>0.027277</td>\n",
       "      <td>0.427657</td>\n",
       "      <td>0.000000</td>\n",
       "      <td>0.000000</td>\n",
       "    </tr>\n",
       "    <tr>\n",
       "      <th>2</th>\n",
       "      <td>0.293853</td>\n",
       "      <td>0.000000</td>\n",
       "      <td>0.000000</td>\n",
       "      <td>0.132657</td>\n",
       "      <td>0.000000</td>\n",
       "      <td>0.425988</td>\n",
       "      <td>0.000000</td>\n",
       "      <td>0.143254</td>\n",
       "    </tr>\n",
       "    <tr>\n",
       "      <th>3</th>\n",
       "      <td>0.000000</td>\n",
       "      <td>0.000000</td>\n",
       "      <td>0.000000</td>\n",
       "      <td>0.000000</td>\n",
       "      <td>0.000000</td>\n",
       "      <td>0.993955</td>\n",
       "      <td>0.000000</td>\n",
       "      <td>0.000000</td>\n",
       "    </tr>\n",
       "    <tr>\n",
       "      <th>4</th>\n",
       "      <td>0.000000</td>\n",
       "      <td>0.994202</td>\n",
       "      <td>0.000000</td>\n",
       "      <td>0.000000</td>\n",
       "      <td>0.000000</td>\n",
       "      <td>0.000000</td>\n",
       "      <td>0.000000</td>\n",
       "      <td>0.000000</td>\n",
       "    </tr>\n",
       "  </tbody>\n",
       "</table>\n",
       "</div>"
      ],
      "text/plain": [
       "          0         1         2         3         4         5         6  \\\n",
       "0  0.000000  0.000000  0.000000  0.490149  0.092091  0.357688  0.053205   \n",
       "1  0.069948  0.000000  0.468936  0.000000  0.027277  0.427657  0.000000   \n",
       "2  0.293853  0.000000  0.000000  0.132657  0.000000  0.425988  0.000000   \n",
       "3  0.000000  0.000000  0.000000  0.000000  0.000000  0.993955  0.000000   \n",
       "4  0.000000  0.994202  0.000000  0.000000  0.000000  0.000000  0.000000   \n",
       "\n",
       "          7  \n",
       "0  0.000000  \n",
       "1  0.000000  \n",
       "2  0.143254  \n",
       "3  0.000000  \n",
       "4  0.000000  "
      ]
     },
     "execution_count": 25,
     "metadata": {},
     "output_type": "execute_result"
    }
   ],
   "source": [
    "## Generate document topic matrix\n",
    "document_topic_matrix = np.zeros((len(corpus_cov_article),8))\n",
    "for idx,document_topic in enumerate(document_topic_distribution):\n",
    "    for topic_idx,prob in document_topic:\n",
    "        document_topic_matrix[idx][topic_idx] = prob\n",
    "pd.DataFrame(document_topic_matrix).head()"
   ]
  },
  {
   "cell_type": "code",
   "execution_count": 26,
   "id": "36bdf0c5",
   "metadata": {
    "execution": {
     "iopub.execute_input": "2023-01-04T16:20:36.074300Z",
     "iopub.status.busy": "2023-01-04T16:20:36.073884Z",
     "iopub.status.idle": "2023-01-04T16:20:40.335655Z",
     "shell.execute_reply": "2023-01-04T16:20:40.334609Z"
    },
    "papermill": {
     "duration": 4.30945,
     "end_time": "2023-01-04T16:20:40.339262",
     "exception": false,
     "start_time": "2023-01-04T16:20:36.029812",
     "status": "completed"
    },
    "tags": []
   },
   "outputs": [
    {
     "data": {
      "text/html": [
       "<div class=\"bk-root\">\n",
       "        <a href=\"https://bokeh.org\" target=\"_blank\" class=\"bk-logo bk-logo-small bk-logo-notebook\"></a>\n",
       "        <span id=\"1002\">Loading BokehJS ...</span>\n",
       "    </div>\n"
      ]
     },
     "metadata": {},
     "output_type": "display_data"
    },
    {
     "data": {
      "application/javascript": [
       "(function(root) {\n",
       "  function now() {\n",
       "    return new Date();\n",
       "  }\n",
       "\n",
       "  const force = true;\n",
       "\n",
       "  if (typeof root._bokeh_onload_callbacks === \"undefined\" || force === true) {\n",
       "    root._bokeh_onload_callbacks = [];\n",
       "    root._bokeh_is_loading = undefined;\n",
       "  }\n",
       "\n",
       "const JS_MIME_TYPE = 'application/javascript';\n",
       "  const HTML_MIME_TYPE = 'text/html';\n",
       "  const EXEC_MIME_TYPE = 'application/vnd.bokehjs_exec.v0+json';\n",
       "  const CLASS_NAME = 'output_bokeh rendered_html';\n",
       "\n",
       "  /**\n",
       "   * Render data to the DOM node\n",
       "   */\n",
       "  function render(props, node) {\n",
       "    const script = document.createElement(\"script\");\n",
       "    node.appendChild(script);\n",
       "  }\n",
       "\n",
       "  /**\n",
       "   * Handle when an output is cleared or removed\n",
       "   */\n",
       "  function handleClearOutput(event, handle) {\n",
       "    const cell = handle.cell;\n",
       "\n",
       "    const id = cell.output_area._bokeh_element_id;\n",
       "    const server_id = cell.output_area._bokeh_server_id;\n",
       "    // Clean up Bokeh references\n",
       "    if (id != null && id in Bokeh.index) {\n",
       "      Bokeh.index[id].model.document.clear();\n",
       "      delete Bokeh.index[id];\n",
       "    }\n",
       "\n",
       "    if (server_id !== undefined) {\n",
       "      // Clean up Bokeh references\n",
       "      const cmd_clean = \"from bokeh.io.state import curstate; print(curstate().uuid_to_server['\" + server_id + \"'].get_sessions()[0].document.roots[0]._id)\";\n",
       "      cell.notebook.kernel.execute(cmd_clean, {\n",
       "        iopub: {\n",
       "          output: function(msg) {\n",
       "            const id = msg.content.text.trim();\n",
       "            if (id in Bokeh.index) {\n",
       "              Bokeh.index[id].model.document.clear();\n",
       "              delete Bokeh.index[id];\n",
       "            }\n",
       "          }\n",
       "        }\n",
       "      });\n",
       "      // Destroy server and session\n",
       "      const cmd_destroy = \"import bokeh.io.notebook as ion; ion.destroy_server('\" + server_id + \"')\";\n",
       "      cell.notebook.kernel.execute(cmd_destroy);\n",
       "    }\n",
       "  }\n",
       "\n",
       "  /**\n",
       "   * Handle when a new output is added\n",
       "   */\n",
       "  function handleAddOutput(event, handle) {\n",
       "    const output_area = handle.output_area;\n",
       "    const output = handle.output;\n",
       "\n",
       "    // limit handleAddOutput to display_data with EXEC_MIME_TYPE content only\n",
       "    if ((output.output_type != \"display_data\") || (!Object.prototype.hasOwnProperty.call(output.data, EXEC_MIME_TYPE))) {\n",
       "      return\n",
       "    }\n",
       "\n",
       "    const toinsert = output_area.element.find(\".\" + CLASS_NAME.split(' ')[0]);\n",
       "\n",
       "    if (output.metadata[EXEC_MIME_TYPE][\"id\"] !== undefined) {\n",
       "      toinsert[toinsert.length - 1].firstChild.textContent = output.data[JS_MIME_TYPE];\n",
       "      // store reference to embed id on output_area\n",
       "      output_area._bokeh_element_id = output.metadata[EXEC_MIME_TYPE][\"id\"];\n",
       "    }\n",
       "    if (output.metadata[EXEC_MIME_TYPE][\"server_id\"] !== undefined) {\n",
       "      const bk_div = document.createElement(\"div\");\n",
       "      bk_div.innerHTML = output.data[HTML_MIME_TYPE];\n",
       "      const script_attrs = bk_div.children[0].attributes;\n",
       "      for (let i = 0; i < script_attrs.length; i++) {\n",
       "        toinsert[toinsert.length - 1].firstChild.setAttribute(script_attrs[i].name, script_attrs[i].value);\n",
       "        toinsert[toinsert.length - 1].firstChild.textContent = bk_div.children[0].textContent\n",
       "      }\n",
       "      // store reference to server id on output_area\n",
       "      output_area._bokeh_server_id = output.metadata[EXEC_MIME_TYPE][\"server_id\"];\n",
       "    }\n",
       "  }\n",
       "\n",
       "  function register_renderer(events, OutputArea) {\n",
       "\n",
       "    function append_mime(data, metadata, element) {\n",
       "      // create a DOM node to render to\n",
       "      const toinsert = this.create_output_subarea(\n",
       "        metadata,\n",
       "        CLASS_NAME,\n",
       "        EXEC_MIME_TYPE\n",
       "      );\n",
       "      this.keyboard_manager.register_events(toinsert);\n",
       "      // Render to node\n",
       "      const props = {data: data, metadata: metadata[EXEC_MIME_TYPE]};\n",
       "      render(props, toinsert[toinsert.length - 1]);\n",
       "      element.append(toinsert);\n",
       "      return toinsert\n",
       "    }\n",
       "\n",
       "    /* Handle when an output is cleared or removed */\n",
       "    events.on('clear_output.CodeCell', handleClearOutput);\n",
       "    events.on('delete.Cell', handleClearOutput);\n",
       "\n",
       "    /* Handle when a new output is added */\n",
       "    events.on('output_added.OutputArea', handleAddOutput);\n",
       "\n",
       "    /**\n",
       "     * Register the mime type and append_mime function with output_area\n",
       "     */\n",
       "    OutputArea.prototype.register_mime_type(EXEC_MIME_TYPE, append_mime, {\n",
       "      /* Is output safe? */\n",
       "      safe: true,\n",
       "      /* Index of renderer in `output_area.display_order` */\n",
       "      index: 0\n",
       "    });\n",
       "  }\n",
       "\n",
       "  // register the mime type if in Jupyter Notebook environment and previously unregistered\n",
       "  if (root.Jupyter !== undefined) {\n",
       "    const events = require('base/js/events');\n",
       "    const OutputArea = require('notebook/js/outputarea').OutputArea;\n",
       "\n",
       "    if (OutputArea.prototype.mime_types().indexOf(EXEC_MIME_TYPE) == -1) {\n",
       "      register_renderer(events, OutputArea);\n",
       "    }\n",
       "  }\n",
       "  if (typeof (root._bokeh_timeout) === \"undefined\" || force === true) {\n",
       "    root._bokeh_timeout = Date.now() + 5000;\n",
       "    root._bokeh_failed_load = false;\n",
       "  }\n",
       "\n",
       "  const NB_LOAD_WARNING = {'data': {'text/html':\n",
       "     \"<div style='background-color: #fdd'>\\n\"+\n",
       "     \"<p>\\n\"+\n",
       "     \"BokehJS does not appear to have successfully loaded. If loading BokehJS from CDN, this \\n\"+\n",
       "     \"may be due to a slow or bad network connection. Possible fixes:\\n\"+\n",
       "     \"</p>\\n\"+\n",
       "     \"<ul>\\n\"+\n",
       "     \"<li>re-rerun `output_notebook()` to attempt to load from CDN again, or</li>\\n\"+\n",
       "     \"<li>use INLINE resources instead, as so:</li>\\n\"+\n",
       "     \"</ul>\\n\"+\n",
       "     \"<code>\\n\"+\n",
       "     \"from bokeh.resources import INLINE\\n\"+\n",
       "     \"output_notebook(resources=INLINE)\\n\"+\n",
       "     \"</code>\\n\"+\n",
       "     \"</div>\"}};\n",
       "\n",
       "  function display_loaded() {\n",
       "    const el = document.getElementById(\"1002\");\n",
       "    if (el != null) {\n",
       "      el.textContent = \"BokehJS is loading...\";\n",
       "    }\n",
       "    if (root.Bokeh !== undefined) {\n",
       "      if (el != null) {\n",
       "        el.textContent = \"BokehJS \" + root.Bokeh.version + \" successfully loaded.\";\n",
       "      }\n",
       "    } else if (Date.now() < root._bokeh_timeout) {\n",
       "      setTimeout(display_loaded, 100)\n",
       "    }\n",
       "  }\n",
       "\n",
       "  function run_callbacks() {\n",
       "    try {\n",
       "      root._bokeh_onload_callbacks.forEach(function(callback) {\n",
       "        if (callback != null)\n",
       "          callback();\n",
       "      });\n",
       "    } finally {\n",
       "      delete root._bokeh_onload_callbacks\n",
       "    }\n",
       "    console.debug(\"Bokeh: all callbacks have finished\");\n",
       "  }\n",
       "\n",
       "  function load_libs(css_urls, js_urls, callback) {\n",
       "    if (css_urls == null) css_urls = [];\n",
       "    if (js_urls == null) js_urls = [];\n",
       "\n",
       "    root._bokeh_onload_callbacks.push(callback);\n",
       "    if (root._bokeh_is_loading > 0) {\n",
       "      console.debug(\"Bokeh: BokehJS is being loaded, scheduling callback at\", now());\n",
       "      return null;\n",
       "    }\n",
       "    if (js_urls == null || js_urls.length === 0) {\n",
       "      run_callbacks();\n",
       "      return null;\n",
       "    }\n",
       "    console.debug(\"Bokeh: BokehJS not loaded, scheduling load and callback at\", now());\n",
       "    root._bokeh_is_loading = css_urls.length + js_urls.length;\n",
       "\n",
       "    function on_load() {\n",
       "      root._bokeh_is_loading--;\n",
       "      if (root._bokeh_is_loading === 0) {\n",
       "        console.debug(\"Bokeh: all BokehJS libraries/stylesheets loaded\");\n",
       "        run_callbacks()\n",
       "      }\n",
       "    }\n",
       "\n",
       "    function on_error(url) {\n",
       "      console.error(\"failed to load \" + url);\n",
       "    }\n",
       "\n",
       "    for (let i = 0; i < css_urls.length; i++) {\n",
       "      const url = css_urls[i];\n",
       "      const element = document.createElement(\"link\");\n",
       "      element.onload = on_load;\n",
       "      element.onerror = on_error.bind(null, url);\n",
       "      element.rel = \"stylesheet\";\n",
       "      element.type = \"text/css\";\n",
       "      element.href = url;\n",
       "      console.debug(\"Bokeh: injecting link tag for BokehJS stylesheet: \", url);\n",
       "      document.body.appendChild(element);\n",
       "    }\n",
       "\n",
       "    for (let i = 0; i < js_urls.length; i++) {\n",
       "      const url = js_urls[i];\n",
       "      const element = document.createElement('script');\n",
       "      element.onload = on_load;\n",
       "      element.onerror = on_error.bind(null, url);\n",
       "      element.async = false;\n",
       "      element.src = url;\n",
       "      console.debug(\"Bokeh: injecting script tag for BokehJS library: \", url);\n",
       "      document.head.appendChild(element);\n",
       "    }\n",
       "  };\n",
       "\n",
       "  function inject_raw_css(css) {\n",
       "    const element = document.createElement(\"style\");\n",
       "    element.appendChild(document.createTextNode(css));\n",
       "    document.body.appendChild(element);\n",
       "  }\n",
       "\n",
       "  const js_urls = [\"https://cdn.bokeh.org/bokeh/release/bokeh-2.4.3.min.js\", \"https://cdn.bokeh.org/bokeh/release/bokeh-gl-2.4.3.min.js\", \"https://cdn.bokeh.org/bokeh/release/bokeh-widgets-2.4.3.min.js\", \"https://cdn.bokeh.org/bokeh/release/bokeh-tables-2.4.3.min.js\", \"https://cdn.bokeh.org/bokeh/release/bokeh-mathjax-2.4.3.min.js\"];\n",
       "  const css_urls = [];\n",
       "\n",
       "  const inline_js = [    function(Bokeh) {\n",
       "      Bokeh.set_log_level(\"info\");\n",
       "    },\n",
       "function(Bokeh) {\n",
       "    }\n",
       "  ];\n",
       "\n",
       "  function run_inline_js() {\n",
       "    if (root.Bokeh !== undefined || force === true) {\n",
       "          for (let i = 0; i < inline_js.length; i++) {\n",
       "      inline_js[i].call(root, root.Bokeh);\n",
       "    }\n",
       "if (force === true) {\n",
       "        display_loaded();\n",
       "      }} else if (Date.now() < root._bokeh_timeout) {\n",
       "      setTimeout(run_inline_js, 100);\n",
       "    } else if (!root._bokeh_failed_load) {\n",
       "      console.log(\"Bokeh: BokehJS failed to load within specified timeout.\");\n",
       "      root._bokeh_failed_load = true;\n",
       "    } else if (force !== true) {\n",
       "      const cell = $(document.getElementById(\"1002\")).parents('.cell').data().cell;\n",
       "      cell.output_area.append_execute_result(NB_LOAD_WARNING)\n",
       "    }\n",
       "  }\n",
       "\n",
       "  if (root._bokeh_is_loading === 0) {\n",
       "    console.debug(\"Bokeh: BokehJS loaded, going straight to plotting\");\n",
       "    run_inline_js();\n",
       "  } else {\n",
       "    load_libs(css_urls, js_urls, function() {\n",
       "      console.debug(\"Bokeh: BokehJS plotting callback run at\", now());\n",
       "      run_inline_js();\n",
       "    });\n",
       "  }\n",
       "}(window));"
      ],
      "application/vnd.bokehjs_load.v0+json": "(function(root) {\n  function now() {\n    return new Date();\n  }\n\n  const force = true;\n\n  if (typeof root._bokeh_onload_callbacks === \"undefined\" || force === true) {\n    root._bokeh_onload_callbacks = [];\n    root._bokeh_is_loading = undefined;\n  }\n\n\n  if (typeof (root._bokeh_timeout) === \"undefined\" || force === true) {\n    root._bokeh_timeout = Date.now() + 5000;\n    root._bokeh_failed_load = false;\n  }\n\n  const NB_LOAD_WARNING = {'data': {'text/html':\n     \"<div style='background-color: #fdd'>\\n\"+\n     \"<p>\\n\"+\n     \"BokehJS does not appear to have successfully loaded. If loading BokehJS from CDN, this \\n\"+\n     \"may be due to a slow or bad network connection. Possible fixes:\\n\"+\n     \"</p>\\n\"+\n     \"<ul>\\n\"+\n     \"<li>re-rerun `output_notebook()` to attempt to load from CDN again, or</li>\\n\"+\n     \"<li>use INLINE resources instead, as so:</li>\\n\"+\n     \"</ul>\\n\"+\n     \"<code>\\n\"+\n     \"from bokeh.resources import INLINE\\n\"+\n     \"output_notebook(resources=INLINE)\\n\"+\n     \"</code>\\n\"+\n     \"</div>\"}};\n\n  function display_loaded() {\n    const el = document.getElementById(\"1002\");\n    if (el != null) {\n      el.textContent = \"BokehJS is loading...\";\n    }\n    if (root.Bokeh !== undefined) {\n      if (el != null) {\n        el.textContent = \"BokehJS \" + root.Bokeh.version + \" successfully loaded.\";\n      }\n    } else if (Date.now() < root._bokeh_timeout) {\n      setTimeout(display_loaded, 100)\n    }\n  }\n\n  function run_callbacks() {\n    try {\n      root._bokeh_onload_callbacks.forEach(function(callback) {\n        if (callback != null)\n          callback();\n      });\n    } finally {\n      delete root._bokeh_onload_callbacks\n    }\n    console.debug(\"Bokeh: all callbacks have finished\");\n  }\n\n  function load_libs(css_urls, js_urls, callback) {\n    if (css_urls == null) css_urls = [];\n    if (js_urls == null) js_urls = [];\n\n    root._bokeh_onload_callbacks.push(callback);\n    if (root._bokeh_is_loading > 0) {\n      console.debug(\"Bokeh: BokehJS is being loaded, scheduling callback at\", now());\n      return null;\n    }\n    if (js_urls == null || js_urls.length === 0) {\n      run_callbacks();\n      return null;\n    }\n    console.debug(\"Bokeh: BokehJS not loaded, scheduling load and callback at\", now());\n    root._bokeh_is_loading = css_urls.length + js_urls.length;\n\n    function on_load() {\n      root._bokeh_is_loading--;\n      if (root._bokeh_is_loading === 0) {\n        console.debug(\"Bokeh: all BokehJS libraries/stylesheets loaded\");\n        run_callbacks()\n      }\n    }\n\n    function on_error(url) {\n      console.error(\"failed to load \" + url);\n    }\n\n    for (let i = 0; i < css_urls.length; i++) {\n      const url = css_urls[i];\n      const element = document.createElement(\"link\");\n      element.onload = on_load;\n      element.onerror = on_error.bind(null, url);\n      element.rel = \"stylesheet\";\n      element.type = \"text/css\";\n      element.href = url;\n      console.debug(\"Bokeh: injecting link tag for BokehJS stylesheet: \", url);\n      document.body.appendChild(element);\n    }\n\n    for (let i = 0; i < js_urls.length; i++) {\n      const url = js_urls[i];\n      const element = document.createElement('script');\n      element.onload = on_load;\n      element.onerror = on_error.bind(null, url);\n      element.async = false;\n      element.src = url;\n      console.debug(\"Bokeh: injecting script tag for BokehJS library: \", url);\n      document.head.appendChild(element);\n    }\n  };\n\n  function inject_raw_css(css) {\n    const element = document.createElement(\"style\");\n    element.appendChild(document.createTextNode(css));\n    document.body.appendChild(element);\n  }\n\n  const js_urls = [\"https://cdn.bokeh.org/bokeh/release/bokeh-2.4.3.min.js\", \"https://cdn.bokeh.org/bokeh/release/bokeh-gl-2.4.3.min.js\", \"https://cdn.bokeh.org/bokeh/release/bokeh-widgets-2.4.3.min.js\", \"https://cdn.bokeh.org/bokeh/release/bokeh-tables-2.4.3.min.js\", \"https://cdn.bokeh.org/bokeh/release/bokeh-mathjax-2.4.3.min.js\"];\n  const css_urls = [];\n\n  const inline_js = [    function(Bokeh) {\n      Bokeh.set_log_level(\"info\");\n    },\nfunction(Bokeh) {\n    }\n  ];\n\n  function run_inline_js() {\n    if (root.Bokeh !== undefined || force === true) {\n          for (let i = 0; i < inline_js.length; i++) {\n      inline_js[i].call(root, root.Bokeh);\n    }\nif (force === true) {\n        display_loaded();\n      }} else if (Date.now() < root._bokeh_timeout) {\n      setTimeout(run_inline_js, 100);\n    } else if (!root._bokeh_failed_load) {\n      console.log(\"Bokeh: BokehJS failed to load within specified timeout.\");\n      root._bokeh_failed_load = true;\n    } else if (force !== true) {\n      const cell = $(document.getElementById(\"1002\")).parents('.cell').data().cell;\n      cell.output_area.append_execute_result(NB_LOAD_WARNING)\n    }\n  }\n\n  if (root._bokeh_is_loading === 0) {\n    console.debug(\"Bokeh: BokehJS loaded, going straight to plotting\");\n    run_inline_js();\n  } else {\n    load_libs(css_urls, js_urls, function() {\n      console.debug(\"Bokeh: BokehJS plotting callback run at\", now());\n      run_inline_js();\n    });\n  }\n}(window));"
     },
     "metadata": {},
     "output_type": "display_data"
    },
    {
     "data": {
      "text/html": [
       "\n",
       "  <div class=\"bk-root\" id=\"ec2f8d52-4aa0-4375-ab2c-ec99500fd4a3\" data-root-id=\"1004\"></div>\n"
      ]
     },
     "metadata": {},
     "output_type": "display_data"
    },
    {
     "data": {
      "application/javascript": [
       "(function(root) {\n",
       "  function embed_document(root) {\n",
       "  const docs_json = {\"8a0d0f58-9887-4b01-a3fa-ee3e8b7982f0\":{\"defs\":[],\"roots\":{\"references\":[{\"attributes\":{\"center\":[{\"id\":\"1037\"}],\"renderers\":[{\"id\":\"1031\"}],\"title\":{\"id\":\"1005\"},\"toolbar\":{\"id\":\"1021\"},\"width\":800,\"x_range\":{\"id\":\"1007\"},\"x_scale\":{\"id\":\"1011\"},\"y_range\":{\"id\":\"1009\"},\"y_scale\":{\"id\":\"1013\"}},\"id\":\"1004\",\"subtype\":\"Figure\",\"type\":\"Plot\"},{\"attributes\":{},\"id\":\"1015\",\"type\":\"PanTool\"},{\"attributes\":{},\"id\":\"1035\",\"type\":\"Selection\"},{\"attributes\":{},\"id\":\"1007\",\"type\":\"DataRange1d\"},{\"attributes\":{\"overlay\":{\"id\":\"1020\"}},\"id\":\"1017\",\"type\":\"BoxZoomTool\"},{\"attributes\":{},\"id\":\"1018\",\"type\":\"ResetTool\"},{\"attributes\":{\"data\":{\"color\":[\"red\",\"yellow\",\"salmon\",\"salmon\",\"green\",\"salmon\",\"salmon\",\"blue\",\"salmon\",\"salmon\",\"salmon\",\"darkred\",\"blue\",\"green\",\"blue\",\"green\",\"salmon\",\"blue\",\"salmon\",\"salmon\",\"salmon\",\"salmon\",\"blue\",\"salmon\",\"blue\",\"purple\",\"salmon\",\"blue\",\"salmon\",\"red\",\"salmon\",\"purple\",\"salmon\",\"blue\",\"salmon\",\"blue\",\"salmon\",\"salmon\",\"salmon\",\"salmon\",\"salmon\",\"salmon\",\"salmon\",\"salmon\",\"salmon\",\"salmon\",\"salmon\",\"red\",\"red\",\"blue\",\"salmon\",\"red\",\"salmon\",\"salmon\",\"red\",\"salmon\",\"purple\",\"salmon\",\"red\",\"salmon\",\"darkred\",\"salmon\",\"salmon\",\"purple\",\"salmon\",\"salmon\",\"purple\",\"salmon\",\"red\",\"salmon\",\"red\",\"red\",\"salmon\",\"salmon\",\"green\",\"blue\",\"purple\",\"salmon\",\"salmon\",\"salmon\",\"salmon\",\"salmon\",\"darkred\",\"blue\",\"salmon\",\"green\",\"purple\",\"salmon\",\"salmon\",\"darkred\",\"salmon\",\"red\",\"blue\",\"salmon\",\"salmon\",\"salmon\",\"purple\",\"purple\",\"purple\",\"purple\",\"darkred\",\"salmon\",\"salmon\",\"salmon\",\"purple\",\"salmon\",\"salmon\",\"salmon\",\"salmon\",\"green\",\"salmon\",\"skyblue\",\"green\",\"darkred\",\"salmon\",\"salmon\",\"blue\",\"yellow\",\"salmon\",\"salmon\",\"purple\",\"salmon\",\"salmon\",\"salmon\",\"salmon\",\"salmon\",\"salmon\",\"red\",\"salmon\",\"red\",\"purple\",\"salmon\",\"purple\",\"salmon\",\"salmon\",\"salmon\",\"purple\",\"darkred\",\"salmon\",\"salmon\",\"salmon\",\"salmon\",\"salmon\",\"salmon\",\"purple\",\"purple\",\"salmon\",\"purple\",\"purple\",\"blue\",\"yellow\",\"salmon\",\"purple\",\"skyblue\",\"salmon\",\"blue\",\"purple\",\"salmon\",\"purple\",\"purple\",\"red\",\"yellow\",\"salmon\",\"salmon\",\"salmon\",\"salmon\",\"darkred\",\"salmon\",\"salmon\",\"blue\",\"skyblue\",\"salmon\",\"blue\",\"blue\",\"blue\",\"salmon\",\"purple\",\"purple\",\"yellow\",\"salmon\",\"salmon\",\"blue\",\"salmon\",\"salmon\",\"salmon\",\"salmon\",\"salmon\",\"purple\",\"salmon\",\"salmon\",\"salmon\",\"salmon\",\"salmon\",\"purple\",\"salmon\",\"salmon\",\"purple\",\"salmon\",\"salmon\",\"blue\",\"red\",\"salmon\",\"salmon\",\"salmon\",\"blue\",\"salmon\",\"blue\",\"salmon\",\"blue\",\"salmon\",\"purple\",\"salmon\",\"red\",\"blue\",\"red\",\"red\",\"skyblue\",\"salmon\",\"blue\",\"salmon\",\"salmon\",\"salmon\",\"blue\",\"salmon\",\"salmon\",\"yellow\",\"red\",\"darkred\",\"red\",\"red\",\"green\",\"salmon\",\"salmon\",\"purple\",\"salmon\",\"salmon\",\"salmon\",\"salmon\",\"purple\",\"purple\",\"purple\",\"blue\",\"salmon\",\"salmon\",\"purple\",\"salmon\",\"darkred\",\"salmon\",\"salmon\",\"darkred\",\"salmon\",\"red\",\"red\",\"purple\",\"salmon\",\"yellow\",\"salmon\",\"salmon\",\"salmon\",\"blue\",\"salmon\",\"green\",\"darkred\",\"salmon\",\"salmon\",\"salmon\",\"blue\",\"salmon\",\"purple\",\"salmon\",\"salmon\",\"red\",\"salmon\",\"salmon\",\"red\",\"salmon\",\"salmon\",\"salmon\",\"salmon\",\"salmon\",\"salmon\",\"salmon\",\"salmon\",\"salmon\",\"salmon\",\"red\",\"skyblue\",\"darkred\",\"salmon\",\"salmon\",\"skyblue\",\"salmon\",\"purple\",\"salmon\",\"salmon\",\"salmon\",\"green\",\"salmon\",\"salmon\",\"blue\",\"salmon\",\"salmon\",\"salmon\",\"salmon\",\"salmon\",\"salmon\",\"purple\",\"skyblue\",\"salmon\",\"salmon\",\"blue\",\"salmon\",\"blue\",\"purple\",\"salmon\",\"salmon\",\"salmon\",\"blue\",\"salmon\",\"salmon\",\"salmon\",\"salmon\",\"salmon\",\"salmon\",\"blue\",\"purple\",\"purple\",\"darkred\",\"red\",\"purple\",\"red\",\"purple\",\"purple\",\"purple\",\"darkred\",\"salmon\",\"salmon\",\"salmon\",\"salmon\",\"blue\",\"salmon\",\"salmon\",\"purple\",\"salmon\",\"salmon\",\"salmon\",\"purple\",\"darkred\",\"salmon\",\"salmon\",\"purple\",\"salmon\",\"salmon\",\"salmon\",\"salmon\",\"salmon\",\"salmon\",\"darkred\",\"salmon\",\"salmon\",\"salmon\",\"salmon\",\"salmon\",\"salmon\",\"green\",\"salmon\",\"green\",\"darkred\",\"green\",\"salmon\",\"purple\",\"salmon\",\"salmon\",\"salmon\",\"salmon\",\"blue\",\"green\",\"purple\",\"salmon\",\"green\",\"green\",\"green\",\"salmon\",\"green\",\"green\",\"blue\",\"salmon\",\"salmon\",\"blue\",\"salmon\",\"salmon\",\"salmon\",\"salmon\",\"salmon\",\"blue\",\"salmon\",\"salmon\",\"blue\",\"purple\",\"salmon\",\"salmon\",\"darkred\",\"salmon\",\"blue\",\"purple\",\"salmon\",\"green\",\"red\",\"salmon\",\"red\",\"purple\",\"purple\",\"red\",\"blue\",\"purple\",\"blue\",\"purple\",\"purple\",\"purple\",\"salmon\",\"salmon\",\"salmon\",\"blue\",\"salmon\",\"skyblue\",\"blue\",\"purple\",\"salmon\",\"salmon\",\"salmon\",\"red\",\"salmon\",\"salmon\",\"salmon\",\"salmon\",\"salmon\",\"salmon\",\"salmon\",\"blue\",\"purple\",\"salmon\",\"purple\",\"salmon\",\"salmon\",\"salmon\",\"red\",\"salmon\",\"red\",\"blue\",\"salmon\",\"salmon\",\"salmon\",\"blue\",\"salmon\",\"salmon\",\"salmon\",\"salmon\",\"salmon\",\"blue\",\"purple\",\"salmon\",\"salmon\",\"salmon\",\"salmon\",\"salmon\",\"salmon\",\"blue\",\"salmon\",\"salmon\",\"blue\",\"salmon\",\"salmon\",\"green\",\"salmon\",\"salmon\",\"salmon\",\"salmon\",\"red\",\"purple\",\"purple\",\"salmon\",\"salmon\",\"blue\",\"green\",\"green\",\"salmon\",\"purple\",\"purple\",\"purple\",\"purple\",\"purple\",\"blue\",\"purple\",\"red\",\"skyblue\",\"skyblue\",\"skyblue\",\"blue\",\"blue\",\"purple\",\"purple\",\"blue\",\"salmon\",\"blue\",\"salmon\",\"green\",\"salmon\",\"blue\",\"skyblue\",\"skyblue\",\"skyblue\",\"skyblue\",\"skyblue\",\"skyblue\",\"blue\",\"blue\",\"red\",\"salmon\",\"purple\",\"purple\",\"blue\",\"blue\",\"salmon\",\"salmon\",\"green\",\"blue\",\"blue\",\"salmon\",\"blue\",\"skyblue\",\"blue\",\"blue\",\"purple\",\"purple\",\"blue\",\"purple\",\"blue\",\"skyblue\",\"purple\",\"skyblue\",\"skyblue\",\"salmon\",\"red\",\"blue\",\"purple\",\"red\",\"skyblue\",\"yellow\",\"blue\",\"blue\",\"salmon\",\"skyblue\",\"purple\",\"skyblue\",\"blue\",\"green\",\"salmon\",\"skyblue\",\"salmon\",\"salmon\",\"darkred\",\"salmon\",\"salmon\",\"salmon\",\"blue\",\"salmon\",\"salmon\",\"salmon\",\"blue\",\"salmon\",\"salmon\",\"salmon\",\"salmon\",\"yellow\",\"salmon\",\"darkred\",\"yellow\",\"yellow\",\"salmon\",\"blue\",\"salmon\",\"salmon\",\"blue\",\"salmon\",\"salmon\",\"blue\",\"salmon\",\"yellow\",\"salmon\",\"blue\",\"red\",\"salmon\",\"salmon\",\"blue\",\"blue\",\"blue\",\"salmon\",\"skyblue\",\"red\",\"darkred\",\"blue\",\"salmon\",\"skyblue\",\"blue\",\"skyblue\",\"skyblue\"],\"label\":[\"lesions in lungs\",\"Drugs for atypical pneumonia and myocardial\",\"Rise of COVID19 in the Country\",\"Rise of COVID19 in the Country\",\"Evolution of virus\",\"Rise of COVID19 in the Country\",\"Rise of COVID19 in the Country\",\"Infection prevention measures by hospital\",\"Rise of COVID19 in the Country\",\"Rise of COVID19 in the Country\",\"Rise of COVID19 in the Country\",\"Research on vaccine\",\"Infection prevention measures by hospital\",\"Evolution of virus\",\"Infection prevention measures by hospital\",\"Evolution of virus\",\"Rise of COVID19 in the Country\",\"Infection prevention measures by hospital\",\"Rise of COVID19 in the Country\",\"Rise of COVID19 in the Country\",\"Rise of COVID19 in the Country\",\"Rise of COVID19 in the Country\",\"Infection prevention measures by hospital\",\"Rise of COVID19 in the Country\",\"Infection prevention measures by hospital\",\"Symptoms of COVID19\",\"Rise of COVID19 in the Country\",\"Infection prevention measures by hospital\",\"Rise of COVID19 in the Country\",\"lesions in lungs\",\"Rise of COVID19 in the Country\",\"Symptoms of COVID19\",\"Rise of COVID19 in the Country\",\"Infection prevention measures by hospital\",\"Rise of COVID19 in the Country\",\"Infection prevention measures by hospital\",\"Rise of COVID19 in the Country\",\"Rise of COVID19 in the Country\",\"Rise of COVID19 in the Country\",\"Rise of COVID19 in the Country\",\"Rise of COVID19 in the Country\",\"Rise of COVID19 in the Country\",\"Rise of COVID19 in the Country\",\"Rise of COVID19 in the Country\",\"Rise of COVID19 in the Country\",\"Rise of COVID19 in the Country\",\"Rise of COVID19 in the Country\",\"lesions in lungs\",\"lesions in lungs\",\"Infection prevention measures by hospital\",\"Rise of COVID19 in the Country\",\"lesions in lungs\",\"Rise of COVID19 in the Country\",\"Rise of COVID19 in the Country\",\"lesions in lungs\",\"Rise of COVID19 in the Country\",\"Symptoms of COVID19\",\"Rise of COVID19 in the Country\",\"lesions in lungs\",\"Rise of COVID19 in the Country\",\"Research on vaccine\",\"Rise of COVID19 in the Country\",\"Rise of COVID19 in the Country\",\"Symptoms of COVID19\",\"Rise of COVID19 in the Country\",\"Rise of COVID19 in the Country\",\"Symptoms of COVID19\",\"Rise of COVID19 in the Country\",\"lesions in lungs\",\"Rise of COVID19 in the Country\",\"lesions in lungs\",\"lesions in lungs\",\"Rise of COVID19 in the Country\",\"Rise of COVID19 in the Country\",\"Evolution of virus\",\"Infection prevention measures by hospital\",\"Symptoms of COVID19\",\"Rise of COVID19 in the Country\",\"Rise of COVID19 in the Country\",\"Rise of COVID19 in the Country\",\"Rise of COVID19 in the Country\",\"Rise of COVID19 in the Country\",\"Research on vaccine\",\"Infection prevention measures by hospital\",\"Rise of COVID19 in the Country\",\"Evolution of virus\",\"Symptoms of COVID19\",\"Rise of COVID19 in the Country\",\"Rise of COVID19 in the Country\",\"Research on vaccine\",\"Rise of COVID19 in the Country\",\"lesions in lungs\",\"Infection prevention measures by hospital\",\"Rise of COVID19 in the Country\",\"Rise of COVID19 in the Country\",\"Rise of COVID19 in the Country\",\"Symptoms of COVID19\",\"Symptoms of COVID19\",\"Symptoms of COVID19\",\"Symptoms of COVID19\",\"Research on vaccine\",\"Rise of COVID19 in the Country\",\"Rise of COVID19 in the Country\",\"Rise of COVID19 in the Country\",\"Symptoms of COVID19\",\"Rise of COVID19 in the Country\",\"Rise of COVID19 in the Country\",\"Rise of COVID19 in the Country\",\"Rise of COVID19 in the Country\",\"Evolution of virus\",\"Rise of COVID19 in the Country\",\"Observation on COVID19 patient\",\"Evolution of virus\",\"Research on vaccine\",\"Rise of COVID19 in the Country\",\"Rise of COVID19 in the Country\",\"Infection prevention measures by hospital\",\"Drugs for atypical pneumonia and myocardial\",\"Rise of COVID19 in the Country\",\"Rise of COVID19 in the Country\",\"Symptoms of COVID19\",\"Rise of COVID19 in the Country\",\"Rise of COVID19 in the Country\",\"Rise of COVID19 in the Country\",\"Rise of COVID19 in the Country\",\"Rise of COVID19 in the Country\",\"Rise of COVID19 in the Country\",\"lesions in lungs\",\"Rise of COVID19 in the Country\",\"lesions in lungs\",\"Symptoms of COVID19\",\"Rise of COVID19 in the Country\",\"Symptoms of COVID19\",\"Rise of COVID19 in the Country\",\"Rise of COVID19 in the Country\",\"Rise of COVID19 in the Country\",\"Symptoms of COVID19\",\"Research on vaccine\",\"Rise of COVID19 in the Country\",\"Rise of COVID19 in the Country\",\"Rise of COVID19 in the Country\",\"Rise of COVID19 in the Country\",\"Rise of COVID19 in the Country\",\"Rise of COVID19 in the Country\",\"Symptoms of COVID19\",\"Symptoms of COVID19\",\"Rise of COVID19 in the Country\",\"Symptoms of COVID19\",\"Symptoms of COVID19\",\"Infection prevention measures by hospital\",\"Drugs for atypical pneumonia and myocardial\",\"Rise of COVID19 in the Country\",\"Symptoms of COVID19\",\"Observation on COVID19 patient\",\"Rise of COVID19 in the Country\",\"Infection prevention measures by hospital\",\"Symptoms of COVID19\",\"Rise of COVID19 in the Country\",\"Symptoms of COVID19\",\"Symptoms of COVID19\",\"lesions in lungs\",\"Drugs for atypical pneumonia and myocardial\",\"Rise of COVID19 in the Country\",\"Rise of COVID19 in the Country\",\"Rise of COVID19 in the Country\",\"Rise of COVID19 in the Country\",\"Research on vaccine\",\"Rise of COVID19 in the Country\",\"Rise of COVID19 in the Country\",\"Infection prevention measures by hospital\",\"Observation on COVID19 patient\",\"Rise of COVID19 in the Country\",\"Infection prevention measures by hospital\",\"Infection prevention measures by hospital\",\"Infection prevention measures by hospital\",\"Rise of COVID19 in the Country\",\"Symptoms of COVID19\",\"Symptoms of COVID19\",\"Drugs for atypical pneumonia and myocardial\",\"Rise of COVID19 in the Country\",\"Rise of COVID19 in the Country\",\"Infection prevention measures by hospital\",\"Rise of COVID19 in the Country\",\"Rise of COVID19 in the Country\",\"Rise of COVID19 in the Country\",\"Rise of COVID19 in the Country\",\"Rise of COVID19 in the Country\",\"Symptoms of COVID19\",\"Rise of COVID19 in the Country\",\"Rise of COVID19 in the Country\",\"Rise of COVID19 in the Country\",\"Rise of COVID19 in the Country\",\"Rise of COVID19 in the Country\",\"Symptoms of COVID19\",\"Rise of COVID19 in the Country\",\"Rise of COVID19 in the Country\",\"Symptoms of COVID19\",\"Rise of COVID19 in the Country\",\"Rise of COVID19 in the Country\",\"Infection prevention measures by hospital\",\"lesions in lungs\",\"Rise of COVID19 in the Country\",\"Rise of COVID19 in the Country\",\"Rise of COVID19 in the Country\",\"Infection prevention measures by hospital\",\"Rise of COVID19 in the Country\",\"Infection prevention measures by hospital\",\"Rise of COVID19 in the Country\",\"Infection prevention measures by hospital\",\"Rise of COVID19 in the Country\",\"Symptoms of COVID19\",\"Rise of COVID19 in the Country\",\"lesions in lungs\",\"Infection prevention measures by hospital\",\"lesions in lungs\",\"lesions in lungs\",\"Observation on COVID19 patient\",\"Rise of COVID19 in the Country\",\"Infection prevention measures by hospital\",\"Rise of COVID19 in the Country\",\"Rise of COVID19 in the Country\",\"Rise of COVID19 in the Country\",\"Infection prevention measures by hospital\",\"Rise of COVID19 in the Country\",\"Rise of COVID19 in the Country\",\"Drugs for atypical pneumonia and myocardial\",\"lesions in lungs\",\"Research on vaccine\",\"lesions in lungs\",\"lesions in lungs\",\"Evolution of virus\",\"Rise of COVID19 in the Country\",\"Rise of COVID19 in the Country\",\"Symptoms of COVID19\",\"Rise of COVID19 in the Country\",\"Rise of COVID19 in the Country\",\"Rise of COVID19 in the Country\",\"Rise of COVID19 in the Country\",\"Symptoms of COVID19\",\"Symptoms of COVID19\",\"Symptoms of COVID19\",\"Infection prevention measures by hospital\",\"Rise of COVID19 in the Country\",\"Rise of COVID19 in the Country\",\"Symptoms of COVID19\",\"Rise of COVID19 in the Country\",\"Research on vaccine\",\"Rise of COVID19 in the Country\",\"Rise of COVID19 in the Country\",\"Research on vaccine\",\"Rise of COVID19 in the Country\",\"lesions in lungs\",\"lesions in lungs\",\"Symptoms of COVID19\",\"Rise of COVID19 in the Country\",\"Drugs for atypical pneumonia and myocardial\",\"Rise of COVID19 in the Country\",\"Rise of COVID19 in the Country\",\"Rise of COVID19 in the Country\",\"Infection prevention measures by hospital\",\"Rise of COVID19 in the Country\",\"Evolution of virus\",\"Research on vaccine\",\"Rise of COVID19 in the Country\",\"Rise of COVID19 in the Country\",\"Rise of COVID19 in the Country\",\"Infection prevention measures by hospital\",\"Rise of COVID19 in the Country\",\"Symptoms of COVID19\",\"Rise of COVID19 in the Country\",\"Rise of COVID19 in the Country\",\"lesions in lungs\",\"Rise of COVID19 in the Country\",\"Rise of COVID19 in the Country\",\"lesions in lungs\",\"Rise of COVID19 in the Country\",\"Rise of COVID19 in the Country\",\"Rise of COVID19 in the Country\",\"Rise of COVID19 in the Country\",\"Rise of COVID19 in the Country\",\"Rise of COVID19 in the Country\",\"Rise of COVID19 in the Country\",\"Rise of COVID19 in the Country\",\"Rise of COVID19 in the Country\",\"Rise of COVID19 in the Country\",\"lesions in lungs\",\"Observation on COVID19 patient\",\"Research on vaccine\",\"Rise of COVID19 in the Country\",\"Rise of COVID19 in the Country\",\"Observation on COVID19 patient\",\"Rise of COVID19 in the Country\",\"Symptoms of COVID19\",\"Rise of COVID19 in the Country\",\"Rise of COVID19 in the Country\",\"Rise of COVID19 in the Country\",\"Evolution of virus\",\"Rise of COVID19 in the Country\",\"Rise of COVID19 in the Country\",\"Infection prevention measures by hospital\",\"Rise of COVID19 in the Country\",\"Rise of COVID19 in the Country\",\"Rise of COVID19 in the Country\",\"Rise of COVID19 in the Country\",\"Rise of COVID19 in the Country\",\"Rise of COVID19 in the Country\",\"Symptoms of COVID19\",\"Observation on COVID19 patient\",\"Rise of COVID19 in the Country\",\"Rise of COVID19 in the Country\",\"Infection prevention measures by hospital\",\"Rise of COVID19 in the Country\",\"Infection prevention measures by hospital\",\"Symptoms of COVID19\",\"Rise of COVID19 in the Country\",\"Rise of COVID19 in the Country\",\"Rise of COVID19 in the Country\",\"Infection prevention measures by hospital\",\"Rise of COVID19 in the Country\",\"Rise of COVID19 in the Country\",\"Rise of COVID19 in the Country\",\"Rise of COVID19 in the Country\",\"Rise of COVID19 in the Country\",\"Rise of COVID19 in the Country\",\"Infection prevention measures by hospital\",\"Symptoms of COVID19\",\"Symptoms of COVID19\",\"Research on vaccine\",\"lesions in lungs\",\"Symptoms of COVID19\",\"lesions in lungs\",\"Symptoms of COVID19\",\"Symptoms of COVID19\",\"Symptoms of COVID19\",\"Research on vaccine\",\"Rise of COVID19 in the Country\",\"Rise of COVID19 in the Country\",\"Rise of COVID19 in the Country\",\"Rise of COVID19 in the Country\",\"Infection prevention measures by hospital\",\"Rise of COVID19 in the Country\",\"Rise of COVID19 in the Country\",\"Symptoms of COVID19\",\"Rise of COVID19 in the Country\",\"Rise of COVID19 in the Country\",\"Rise of COVID19 in the Country\",\"Symptoms of COVID19\",\"Research on vaccine\",\"Rise of COVID19 in the Country\",\"Rise of COVID19 in the Country\",\"Symptoms of COVID19\",\"Rise of COVID19 in the Country\",\"Rise of COVID19 in the Country\",\"Rise of COVID19 in the Country\",\"Rise of COVID19 in the Country\",\"Rise of COVID19 in the Country\",\"Rise of COVID19 in the Country\",\"Research on vaccine\",\"Rise of COVID19 in the Country\",\"Rise of COVID19 in the Country\",\"Rise of COVID19 in the Country\",\"Rise of COVID19 in the Country\",\"Rise of COVID19 in the Country\",\"Rise of COVID19 in the Country\",\"Evolution of virus\",\"Rise of COVID19 in the Country\",\"Evolution of virus\",\"Research on vaccine\",\"Evolution of virus\",\"Rise of COVID19 in the Country\",\"Symptoms of COVID19\",\"Rise of COVID19 in the Country\",\"Rise of COVID19 in the Country\",\"Rise of COVID19 in the Country\",\"Rise of COVID19 in the Country\",\"Infection prevention measures by hospital\",\"Evolution of virus\",\"Symptoms of COVID19\",\"Rise of COVID19 in the Country\",\"Evolution of virus\",\"Evolution of virus\",\"Evolution of virus\",\"Rise of COVID19 in the Country\",\"Evolution of virus\",\"Evolution of virus\",\"Infection prevention measures by hospital\",\"Rise of COVID19 in the Country\",\"Rise of COVID19 in the Country\",\"Infection prevention measures by hospital\",\"Rise of COVID19 in the Country\",\"Rise of COVID19 in the Country\",\"Rise of COVID19 in the Country\",\"Rise of COVID19 in the Country\",\"Rise of COVID19 in the Country\",\"Infection prevention measures by hospital\",\"Rise of COVID19 in the Country\",\"Rise of COVID19 in the Country\",\"Infection prevention measures by hospital\",\"Symptoms of COVID19\",\"Rise of COVID19 in the Country\",\"Rise of COVID19 in the Country\",\"Research on vaccine\",\"Rise of COVID19 in the Country\",\"Infection prevention measures by hospital\",\"Symptoms of COVID19\",\"Rise of COVID19 in the Country\",\"Evolution of virus\",\"lesions in lungs\",\"Rise of COVID19 in the Country\",\"lesions in lungs\",\"Symptoms of COVID19\",\"Symptoms of COVID19\",\"lesions in lungs\",\"Infection prevention measures by hospital\",\"Symptoms of COVID19\",\"Infection prevention measures by hospital\",\"Symptoms of COVID19\",\"Symptoms of COVID19\",\"Symptoms of COVID19\",\"Rise of COVID19 in the Country\",\"Rise of COVID19 in the Country\",\"Rise of COVID19 in the Country\",\"Infection prevention measures by hospital\",\"Rise of COVID19 in the Country\",\"Observation on COVID19 patient\",\"Infection prevention measures by hospital\",\"Symptoms of COVID19\",\"Rise of COVID19 in the Country\",\"Rise of COVID19 in the Country\",\"Rise of COVID19 in the Country\",\"lesions in lungs\",\"Rise of COVID19 in the Country\",\"Rise of COVID19 in the Country\",\"Rise of COVID19 in the Country\",\"Rise of COVID19 in the Country\",\"Rise of COVID19 in the Country\",\"Rise of COVID19 in the Country\",\"Rise of COVID19 in the Country\",\"Infection prevention measures by hospital\",\"Symptoms of COVID19\",\"Rise of COVID19 in the Country\",\"Symptoms of COVID19\",\"Rise of COVID19 in the Country\",\"Rise of COVID19 in the Country\",\"Rise of COVID19 in the Country\",\"lesions in lungs\",\"Rise of COVID19 in the Country\",\"lesions in lungs\",\"Infection prevention measures by hospital\",\"Rise of COVID19 in the Country\",\"Rise of COVID19 in the Country\",\"Rise of COVID19 in the Country\",\"Infection prevention measures by hospital\",\"Rise of COVID19 in the Country\",\"Rise of COVID19 in the Country\",\"Rise of COVID19 in the Country\",\"Rise of COVID19 in the Country\",\"Rise of COVID19 in the Country\",\"Infection prevention measures by hospital\",\"Symptoms of COVID19\",\"Rise of COVID19 in the Country\",\"Rise of COVID19 in the Country\",\"Rise of COVID19 in the Country\",\"Rise of COVID19 in the Country\",\"Rise of COVID19 in the Country\",\"Rise of COVID19 in the Country\",\"Infection prevention measures by hospital\",\"Rise of COVID19 in the Country\",\"Rise of COVID19 in the Country\",\"Infection prevention measures by hospital\",\"Rise of COVID19 in the Country\",\"Rise of COVID19 in the Country\",\"Evolution of virus\",\"Rise of COVID19 in the Country\",\"Rise of COVID19 in the Country\",\"Rise of COVID19 in the Country\",\"Rise of COVID19 in the Country\",\"lesions in lungs\",\"Symptoms of COVID19\",\"Symptoms of COVID19\",\"Rise of COVID19 in the Country\",\"Rise of COVID19 in the Country\",\"Infection prevention measures by hospital\",\"Evolution of virus\",\"Evolution of virus\",\"Rise of COVID19 in the Country\",\"Symptoms of COVID19\",\"Symptoms of COVID19\",\"Symptoms of COVID19\",\"Symptoms of COVID19\",\"Symptoms of COVID19\",\"Infection prevention measures by hospital\",\"Symptoms of COVID19\",\"lesions in lungs\",\"Observation on COVID19 patient\",\"Observation on COVID19 patient\",\"Observation on COVID19 patient\",\"Infection prevention measures by hospital\",\"Infection prevention measures by hospital\",\"Symptoms of COVID19\",\"Symptoms of COVID19\",\"Infection prevention measures by hospital\",\"Rise of COVID19 in the Country\",\"Infection prevention measures by hospital\",\"Rise of COVID19 in the Country\",\"Evolution of virus\",\"Rise of COVID19 in the Country\",\"Infection prevention measures by hospital\",\"Observation on COVID19 patient\",\"Observation on COVID19 patient\",\"Observation on COVID19 patient\",\"Observation on COVID19 patient\",\"Observation on COVID19 patient\",\"Observation on COVID19 patient\",\"Infection prevention measures by hospital\",\"Infection prevention measures by hospital\",\"lesions in lungs\",\"Rise of COVID19 in the Country\",\"Symptoms of COVID19\",\"Symptoms of COVID19\",\"Infection prevention measures by hospital\",\"Infection prevention measures by hospital\",\"Rise of COVID19 in the Country\",\"Rise of COVID19 in the Country\",\"Evolution of virus\",\"Infection prevention measures by hospital\",\"Infection prevention measures by hospital\",\"Rise of COVID19 in the Country\",\"Infection prevention measures by hospital\",\"Observation on COVID19 patient\",\"Infection prevention measures by hospital\",\"Infection prevention measures by hospital\",\"Symptoms of COVID19\",\"Symptoms of COVID19\",\"Infection prevention measures by hospital\",\"Symptoms of COVID19\",\"Infection prevention measures by hospital\",\"Observation on COVID19 patient\",\"Symptoms of COVID19\",\"Observation on COVID19 patient\",\"Observation on COVID19 patient\",\"Rise of COVID19 in the Country\",\"lesions in lungs\",\"Infection prevention measures by hospital\",\"Symptoms of COVID19\",\"lesions in lungs\",\"Observation on COVID19 patient\",\"Drugs for atypical pneumonia and myocardial\",\"Infection prevention measures by hospital\",\"Infection prevention measures by hospital\",\"Rise of COVID19 in the Country\",\"Observation on COVID19 patient\",\"Symptoms of COVID19\",\"Observation on COVID19 patient\",\"Infection prevention measures by hospital\",\"Evolution of virus\",\"Rise of COVID19 in the Country\",\"Observation on COVID19 patient\",\"Rise of COVID19 in the Country\",\"Rise of COVID19 in the Country\",\"Research on vaccine\",\"Rise of COVID19 in the Country\",\"Rise of COVID19 in the Country\",\"Rise of COVID19 in the Country\",\"Infection prevention measures by hospital\",\"Rise of COVID19 in the Country\",\"Rise of COVID19 in the Country\",\"Rise of COVID19 in the Country\",\"Infection prevention measures by hospital\",\"Rise of COVID19 in the Country\",\"Rise of COVID19 in the Country\",\"Rise of COVID19 in the Country\",\"Rise of COVID19 in the Country\",\"Drugs for atypical pneumonia and myocardial\",\"Rise of COVID19 in the Country\",\"Research on vaccine\",\"Drugs for atypical pneumonia and myocardial\",\"Drugs for atypical pneumonia and myocardial\",\"Rise of COVID19 in the Country\",\"Infection prevention measures by hospital\",\"Rise of COVID19 in the Country\",\"Rise of COVID19 in the Country\",\"Infection prevention measures by hospital\",\"Rise of COVID19 in the Country\",\"Rise of COVID19 in the Country\",\"Infection prevention measures by hospital\",\"Rise of COVID19 in the Country\",\"Drugs for atypical pneumonia and myocardial\",\"Rise of COVID19 in the Country\",\"Infection prevention measures by hospital\",\"lesions in lungs\",\"Rise of COVID19 in the Country\",\"Rise of COVID19 in the Country\",\"Infection prevention measures by hospital\",\"Infection prevention measures by hospital\",\"Infection prevention measures by hospital\",\"Rise of COVID19 in the Country\",\"Observation on COVID19 patient\",\"lesions in lungs\",\"Research on vaccine\",\"Infection prevention measures by hospital\",\"Rise of COVID19 in the Country\",\"Observation on COVID19 patient\",\"Infection prevention measures by hospital\",\"Observation on COVID19 patient\",\"Observation on COVID19 patient\"],\"title\":[\"Incubation Period and Other Epidemiological Characteristics of 2019 Novel Coronavirus Infections with Right Truncation: A Statistical Analysis of Publicly Available Case Data\",\"Characteristics of and Public Health Responses to the Coronavirus Disease 2019 Outbreak in China\",\"An updated estimation of the risk of transmission of the novel coronavirus (2019-nCov)\",\"Real-time forecasts of the 2019-nCoV epidemic in China from February 5th to February 24th, 2020\",\"Distinct Roles for Sialoside and Protein Receptors in Coronavirus Infection\",\"First two\\u00a0months of the 2019 Coronavirus Disease (COVID-19) epidemic in China: real-time surveillance and evaluation with a second derivative model\",\"Genome Detective Coronavirus Typing Tool for rapid identification and characterization of novel coronavirus genomes\",\"Case of the Index Patient Who Caused Tertiary Transmission of Coronavirus Disease 2019 in Korea: the Application of Lopinavir/Ritonavir for the Treatment of COVID-19 Pneumonia Monitored by Quantitative RT-PCR\",\"Emergence of Novel Coronavirus 2019-nCoV: Need for Rapid Vaccine and Biologics Development\",\"Nonstructural proteins NS7b and NS8 are likely to be phylogenetically associated with evolution of 2019-nCoV\",\"Pathogenicity and Transmissibility of 2019-nCoV\\u2014A Quick Overview and Comparison with Other Emerging Viruses\",\"Statistics-Based Predictions of Coronavirus Epidemic Spreading in Mainland China\",\"HRCT Imaging Features in Representative Imported Cases of 2019 Novel Coronavirus Pneumonia\",\"Comprehensive Genomic Characterization Analysis of lncRNAs in Cells With Porcine Delta Coronavirus Infection\",\"Potential Factors Influencing Repeated SARS Outbreaks in China\",\"Optimization Method for Forecasting Confirmed Cases of COVID-19 in China\",\"Systematic Comparison of Two Animal-to-Human Transmitted Human Coronaviruses: SARS-CoV-2 and SARS-CoV\",\"Novel coronavirus infection during the 2019\\u20132020 epidemic: preparing intensive care units\\u2014the experience in Sichuan Province, China\",\"Return of the Coronavirus: 2019-nCoV\",\"Application of the ARIMA model on the COVID-2019 epidemic dataset\",\"Passengers' destinations from China: low risk of Novel Coronavirus (2019-nCoV) transmission into Africa and South America\",\"A new coronavirus associated with human respiratory disease in China\",\"Phase-adjusted estimation of the number of Coronavirus Disease 2019 cases in Wuhan, China\",\"Potential Maternal and Infant Outcomes from (Wuhan) Coronavirus 2019-nCoV Infecting Pregnant Women: Lessons from SARS, MERS, and Other Human Coronavirus Infections\",\"Laboratory readiness and response for novel coronavirus (2019-nCoV) in expert laboratories in 30 EU/EEA countries, January 2020\",\"Initial Cluster of Novel Coronavirus (2019-nCoV) Infections in Wuhan, China Is Consistent with Substantial Human-to-Human Transmission\",\"Nepal\\u2019s First Case of COVID-19 and public health response\",\"Backcalculating the Incidence of Infection with COVID-19 on the Diamond Princess\",\"Preliminary Identification of Potential Vaccine Targets for the COVID-19 Coronavirus (SARS-CoV-2) Based on SARS-CoV Immunological Studies\",\"Serial interval of novel coronavirus (COVID-19) infections\",\"Recommended psychological crisis intervention response to the 2019 novel coronavirus pneumonia outbreak in China: a model of West China Hospital\",\"Clinical characteristics of novel coronavirus cases in tertiary hospitals in Hubei Province\",\"The outbreak of COVID-19: An overview\",\"Estimation of the Transmission Risk of the 2019-nCoV and Its Implication for Public Health Interventions\",\"Feasibility of controlling COVID-19 outbreaks by isolation of cases and contacts\",\"A rapid advice guideline for the diagnosis and treatment of 2019 novel coronavirus (2019-nCoV) infected pneumonia (standard version)\",\"Epidemiological Identification of A Novel Pathogen in Real Time: Analysis of the Atypical Pneumonia Outbreak in Wuhan, China, 2019-2020\",\"A conceptual model for the outbreak of Coronavirus disease 2019 (COVID-19) in Wuhan, China with individual reaction and governmental action\",\"Potential role of inanimate surfaces for the spread of coronaviruses and their inactivation with disinfectant agents\",\"A pneumonia outbreak associated with a new coronavirus of probable bat origin\",\"Overview of The 2019 Novel Coronavirus (2019-nCoV): The Pathogen of Severe Specific Contagious Pneumonia (SSCP)\",\"A mathematical model for simulating the phase-based transmissibility of a novel coronavirus\",\"Therapeutic strategies in an outbreak scenario to treat the novel coronavirus originating in Wuhan, China [version 2; peer review: 2 approved]\",\"COVID-19 in the Shadows of MERS-CoV in the Kingdom of Saudi Arabia\",\"2019-nCoV (Wuhan virus), a novel Coronavirus: Human-to-human transmission, travel-related cases, and vaccine readiness\",\"A strategy to prevent future pandemics similar to the 2019-nCoV outbreak\",\"The continuing 2019-nCoV epidemic threat of novel coronaviruses to global health \\u2014 The latest 2019 novel coronavirus outbreak in Wuhan, China - International Journal of Infectious Diseases\",\"Preliminary estimation of the basic reproduction number of novel coronavirus (2019-nCoV) in China, from 2019 to 2020: A data-driven analysis in the early phase of the outbreak\",\"Identification of a novel coronavirus causing severe pneumonia in human: a descriptive study\",\"Detection of 2019 novel coronavirus (2019-nCoV) by real-time RT-PCR\",\"On the Coronavirus (COVID-19) Outbreak and the Smart City Network: Universal Data Sharing Standards Coupled with Artificial Intelligence (AI) to Benefit Urban Health Monitoring and Management\",\"Estimating the Unreported Number of Novel Coronavirus (2019-nCoV) Cases in China in the First Half of January 2020: A Data-Driven Modelling Analysis of the Early Outbreak\",\"First case of Coronavirus Disease 2019 (COVID-19) pneumonia in Taiwan\",\"From SARS to COVID-19: A previously unknown SARS-CoV-2 virus of pandemic potential infecting humans \\u2013 Call for a One Health approach\",\"Real-Time Estimation of the Risk of Death from Novel Coronavirus (COVID-19) Infection: Inference Using Exported Cases\",\"Potential Rapid Diagnostics, Vaccine and Therapeutics for 2019 Novel Coronavirus (2019-nCoV): A Systematic Review\",\"Comparison of different samples for 2019 novel coronavirus detection by nucleic acid amplification tests\",\"Novel Coronavirus Outbreak in Wuhan, China, 2020: Intense Surveillance Is Vital for Preventing Sustained Transmission in New Locations\",\"2019 Novel Coronavirus (COVID-19) Pneumonia: Serial Computer Tomography Findings\",\"2019-nCoV: Polite with children!\",\"The Politics of Disease Epidemics: a Comparative Analysis of the SARS, Zika, and Ebola Outbreaks\",\"2019 novel coronavirus disease (COVID-19) in Taiwan: Reports of two cases from Wuhan, China\",\"Potential benefits of precise corticosteroids therapy for severe 2019-nCoV pneumonia\",\"Analysis of factors associated with disease outcomes in hospitalized patients with 2019 novel coronavirus disease\",\"Subunit Vaccines Against Emerging Pathogenic Human Coronaviruses\",\"Novel coronavirus 2019 (COVID-19): Emergence and implications for emergency care\",\"Finding equipoise: CEPI revises its equitable access policy\",\"Distribution of the COVID-19 epidemic and correlation with population emigration from wuhan, China\",\"The Extent of Transmission of Novel Coronavirus in Wuhan, China, 2020\",\"COVID-19 R0: Magic number or conundrum?\",\"Chest Radiographic and CT Findings of the 2019 Novel Coronavirus Disease (COVID-19): Analysis of Nine Patients Treated in Korea\",\"Q&A: The novel coronavirus outbreak causing COVID-19\",\"First cases of coronavirus disease 2019 (COVID-19) in France: surveillance, investigations and control measures, January 2020\",\"Analysis of therapeutic targets for SARS-CoV-2 and discovery of potential drugs by computational methods\",\"Structure analysis of the receptor binding of 2019-nCoV\",\"Characterization of novel monoclonal antibodies against MERS-coronavirus spike protein\",\"Clinical findings in a group of patients infected with the 2019 novel coronavirus (SARS-Cov-2) outside of Wuhan, China: retrospective case series\",\"In silico screening of Chinese herbal medicines with the potential to directly inhibit 2019 novel coronavirus\",\"The species Severe acute respiratory syndrome-related coronavirus: classifying 2019-nCoV and naming it SARS-CoV-2\",\"Transmission potential of the novel coronavirus (COVID-19) onboard the Diamond Princess Cruises Ship, 2020\",\"Uncertainties about the transmission routes of 2019 novel coronavirus\",\"Early epidemiological analysis of the coronavirus disease 2019 outbreak based on crowdsourced data: a population-level observational study\",\"Wuhan novel coronavirus 2019nCoV\",\"Assessing the Impact of Reduced Travel on Exportation Dynamics of Novel Coronavirus Infection (COVID-19)\",\"Asymptomatic carrier state, acute respiratory disease, and pneumonia due to severe acute respiratory syndrome coronavirus 2 (SARSCoV-2): Facts and myths\",\"Molecular Diagnosis of a Novel Coronavirus (2019-nCoV) Causing an Outbreak of Pneumonia\",\"Effect of isolation practice on the transmission of middle east respiratory syndrome coronavirus among hemodialysis patients: A 2-year prospective cohort study\",\"The novel coronavirus outbreak in Wuhan, China\",\"A precision medicine approach to managing Wuhan Coronavirus pneumonia\",\"Editor's Note\",\"The Novel Coronavirus: A Bird's Eye View\",\"The Rate of Underascertainment of Novel Coronavirus (2019-nCoV) Infection: Estimation Using Japanese Passengers Data on Evacuation Flights\",\"Community Transmission of Severe Acute Respiratory Syndrome Coronavirus 2, Shenzhen, China, 2020\",\"Risk for Transportation of 2019 Novel Coronavirus Disease from Wuhan to Other Cities in China\",\"Potential Presymptomatic Transmission of SARS-CoV-2, Zhejiang Province, China, 2020\",\"2019 Novel Coronavirus\\u2014Important Information for Clinicians\",\"Clinical Characteristics of 138 Hospitalized Patients With 2019 Novel Coronavirus-Infected Pneumonia in Wuhan, China\",\"Clinical characteristics of 28 patients with novel coronavirus pneumonia\",\"Manifestations of Digestive system in hospitalized patients with novel coronavirus pneumonia in Wuhan, China: a single-center, descriptive study\",\"Analysis of clinical characteristics of new coronavirus pneumonia patients in secondary epidemic areas\",\"US Emergency Legal Responses to Novel Coronavirus: Balancing Public Health and Civil Liberties\",\"COVID-19 in Singapore\\u2014Current Experience: Critical Global Issues That Require Attention and Action\",\"COVID-19\\u2014New Insights on a Rapidly Changing Epidemic\",\"Response to COVID-19 in Taiwan: Big Data Analytics, New Technology, and Proactive Testing\",\"Epidemiologic Features and Clinical Course of Patients Infected With SARS-CoV-2 in Singapore\",\"Air, Surface Environmental, and Personal Protective Equipment Contamination by Severe Acute Respiratory Syndrome Coronavirus 2 (SARS-CoV-2) From a Symptomatic Patient\",\"Learning from the Past: Possible Urgent Prevention and Treatment Options for Severe Acute Respiratory Infections Caused by 2019-nCoV\",\"News\",\"Machine Learning, COVID-19 (2019-nCoV), and multi-OMICS\",\"Angiotensin receptor blockers as tentative SARS-CoV-2 therapeutics\",\"COVID-19: Lessons from SARS and MERS\",\"Novel coronavirus pneumonia combined with viral conjunctivitis: three cases report\",\"Recent advances in the detection of respiratory virus infection in humans\",\"Emerging coronaviruses: Genome structure, replication, and pathogenesis\",\"Homologous recombination within the spike glycoprotein of the newly identified coronavirus may boost cross-species transmission from snake to human\",\"The 2019\\u2010new coronavirus epidemic: Evidence for virus evolution\",\"Updated understanding of the outbreak of 2019 novel coronavirus (2019&#8208;nCoV) in Wuhan, China\",\"Immunoinformatics-aided identification of T cell and B cell epitopes in the surface glycoprotein of 2019-nCoV\",\"The first two cases of 2019-nCoV in Italy: where they come from?\",\"Genomic variance of the 2019-nCoV coronavirus\",\"Evolving status of the 2019 novel coronavirus Infection: proposal of conventional serologic assays for disease diagnosis and infection monitoring [Commentary/Review]\",\"Economic Impacts of Wuhan 2019-nCoV on China and the World\",\"Potential Interventions for Novel Coronavirus in China: A Systemic Review\",\"Does SARS-CoV-2 has a longer incubation period than SARS and MERS?\",\"Overlapping and discrete aspects of the pathology and pathogenesis of the emerging human pathogenic coronaviruses SARS-CoV, MERS-CoV, and 2019-nCoV\",\"COVID-2019: the role of the nsp2 and nsp3 in its pathogenesis\",\"Facing the COVID-19 outbreak: What should we know and what could we do?\",\"Combination of RT-qPCR Testing and Clinical Features For Diagnosis of COVID-19 facilitates management of SARS-CoV-2 Outbreak\",\"Understanding of COVID-19 based on current evidence\",\"Early Phylogenetic Estimate of the Effective Reproduction Number Of Sars-CoV-2\",\"Evaluation of coronavirus in tears and conjunctival secretions of patients with SARS-CoV-2 infection\",\"Composition and divergence of coronavirus spike proteins and host ACE2 receptors predict potential intermediate hosts of SARS-CoV-2\",\"Development and Clinical Application of A Rapid IgM-IgG Combined Antibody Test for SARS-CoV-2 Infection Diagnosis\",\"A Systematic Review of Lopinavir Therapy for SARS Coronavirus and MERS Coronavirus\\u2013A Possible Reference for Coronavirus Disease-19 Treatment Option\",\"Evolutionary history, potential intermediate animal host, and cross-species analyses of SARS-CoV-2\",\"Clinical trial analysis of 2019-nCoV therapy registered in China\",\"Clinical characteristics of 50466 hospitalized patients with 2019-nCoV infection\",\"Development of epitope-based peptide vaccine against novel Coronavirus 2019 (SARS-COV-2): Immunoinformatics approach\",\"The Wuhan SARS-CoV-2 \\u2013 What's Next for China\",\"Coronavirus disease (COVID-19) and neonate: What neonatologist need to know\",\"Analyzing the Epidemiological Outbreak of COVID-19: A Visual Exploratory Data Analysis (EDA) Approach\",\"Unique epidemiological and clinical features of the emerging 2019 novel coronavirus pneumonia (COVID-19) implicate special control measures\",\"The transmission and diagnosis of 2019 novel coronavirus infection disease (COVID-19): A Chinese perspective\",\"Transmission dynamics of the COVID-19 outbreak and effectiveness of government interventions: A data-driven analysis\",\"Strategies suggested for emergency diagnosis and treatment of traumatic orthopedicsin the epidemic periodof Corona Virus Disease 2019\",\"Nursing human resource management of infectious disease hospitals under novel coronavirus pneumonia threats\",\"In Case You Haven't Heard\\u2026\",\"Clinical and CT features in pediatric patients with COVID-19 infection: Different points from adults\",\"Novel coronavirus infection and pregnancy\",\"Histopathologic Evaluation and Scoring of Viral Lung Infection\",\"Deducing the Crystal Structure of MERS-CoV Helicase\",\"Antigen Capture Enzyme-Linked Immunosorbent Assay for Detecting Middle East Respiratory Syndrome Coronavirus in Humans\",\"Critical care management of adults with community-acquired severe respiratory viral infection\",\"Intensive care during the coronavirus epidemic\",\"Severe SARS-CoV-2 infections: practical considerations and management strategy for intensivists\",\"The novel coronavirus (SARS-CoV-2) infections in China: prevention, control and challenges\",\"Proposal for detection of 2019-nCoV nucleic acid in clinical laboratories\",\"Imaging and clinical features of patients with 2019 novel coronavirus SARS-CoV-2\",\"Standardized diagnosis and treatment of colorectal cancer during the outbreak of novel coronavirus pneumonia in Renji hospital\",\"Initial CT findings and temporal changes in patients with the novel coronavirus pneumonia (2019-nCoV): a study of 63 patients in Wuhan, China\",\"Outbreak of novel coronavirus (COVID-19): What is the role of radiologists?\",\"The 2019 novel cornoavirus pneumonia with onset of oculomotor nerve palsy: a case study\",\"Stepping up infection control measures in ophthalmology during the novel coronavirus outbreak: an experience from Hong Kong\",\"Development of an indirect ELISA for detecting porcine deltacoronavirus IgA antibodies\",\"Public awareness of coronavirus in Al-Jouf region, Saudi Arabia\",\"Containing 2019-nCoV (Wuhan) coronavirus\",\"Physikalischer Schutz vor respiratorischen Viren\",\"Clinical trials for the treatment of Coronavirus disease 2019 (COVID-19): A rapid response to urgent need\",\"Review of the Clinical Characteristics of Coronavirus Disease 2019 (COVID-19)\",\"Can Chinese Medicine Be Used for Prevention of Corona Virus Disease 2019 (COVID-19)? A Review of Historical Classics, Research Evidence and Current Prevention Programs\",\"Prevention and consideration for the biosafety of laboratory testing under epidemic condition\",\"The First Disease X is Caused by a Highly Transmissible Acute Respiratory Syndrome Coronavirus\",\"The Risk and Prevention of Novel Coronavirus Pneumonia Infections Among Inpatients in Psychiatric Hospitals\",\"A numerical study of ventilation strategies for infection risk mitigation in general inpatient wards\",\"Diagnosis, treatment, and prevention of 2019 novel coronavirus infection in children: experts' consensus statement\",\"Recommendation for the diagnosis and treatment of novel coronavirus infection in children in Hubei (Trial version 1)\",\"Diagnosis and treatment recommendations for pediatric respiratory infection caused by the 2019 novel coronavirus\",\"Management strategies of neonatal jaundice during the coronavirus disease 2019 outbreak\",\"What we do when a COVID-19 patient needs an operation: operating room preparation and guidance\",\"Structural, glycosylation and antigenic variation between 2019 novel coronavirus (2019-nCoV) and SARS coronavirus (SARS-CoV)\",\"2019 Novel coronavirus: where we are and what we know\",\"The SARS-CoV-2 Vaccine Pipeline: an Overview\",\"Corona Virus International Public Health Emergencies: Implications for Radiology Management\",\"A systematic risk-based strategy to select personal protective equipment for infectious diseases\",\"Coronavirus Disease 2019 (COVID-19) and Pregnancy: What obstetricians need to know\",\"The spike glycoprotein of the new coronavirus 2019-nCoV contains a furin-like cleavage site absent in CoV of the same clade\",\"Of chloroquine and COVID-19\",\"Positive rate of RT-PCR detection of SARS-CoV-2 infection in 4880 cases from one hospital in Wuhan, China, from Jan to Feb 2020\",\"The Novel Coronavirus Outbreak: What We Know and What We Don&#x2019;t\",\"Genome Composition and Divergence of the Novel Coronavirus (2019-nCoV) Originating in China\",\"Asymptomatic novel coronavirus pneumonia patient outside WuHan: The value of CT images in the course of the disease\",\"Computers and viral diseases. Preliminary bioinformatics studies on the design of a synthetic vaccine and a preventative peptidomimetic antagonist against the SARS-CoV-2 (2019-nCoV, COVID-19) coronavirus\",\"History is repeating itself, a probable zoonotic spillover as a cause of an epidemic: the case of 2019 novel Coronavirus\",\"Effects of progressive muscle relaxation on anxiety and sleep quality in patients with COVID-19\",\"Recent discovery and development of inhibitors targeting coronaviruses\",\"Real-time forecasts of the COVID-19 epidemic in China from February 5th to February 24th, 2020\",\"Management of corona virus disease-19 (COVID-19): the Zhejiang experience\",\"Severe acute respiratory syndrome coronavirus 2 (SARS-CoV-2) and corona virus disease-2019 (COVID-19): the epidemic and the challenges\",\"First respiratory transmitted food borne outbreak?\",\"The 2019 Novel Coronavirus Outbreak - A Global Threat\",\"2019-novel Coronavirus severe adult respiratory distress syndrome in two cases in Italy: An uncommon radiological presentation\",\"World Health Organization declares Global Emergency: A review of the 2019 Novel Coronavirus (COVID-19)\",\"Coronavirus (COVID-19) Outbreak: What the Department of Radiology Should Know\",\"Psychological intervention in oral patients in novel coronavirus pneumonia outbreak period\",\"The epidemiology and pathogenesis of coronavirus disease (COVID-19) outbreak\",\"The deadly coronaviruses: The 2003 SARS pandemic and the 2020 novel coronavirus epidemic in China\",\"2019-novel coronavirus outbreak: A new challenge\",\"Persistence of coronaviruses on inanimate surfaces and their inactivation with biocidal agents\",\"Duration of quarantine in hospitalized patients with severe acute respiratory syndrome coronavirus 2 (SARS-CoV-2) infection: a question needing an answer\",\"Recent insights into 2019-nCoV: a brief but comprehensive review\",\"Characteristics of COVID-19 infection in Beijing\",\"Molecular immune pathogenesis and diagnosis of COVID-19\",\"Quantitative computed tomography analysis for stratifying the severity of Coronavirus Disease 2019\",\"Management strategy of Novel coronavirus pneumonia in burn and wound care ward\",\"Pulmonary pathology of early phase 2019 novel coronavirus (COVID-19) pneumonia in two patients with lung cancer\",\"Editorial: Coronaviruses: Facts, Myths and Hypotheses\",\"Suggestions for thoracic surgery clinical practice in non-epidemic area of coronavirus infected disease-19\",\"Anti-HCV, nucleotide inhibitors, repurposing against COVID-19\",\"Novel coronavirus: From discovery to clinical diagnostics\",\"Full-genome evolutionary analysis of the novel corona virus (2019-nCoV) rejects the hypothesis of emergence as a result of a recent recombination event\",\"Genetic diversity and evolution of SARS-CoV-2\",\"Measures for diagnosing and treating infections by a novel coronavirus responsible for a pneumonia outbreak originating in Wuhan, China\",\"The epidemic of 2019-novel-coronavirus (2019-nCoV) pneumonia and insights for emerging infectious diseases in the future\",\"Is COVID-19 Receiving ADE From Other Coronaviruses?\",\"Effect of TLR agonist on infections bronchitis virus replication and cytokine expression in embryonated chicken eggs\",\"In bid to rapidly expand coronavirus testing, U.S. agency abruptly changes rules | Science | AAAS\",\"Psychological crisis intervention during the outbreak period of new coronavirus pneumonia from experience in Shanghai\",\"And now for something completely different: from 2019-nCoV and COVID-19 to 2020-nMan\",\"High resolution CT features of novel coronavirus pneumonia in children\",\"High resolution CT findings and clinical features of novel coronavirus pneumonia in Guangzhou\",\"Key points of serious adverse eventand protection of patients in ophthalmic clinical trials during novel coronavirus pneumonia outbreak\",\"Community pharmacist in public health emergencies: Quick to action against the coronavirus 2019-nCoV outbreak\",\"Coronavirus infections reported by ProMED, February 2000\\u2013January 2020\",\"Positive result of Sars-Cov-2 in sputum from a cured patient with COVID-19\",\"Coronavirus Disease 2019: Coronaviruses and Blood Safety\",\"Swine acute diarrhea syndrome coronavirus (SADS-CoV) antagonizes interferon-\\u03b2 production via blocking IPS-1 and RIG-I\",\"The outbreak of SARS-CoV-2 pneumonia calls for viral vaccines\",\"Viral Load Kinetics of SARS-CoV-2 Infection in First Two Patients in Korea\",\"Clinical features of patients infected with 2019 novel coronavirus in Wuhan, China\",\"Analysis of clinical features of 153 patients with novel coronavirus pneumonia in Chongqing\",\"Clinical features of 2019 novel coronavirus infection patients and a feasible screening procedure\",\"Clinical research progresss of antiviral drugs for the novel coronavirus pneumonia\",\"A novel coronavirus outbreak of global health concern - Comment - Correction\",\"Nowcasting and forecasting the potential domestic and international spread of the 2019-nCoV outbreak originating in Wuhan, China: a modelling study\",\"Clinical characteristics and intrauterine vertical transmission potential of COVID-19 infection in nine pregnant women: a retrospective review of medical records\",\"COVID-19: what is next for public health?\",\"Indian pharma threatened by COVID-19 shutdowns in China\",\"How to fight an infodemic\",\"How bad will it get?\",\"Calculating virus spread\",\"We were warned, so why couldn't we prevent it?\",\"A correlation study ofCT and clinical features of different clinical types of 2019 novel coronavirus pneumonia\",\"Radiological findings from 81 patients with COVID-19 pneumonia in Wuhan, China: a descriptive study\",\"Clinical course and outcomes of critically ill patients with SARS-CoV-2 pneumonia in Wuhan, China: a single-centered, retrospective, observational study\",\"Managing neonates with respiratory failure due to SARS-CoV-2 \\u2013 Authors' reply\",\"Structure-based stabilization of non-native protein-protein interactions of coronavirus nucleocapsid proteins in antiviral drug design\",\"Broad Spectrum Antiviral Agent Niclosamide and Its Therapeutic Potential\",\"Pharma mobilizes to combat the coronavirus\",\"China\\u2019s chemical industry shadowed by the coronavirus\",\"Coronavirus puts drug chemical industry on alert\",\"Artificial intelligence finds drugs that could fight the new coronavirus\",\"Biotech start-ups hit by coronavirus work stoppages\",\"Sanofi, BARDA team for coronavirus vaccine\",\"Structure of novel coronavirus\\u2019s spike protein solved\",\"Diagnosing COVID-19\",\"Coronavirus latest: children are as susceptible as adults, study suggests\",\"Coronavirus latest: Scientists clash over virus name\",\"Coronavirus latest: WHO says outbreak is not yet pandemic\",\"Coronavirus latest: Trump requests $2.5 billion for coronavirus response\",\"Coronavirus latest: global infections pass 90,000\",\"Coronavirus latest: deaths in China surpass SARS toll\",\"Coronavirus: hospitals must learn from past pandemics\",\"Why does the coronavirus spread so easily between people?\",\"\\u2018No one is allowed to go out\\u2019: your stories from the coronavirus outbreak\",\"Mystery deepens over animal source of coronavirus Podcast Extra: \\u2018There is lots of anxiety\\u2019: a scientist\\u2019s view from South Korea Coronavirus latest: Brazil reports first case in South America\",\"Daily briefing: When a tiny lab accident almost leads to amputation\",\"Coronavirus nixes conference, twilight zone beckons and a faded star brightens\",\"Backchat: Covering coronavirus\",\"Coronavirus and the race to distribute reliable diagnostics\",\"Coronavirus puts drug repurposing on the fast track\",\"Functional Cell Receptors for Human Coronavirus\",\"Functional assessment of cell entry and receptor usage for SARS-CoV-2 and other lineage B betacoronaviruses\",\"COVID-19 and the cardiovascular system\",\"Novel coronavirus takes flight from bats?\",\"Emergence of a novel human coronavirus threatening human health\",\"Early clinical manifestations and pulmonary imaging analysis of patients with Novel coronavirus pneumonia\",\"Strategy of hospital logistic support to the battle against novel coronavirus pneumonia\",\"Processing of the SARS-CoV pp1a/ab nsp7-10 region\",\"A Novel Coronavirus from Patients with Pneumonia in China, 2019\",\"Current status and progress of 2019 novel coronavirus pneumonia\",\"Report of the first cases of mother and infant infections with 2019 novel coronavirus in Xinyang City Henan Province\",\"First Case of 2019 Novel Coronavirus in the United States\",\"Clinical Characteristics of Coronavirus Disease 2019 in China\",\"Prophylactic and therapeutic remdesivir (GS-5734) treatment in the rhesus macaque model of MERS-CoV infection\",\"The antiviral compound remdesivir potently inhibits RNA-dependent RNA polymerase from Middle East respiratory syndrome coronavirus\",\"A time delay dynamic system with external source for the local outbreak of 2019-nCoV\",\"A serological survey of canine respiratory coronavirus in New Zealand\",\"Coronavirus disinfection in histopathology\",\"Emerging novel Coronavirus (2019-nCoV) - Current scenario, evolutionary perspective based on genome analysis and recent developments\",\"2019 novel coronavirus: an emerging global threat\",\"Effects of misleading media coverage on public health crisis: a case of the 2019 novel coronavirus outbreak in China\",\"The global spread of 2019-nCoV: a molecular evolutionary analysis\",\"Are we ready for the new fatal Coronavirus: scenario of Pakistan?\",\"RNA based mNGS approach identifies a novel human coronavirus from two individual pneumonia cases in 2019 Wuhan outbreak\",\"Potent binding of 2019 novel coronavirus spike protein by a SARS coronavirus-specific human monoclonal antibody\",\"Molecular and serological investigation of 2019-nCoV infected patients: implication of multiple shedding routes\",\"Detectable 2019-nCoV viral RNA in blood is a strong indicator for the further clinical severity\",\"Treatment strategy for gastrointestinal tumor under the outbreak of novel coronavirus pneumonia in China\",\"Imported Novel Coronavirus Infections: Observation on Active and Passive Case Detection in Thailand\",\"Three Emerging Coronaviruses in Two Decades\",\"Emergency management practice of novel coronavirus pneumonia in designated hospitals\",\"Origin and evolution of the 2019 novel coronavirus\",\"A Case Series of children with 2019 novel coronavirus infection: clinical and epidemiological features\",\"Clinical Characteristics of Imported Cases of COVID-19 in Jiangsu Province: A Multicenter Descriptive Study\",\"A Well Infant with Coronavirus Disease 2019 (COVID-19) with High Viral Load\",\"Genomic diversity of SARS-CoV-2 in Coronavirus Disease 2019 patients\",\"2019 novel coronavirus is undergoing active recombination\",\"Expert consensus on emergency surgery management for traumatic orthopedics under prevention and control of novel coronavirus pneumonia\",\"Coronaviruses: a paradigm of new emerging zoonotic diseases\",\"The SARS, MERS and novel coronavirus (COVID-19) epidemics, the newest and biggest global health threats: what lessons have we learned?\",\"A familial cluster of infection associated with the 2019 novel coronavirus indicating potential person-to-person transmission during the incubation period\",\"The New Coronavirus, the Current King of China\",\"On the origin and continuing evolution of SARS-CoV-2\",\"In this issue of Occupational Medicine\",\"Consensus on emergency surgery and infection prevention and control for severe trauma patients with 2019 novel coronavirus pneumonia\",\"Epidemiological and clinical characteristics of novel coronavirus infection in children: Thoughts on the diagnostic criteria of suspected cases outside Hubei Province\",\"Experience of treating severe cases of 2019 novel coronavirus pneumonia in Changde area\",\"Materialism and dialectics of epidemic prevention and control: only by respecting science can we get twice the result with half the effort\",\"Chest CT Findings in Patients with Corona Virus Disease 2019 and its Relationship with Clinical Features\",\"The Clinical and Chest CT Features Associated with Severe and Critical COVID-19 Pneumonia\",\"Clinical and High-Resolution CT Features of the COVID-19 Infection: Comparison of the Initial and Follow-up Changes\",\"Management highlights for patients with orthopedic trauma during the epidemic of Corona Virus Disease 2019\",\"Persistence and clearance of viral RNA in 2019 novel coronavirus disease rehabilitation patients\",\"Clinical analysis of 23 cases of 2019 novel coronavirus infection in Xinyang City, Henan Province\",\"Gold nanoparticle&#8208;adjuvanted S protein induces a strong antigen&#8208;specific IgG response against severe acute respiratory syndrome&#8208;related coronavirus infection, but fails to induce protective antibodies and limit eosinophilic infiltration in lungs\",\"World Economic Prospects Monthly\",\"From the frontlines of COVID-19 \\u2013 How prepared are we as obstetricians: a commentary\",\"2019 novel coronavirus infection and gastrointestinal tract\",\"The Novel Coronavirus \\u2013 A Snapshot of Current Knowledge\",\"Hospital Emergency Management Plan During the COVID-19 Epidemic\",\"Editorial 58(1)\",\"Coronavirus Disease 2019: Implications of Emerging Infections for Transplantation\",\"Clinical characteristics of 140 patients infected by SARS-CoV-2 in Wuhan, China\",\"Novel corona virus disease (COVID-19) in pregnancy: What clinical recommendations to follow?\",\"Emergency management for preventing and controlling nosocomial infection of 2019 novel coronavirus: implications for the dermatology department\",\"The Novel Chinese Coronavirus (2019-nCoV) Infections: challenges for fighting the storm\",\"A combination regimen by lopinave/litonawe (LPV/r), emtricitabine and tenofovir alafenamide fumarate (FTC/TAF) for treatment of novel coronavirus pneumonia (TARCoV)\",\"The world is changing fast!\",\"The 2019 Coronavirus: Learning Curves, Lessons, and the Weakest Link\",\"Global challenges in health and health care for nurses and midwives everywhere\",\"Anesthesia management for cesarean section during novel coronavirous epidemic\",\"Novel coronavirus pneumonia related liver injury: etiological analysis and treatment strategy\",\"Virus Isolation from the First Patient with SARS-CoV-2 in Korea\",\"Preliminary prediction of the basic reproduction number of the Wuhan novel coronavirus 2019-nCoV\",\"2019_nCoV/SARS-CoV-2: rapid classification of betacoronaviruses and identification of Traditional Chinese Medicine as potential origin of zoonotic coronaviruses\",\"The Covid-19 epidemic\",\"Inactivation of three emerging viruses - severe acute respiratory syndrome coronavirus, Crimean-Congo haemorrhagic fever virus and Nipah virus - in platelet concentrates by ultraviolet C light and in plasma by methylene blue plus visible light\",\"China virus response criticized as slow\",\"Will novel virus go pandemic or be contained?\",\"News at a glance\",\"Labs scramble to spot hidden coronavirus infections | Science | AAAS\",\"Labs scramble to produce new coronavirus diagnostics\",\"Strategies shift as coronavirus pandemic looms\",\"Scientists are racing to model the next moves of a coronavirus that's still hard to predict | Science | AAAS\",\"Cryo-EM structure of the 2019-nCoV spike in the prefusion conformation\",\"Labs scramble to spot hidden coronavirus infections\",\"Structural basis for the recognition of the SARS-CoV-2 by full-length human ACE2\",\"The costs of secrecy\",\"Dog noses detect heat, the world faces coronavirus, and scientists search for extraterrestrial life\",\"Indonesia finally reports two coronavirus cases. Scientists worry it has many more\",\"\\u2018We had to act.\\u2019 How coronavirus fears forced physics society to nix giant meeting\",\"Quarantined at home now, U.S. scientist describes his visit to China\\u2019s hot zone\",\"Coronavirus disruptions could hurt North Korea\\u2019s efforts to treat tuberculosis\",\"Maybe not an overreaction\",\"Antiviral Theatrics?\",\"Negative Nasopharyngeal and Oropharyngeal Swab Does Not Rule Out COVID-19\",\"Improved molecular diagnosis of COVID-19 by the novel, highly sensitive and specific COVID-19-RdRp/Hel real-time reverse transcription-polymerase chain reaction assay validated in vitro and with clinical specimens\",\"Suggestions casted to the novel coronavirus nucleic acid amplification test from viral pneumonia pathogenesis\",\"Analysis of false-negative results for 2019 novel coronavirus nucleic acid test and related countermeasures\",\"Receptor recognition by novel coronavirus from Wuhan: An analysis based on decade-long structural studies of SARS\",\"Molecular Basis of Binding between Middle East Respiratory Syndrome Coronavirus and CD26 from Seven Bat Species\",\"Molecular Basis of Binding between Middle East Respiratory Syndrome Coronavirus and CD26 from Seven Bat Species Distinct Roles for Sialoside and Protein Receptors in Coronavirus Infection\",\"Trypsin Treatment Unlocks Barrier for Zoonotic Bat Coronavirus Infection\",\"Nucleocapsid Protein Recruitment to Replication-Transcription Complexes Plays a Crucial Role in Coronaviral Life Cycle\",\"Molecular Mechanism for Antibody-Dependent Enhancement of Coronavirus Entry\",\"Emergency response plan for the neonatal intensive care unit during epidemic of 2019 novel coronavirus\",\"The psychological effects of quarantining a city\",\"China coronavirus: mild but infectious cases may make it hard to control outbreak, report warns\",\"Chinese premier rallies medics in coronavirus fight\",\"Following the evidence, from coronavirus to terrorism response\",\"China coronavirus: partial border closures into Hong Kong are not enough, say doctors\",\"Coronavirus shows how UK must act quickly before being shut out of Europe\\u2019s health protection systems\",\"China coronavirus: WHO declares international emergency as death toll exceeds 200\",\"Coronavirus latest: death toll passes 2,000\",\"China coronavirus: Hong Kong health staff strike to demand border closure as city records first death\",\"China coronavirus should be on \\u201ceverybody\\u2019s agenda,\\u201d says vaccine expert\",\"Novel coronavirus: Australian GPs raise concerns about shortage of face masks\",\"Coronavirus: doctor who faced backlash from police after warning of outbreak dies\",\"Seven days in medicine: 5-11 Feb 2020\",\"Coronavirus: NHS staff get power to keep patients in isolation as UK declares \\u201cserious threat\\u201d\",\"Covid-19: a puzzle with many missing pieces\",\"Coronaviruses in animals and humans\",\"Coronavirus covid-19 has killed more people than SARS and MERS combined, despite lower case fatality rate\",\"Letter from China: covid-19 on the grapevine, on the internet, and in commerce\",\"Coronavirus: Wales tests 90% of suspected patients in their own home\",\"Coronavirus disease 2019 (covid-19): a guide for UK GPs\",\"Advantages and challenges of metagenomic next-generation sequencing (mNGS) in the detection of 2019 novel coronavirus\",\"CT Imaging Features of 2019 Novel Coronavirus (2019-nCoV)\",\"2019 novel coronavirus (2019-nCoV) and 2019-nCoV pneumonia\",\"CT features of 2019-novel coronovirus pneumonia: SARS and MERS literature review and analysis of CT features of two confirmed 2019-novel coronavirus pneumonia cases\",\"Emerging Coronavirus 2019-nCoV Pneumonia\",\"Chest CT for Typical 2019-nCoV Pneumonia: Relationship to Negative RT-PCR Testing\",\"Chest CT Findings in Coronavirus Disease-19 (COVID-19): Relationship to Duration of Infection\",\"Coronavirus Disease 2019 (COVID-19): A Perspective from China\",\"Correlation of Chest CT and RT-PCR Testing in Coronavirus Disease 2019 (COVID-19) in China: A Report of 1014 Cases\",\"New coronavirus pneumonia and outbreak epidemic virus and eye disease\",\"The treatment proposal for the patients with breast diseases in the central epidemic area of 2019 coronavirus disease\",\"The recommendation for management of the bereavements among the family members died with novel coronavirus pneumonia\",\"Understanding the Influence Factors in Viral Nucleic Acid Test of 2019 novel Coronavirus (2019-nCoV)\",\"Visualising the expansion and spread of coronavirus disease 2019 by cartograms\",\"CT Imaging and Differential Diagnosis of COVID-19\",\"The 2019-nCoV epidemic control strategies and future challenges of building healthy smart cities\",\"Key points for the prevention and treatment of the novel coronavirus pneumonia in the elderly\",\"Q&A: The\\u00a0novel coronavirus outbreak\\u00a0causing COVID-19 A mathematical model for simulating the phase-based transmissibility of a novel coronavirus\",\"Expert consensus on elderly patients with hip fracture under epidemic of novel coronavirus pneumonia\",\"Current status of treatment for 2019 novel coronavirus pneumonia\",\"Treatment of 2019 novel coronavirus pneumonia based on the theory of 'three syndromes and three methods'\",\"Coronavirus disease-2019: is fever an adequate screening for the returning travelers?\",\"The novel coronavirus outbreak in Wuhan, China Development and validation of knowledge, attitude and practice questionnaire for prevention of respiratory tract infections among Malaysian Hajj pilgrims\",\"The novel coronavirus outbreak: what can be learned from China in public reporting?\",\"Clinical features and high resolutionCT imaging findings of preliminary diagnosis novel coronavirus pneumonia\",\"Immune responses in COVID-19 and potential vaccines: Lessons learned from SARS and MERS epidemic\",\"Perspectives on monoclonal antibody therapy as potential therapeutic intervention for Coronavirus disease-19 (COVID-19)\",\"Initial Public Health Response and Interim Clinical Guidance for the 2019 Novel Coronavirus Outbreak - United States, December 31, 2019-February 4, 2020\",\"Persons Evaluated for 2019 Novel Coronavirus - United States, January 2020\",\"Update: Public Health Response to the Coronavirus Disease 2019 Outbreak - United States, February 24, 2020\",\"Active Monitoring of Persons Exposed to Patients with Confirmed COVID-19 \\u2014 United States, January\\u2013February 2020\",\"The 2019 novel coronavirus resource\",\"How to conduct clinical research on anesthesiology during epidemic of the novel coronavirus pneumonia: recommendations from the epidemiological perspective\",\"Perinatal and neonatal management plan for prevention and control of 2019 novel coronavirus infection (1st Edition)\",\"Management plan for prevention and control of novel coronavirus pneumonia among children in Xiangya Hospital of Central South University\",\"Chinese expert consensus on the perinatal and neonatal management for the prevention and control of the 2019 novel coronavirus infection (First edition)\",\"Straining the System: Novel Coronavirus (COVID-19) and Preparedness for Concomitant Disasters\",\"PANDEMIC HUMAN CORONAVIRUS \\u2013 CHARACTERIZATION AND COMPARISON OF SELECTED PROPERTIES OF HCOV-SARS AND HCOV-MERS\",\"D\\u00e9j\\u00e0 Vu or Jamais Vu? How the Severe Acute Respiratory Syndrome Experience Influenced a Singapore Radiology Department's Response to the Coronavirus Disease (COVID-19) Epidemic\",\"Coronavirus Disease 2019 (COVID-19): Role of Chest CT in Diagnosis and Management\",\"Radiology Perspective of Coronavirus Disease 2019 (COVID-19): Lessons From Severe Acute Respiratory Syndrome and Middle East Respiratory Syndrome\",\"CT Features of Coronavirus Disease 2019 (COVID-19) Pneumonia in 62 Patients in Wuhan, China\",\"Relation Between Chest CT Findings and Clinical Conditions of Coronavirus Disease (COVID-19) Pneumonia: A Multicenter Study\",\"Identification of Coronavirus Isolated from a Patient in Korea with COVID-19\",\"Early Epidemiological and Clinical Characteristics of 28 Cases of Coronavirus Disease in South Korea\",\"Contact Transmission of COVID-19 in South Korea: Novel Investigation Techniques for Tracing Contacts\",\"Expert Recommendations for Tracheal Intubation in Critically ill Patients with Noval Coronavirus Disease 2019\",\"COVID-19 (Novel Coronavirus 2019) - recent trends\",\"Novel coronavirus 2019-nCoV: prevalence, biological and clinical characteristics comparison with SARS-CoV and MERS-CoV\",\"First cases of coronavirus disease 2019 (COVID-19) in the WHO European Region, 24 January to 21 February 2020\",\"Coronavirus latest: WHO officially names disease COVID-19\",\"Rapid establishment of laboratory diagnostics for the novel coronavirus SARS-CoV-2 in Bavaria, Germany, February 2020\",\"Updated rapid risk assessment from ECDC on the outbreak of COVID-19: increased transmission globally\",\"Perinatal novel coronavirus infection: a case report\",\"Air Medical Evacuation of Nepalese Citizen During Epidemic of COVID-19 from Wuhan to Nepal\",\"The laboratory risk assessment and control testing 2019 novel coronavirus in biosafety class II laboratories\",\"Lack of Vertical Transmission of Severe Acute Respiratory Syndrome Coronavirus 2, China\",\"2019-nCoV acute respiratory disease, Australia: Epidemiology Report 1 (Reporting week 26 January - 1 February 2020)\",\"COVID-19, Australia: Epidemiology Report 2 (Reporting week ending 19:00 AEDT 8 February 2020)\",\"COVID-19, Australia: Epidemiology Report 3 (Reporting week ending 19:00 AEDT 15 February 2020)\",\"COVID-19, Australia: Epidemiology Report 4 (Reporting week ending 19:00 AEDT 22 February 2020)\",\"COVID-19, Australia: Epidemiology Report 5 (Reporting week ending 19:00 AEDT 29 February 2020)\",\"The First Case of 2019 Novel Coronavirus Pneumonia Imported into Korea from Wuhan, China: Implication for Infection Prevention and Control Measures\",\"Case of the Index Patient Who Caused Tertiary Transmission of COVID-19 Infection in Korea: the Application of Lopinavir/Ritonavir for the Treatment of COVID-19 Infected Pneumonia Monitored by Quantitative RT-PCR\",\"THREE NOTICEABLE ISSUES ON NOVEL CORONAVIRUS: A QUICK LOOK FROM VIETNAM\\u2019S CIRCUMSTANCES\",\"Rigidity of the Outer Shell Predicted by a Protein Intrinsic Disorder Model Sheds Light on the COVID-19 (Wuhan-2019-nCoV) Infectivity\",\"Antiviral Action of Tryptanthrin Isolated from Strobilanthes cusia Leaf against Human Coronavirus NL63 Outbreak of Novel Coronavirus (SARS-Cov-2): First Evidences From International Scientific Literature and Pending Questions\",\"Advance in human coronaviruses research of host interactions\",\"On the Coronavirus (COVID-19) Outbreak and the Smart City Network: Universal Data Sharing Standards Coupled with Artificial Intelligence (AI) to Benefit Urban Health Monitoring and Management Epidemiological Identification of A Novel Pathogen in Real Time: Analysis of the Atypical Pneumonia Outbreak in Wuhan, China, 2019\\u20142020\",\"Prediction of Epidemic Spread of the 2019 Novel Coronavirus Driven by Spring Festival Transportation in China: A Population-Based Study\",\"Immediate Psychological Responses and Associated Factors during the Initial Stage of the 2019 Coronavirus Disease (COVID-19) Epidemic among the General Population in China\",\"Estimating the Unreported Number of Novel Coronavirus (2019-nCoV) Cases in China in the First Half of January 2020: A Data-Driven Modelling Analysis of the Early Outbreak Risk Management Analysis for Novel Coronavirus in Wuhan, China\",\"The report of two cases infection with novel coronavirus (2019-ncov) after kidney transplantation and the association literature analyzation\",\"Initial Cluster of Novel Coronavirus (2019-nCoV) Infections in Wuhan, China Is Consistent with Substantial Human-to-Human Transmission Novel Coronavirus Outbreak in Wuhan, China, 2020: Intense Surveillance Is Vital for Preventing Sustained Transmission in New Locations\",\"Risk Assessment of Novel Coronavirus COVID-19 Outbreaks Outside China\",\"Risk Assessment of Novel Coronavirus COVID-19 Outbreaks Outside China Characteristics of and Public Health Responses to the Coronavirus Disease 2019 Outbreak in China\",\"Backcalculating the Incidence of Infection with COVID-19 on the Diamond Princess Comparative Seasonal Respiratory Virus Epidemic Timing in Utah\",\"Optimization Method for Forecasting Confirmed Cases of COVID-19 in China Prevention Is Better Than the Cure: Risk Management of COVID-19 Synthesis and Bioactivity Assessment of Novel Spiro Pyrazole-Oxindole Congeners Exhibiting Potent and Selective in vitro Anticancer Effects\",\"Host Factors Affecting Generation of Immunity Against Porcine Epidemic Diarrhea Virus in Pregnant and Lactating Swine and Passive Protection of Neonates\",\"Insights into the Recent 2019 Novel Coronavirus (SARS-CoV-2) in Light of Past Human Coronavirus Outbreaks\",\"Chemotherapy strategy for colorectal cancer under the outbreak of novel coronavirus pneumonia\",\"[Treatment strategies of Budd-Chiari syndrome during the epidemic period of 2019 coronavirus disease]\",\"The treatment proposal for the patients with breast diseases in the central epidemic area of 2019 coronavirus disease\",\"[Treatment of pancreatic diseases and prevention of infection during outbreak of 2019 coronavirus disease]\",\"Clinical analysis of 31 cases of 2019 novel coronavirus infection in children from six provinces (autonomous region) of northern China\",\"Emergency management of prevention and control of novel coronavirus pneumonia in departments of stomatology\",\"Comparison of the clinical characteristics between RNA positive and negative patients clinically diagnosed with 2019 novel coronavirus pneumonia\",\"Novel coronavirus pneumonia (COVID-19) CT distribution and sign features\",\"Expert recommendations on the management of patients with advanced non-small cell lung cancer during epidemic of COVID-19 (Trial version)\",\"The keypoints in treatment of the critical novel coronavirus pneumonia patient\",\"[The keypoints in treatment of the critical coronavirus disease 2019 patient]\",\"Expert consensus on Pulmonary Function Testing during the epidemic of Corona Virus Disease 2019\",\"What are the highlights of \\\"Diagnosis and treatment of Disease 2019 novel coronavirus infection suitable for Military support Hubei medical team\\\"\",\"Comparison of heart failure and 2019 novel coronavirus pneumonia in chest CT features and clinical characteristics\",\"Clinical characteristics and outcomes of 112 cardiovascular disease patients infected by 2019-nCoV\",\"Health protection guideline of mobile cabin hospitals during Novel Coronavirus Pneumonia (NPC) outbreak\",\"Health protection guideline of passenger transport stations and transportation facilities during novel coronavirus pneumonia (NCP) outbreak\",\"Technologies and requirements of protection and disinfection in key places during the novel coronavirus pneumonia (NCP) outbreak\",\"Risk assessment of exported risk of novel coronavirus pneumonia from Hubei Province\",\"Thoughts and suggestions on modern construction of disease prevention and control system\",\"Epidemic trend of corona virus disease 2019 (COVID-19) in mainland China\",\"Analysis on the epidemic factors for the Corona Virus Disease\",\"Health management of breast cancer patients outside the hospital during the outbreak of 2019 novel coronavirus disease\",\"Surgical treatment strategy for digestive system malignancies during the outbreak of novel coronavirus pneumonia\",\"[Surgical treatment for esophageal cancer during the outbreak of COVID-19]\",\"[Discussion on diagnosis and treatment of hepatobiliary malignancies during the outbreak of novel coronavirus pneumonia]\",\"[Medical diagnosis and treatment strategies for malignant tumors of the digestive system during the outbreak of novel coronavirus pneumonia]\",\"Individualized treatment recommendations for lung cancer patients at different stages of treatment during the outbreak of 2019 novel coronavirus disease epidemic\",\"Diagnostic and therapeutic strategies of lung cancer patients during the outbreak of 2019 novel coronavirus disease (COVID-19)\",\"[The differential diagnosis of pulmonary infiltrates in cancer patients during the outbreak of the 2019 novel coronavirus disease]\",\"Study on assessing early epidemiological parameters of coronavirus disease epidemic in China\",\"Dynamic basic reproduction number based evaluation for current prevention and control of COVID-19 outbreak in China\",\"Standardized diagnosis and treatment of colorectal cancer during the outbreak of novel coronavirus pneumonia in Renji hospital\",\"Thinking of treatment strategies for colorectal cancer patients in tumor hospitals under the background of coronavirus pneumonia\",\"[Recommendations for the regulation of medical practices of burn treatment during the outbreak of the coronavirus disease 2019]\",\"Advances in the research of cytokine storm mechanism induced by Corona Virus Disease 2019 and the corresponding immunotherapies\",\"2019-nCoV: new challenges from coronavirus\",\"2019-nCoV: new challenges from coronavirus\",\"Be alert to superposed effect of seasonal influenza while fighting against novel coronavirus pneumonia\",\"Early containment strategies and core measures for prevention and control of novel coronavirus pneumonia in China\",\"An update on the epidemiological characteristics of novel coronavirus pneumonia\\uff08COVID-19\\uff09\",\"The epidemiological characteristics of an outbreak of 2019 novel coronavirus diseases (COVID-19) in China\",\"Interpretation of \\\"Guidelines for the Diagnosis and Treatment of Novel Coronavirus (2019-nCoV) Infection by the National Health Commission (Trial Version 5)\\\"\",\"Suggestions for disinfection of ophthalmic examination equipment and protection of ophthalmologist against 2019 novel coronavirus infection\",\"Recommendations for general surgery clinical practice in novel coronavirus pneumonia situation\",\"Countermeasures and treatment for aortic acute syndrome with novel coronavirus pneumonia\",\"Analysis of CT features of 15 Children with 2019 novel coronavirus infection\",\"Clinical and epidemiological characteristics of 34 children with 2019 novel coronavirus infection in Shenzhen\",\"Diagnosis and clinical management of 2019 novel coronavirus infection: an operational recommendation of Peking Union Medical College Hospital (V2.0)\",\"Potential antiviral therapeutics for 2019 Novel Coronavirus\",\"Early detection and disease assessment of patients with novel coronavirus pneumonia\",\"Pulmonary rehabilitation guidelines in the principle of 4S for patients infected with 2019 novel coronavirus (2019-nCoV)\",\"Analysis of clinical features of 29 patients with 2019 novel coronavirus pneumonia\",\"Expert consensus for bronchoscopy during the epidemic of 2019 Novel Coronavirus infection (Trial version)\",\"Recommendations on extracorporeal life support for critically ill patients with novel coronavirus pneumonia\",\"Pharmacotherapeutics for the New Coronavirus Pneumonia\",\"Clinical features of 2019 novel coronavirus pneumonia in the early stage from a fever clinic in Beijing\",\"Inhibitors of RAS Might Be a Good Choice for the Therapy of COVID-19 Pneumonia\",\"Conventional respiratory support therapy for Severe Acute Respiratory Infections (SARI): Clinical indications and nosocomial infection prevention and control\",\"Clinical characteristics of 30 medical workers infected with new coronavirus pneumonia\",\"Expert consensus on chloroquine phosphate for the treatment of novel coronavirus pneumonia\",\"Expert consensus on preventing nosocomial transmission during respiratory care for critically ill patients infected by 2019 novel coronavirus pneumonia\",\"The prevention and control of a new coronavirus infection in department of stomatology\",\"Management and clinical thinking of Coronavirus Disease 2019\",\"Novel coronavirus pneumonia related liver injury: etiological analysis and treatment strategy\",\"Exploring the mechanism of liver enzyme abnormalities in patients with novel coronavirus-infected pneumonia\",\"Preliminary study of the relationship between novel coronavirus pneumonia and liver function damage: a multicenter study\",\"Treatment strategy for gastrointestinal tumor under the outbreak of novel coronavirus pneumonia in China\",\"Suggestions for prevention of 2019 novel coronavirus infection in otolaryngology head and neck surgery medical staff\",\"Cardiac manifestations of patients with COVID-19 pneumonia and related treatment recommendations\",\"Preliminary Recommendations for Lung Surgery during SARS-CoV-2 Novel Coronavirus Pneumonia Epidemic Period\",\"Clinical Management of Lung Cancer Patients during the Outbreak of 2019 Novel Coronavirus Disease (COVID-19)\",\"A Chinese Case of COVID-19 Did Not Show Infectivity During the Incubation Period: Based on an Epidemiological Survey\",\"Small Molecule Inhibitors of Middle East Respiratory Syndrome Coronavirus Fusion by Targeting Cavities on Heptad Repeat Trimers\",\"Imported cases of 2019-novel coronavirus (2019-nCoV) infections in Thailand: Mathematical modelling of the outbreak\",\"Emerging and re-emerging human infectious diseases: A systematic review of the role of wild animals with a focus on public health impact\",\"Novel coronavirus (2019-nCoV) update: What we know and what is unknown\",\"Epidemiologic characteristics of early cases with 2019 novel coronavirus (2019-nCoV) disease in Republic of Korea\",\"Challenges to the system of reserve medical supplies for public health emergencies: reflections on the outbreak of the severe acute respiratory syndrome coronavirus 2 (SARS-CoV-2) epidemic in China\",\"Recommendations on the pediatric flexible bronchoscopy during the outbreak of Severe Acute Respiratory Syndrome Coronavirus 2 (SARS-CoV-2) infection in China (Trial Edition)\",\"Discovering drugs to treat coronavirus disease 2019 (COVID-19)\",\"An outbreak of <scp>COVID</scp> \\u201019 caused by a new coronavirus: what we know so far\",\"Disease control of 2019-novel coronavirus infection in hospital: West China urgent recommendation\",\"What we know so far: COVID-19 current clinical knowledge and research\",\"Development of Genetic Diagnostic Methods for Novel Coronavirus 2019 (nCoV-2019) in Japan\",\"Finding an Accurate Early Forecasting Model from Small Dataset: A Case of 2019-nCoV Novel Coronavirus Outbreak\",\"The possibility of using Lopinave/Litonawe (LPV/r) as treatment for novel coronavirus \\uff082019-nCov\\uff09pneumonia: a quick systematic review based on earlier coronavirus clinical studies\",\"Infecciones por Coronavirus. Diagn\\u00f3stico y Tratamiento\",\"COVID-19 Update \\u2013 March 2020 | Global Health | JN Learning | JAMA Ed Hub [Video recording]\",\"Circular externa No 0000005 de 2020: Directrices para la detecci\\u00f3n temprana, el control y la atenci\\u00f3n ante la posible introducci\\u00f3n del nuevo coronavirus (2019-nCoV) y la implementaci\\u00f3n de los planes de preparaci\\u00f3n y respuesta ante este riesgo\",\"Protocolo para la atenci\\u00f3n de personas con sospechas o infecci\\u00f3n confirmada por Coronavirus (2019-nCoN)\",\"Protocolo de Manejo Cl\\u00ednico para o Novo Coronav\\u00edrus (2019-nCoV)\",\"Persons Evaluated for 2019 Novel Coronavirus \\u2014 United States, January 2020 | MMWR\",\"The 2019 Novel Coronavirus Outbreak \\u2013 Update From NIAID\\u2019s Anthony Fauci, MD\",\"Acciones en promoci\\u00f3n de la salud, prevenci\\u00f3n y atenci\\u00f3n de la Infecci\\u00f3n Respiratoria Aguda - IRA- ante alerta internacional por Nuevo Coronavirus 2019-nCoV\",\"In the pipeline Derek Lowe's commentary on drug discovery and the pharma industry. An editorially independent blog from the publishers of Science Translational Medicine. All content is Derek\\u2019s own, and he does not in any way speak for his employer\",\"Guidance on strengthening the management processes of children\\u2032s fever in outpatient department during the novel coronavirus pneumonia epidemic period (First Edition)\",\"Manual de bioseguridad para prestadores de servicios de salud que brinden atenci\\u00f3n en salud ante la eventual introducci\\u00f3n del nuevo coronavirus (nCoV-2019) a Colombia\",\"Lineamientos para la detecci\\u00f3n y manejo de casos por los prestadores de servicios de salud, frente a la eventual introducci\\u00f3n del nuevo coronavirus (2019-ncov) a Colombia\",\"Scientists question China\\u2019s decision not to report symptom-free coronavirus cases\",\"The race to unravel the United States\\u2019 biggest coronavirus outbreak\",\"Scientist decries \\u2018completely chaotic\\u2019 conditions on cruise ship Japan quarantined after viral outbreak | Science | AAAS\",\"How Coronaviruses Cause Infection\\u2014from Colds to Deadly Pneumonia\",\"Advices on the prevention and control of nosocomial infection of novel coronavirus within children\\u2019s hospitals\",\"Dynamic changes of chest CT imaging in patients with corona virus disease-19 (COVID-19)\",\"Novel coronavirus COVID-19: an overview for emergency clinicians\",\"Novel Coronavirus Disease 2019 (COVID-19): An Emerging Infectious Disease in the 21st Century\",\"Coronavirus just caused the American Physical Society to cancel its biggest meeting of the year | Science | AAAS\",\"Mensajero de la Salud: nuevo coronavirus 2019-nCoV\",\"The management of biosafety risk in clinical laboratory of hospital during the outbreak of 2019 Novel Coronavirus disease\",\"Singapore claims first use of antibody test to track coronavirus infections | Science | AAAS\",\"Investigation on demands for antenatal care services among 2 002 pregnant women during the epidemic of coronavirus disease 2019 in Shanghai\",\"Analysis of early chest high resolution CT images of novel coronavirus pneumonia\",\"Novo Coronavirus (nCoV)\",\"Difficulties and strategies of public hospitals in their participation in the prevention and control of novel coronavirus pneumonia\",\"Get Real\",\"How Ophthalmologists Should Understand and Respond to the Current Epidemic of Novel Coronavirus Pneumonia (COVID-19)\",\"Experts proposal and frequently asked questions of rapid screening and prevention of novel coronavirus pneumonia in children\",\"Surgical treatment strategy for digestive system malignancies during the outbreak of novel coronavirus pneumonia\",\"Novel coronavirus pneumonia in the primary general hospital of treatment based on traditional Chinese medicine syndrome differentiation and prevention\"],\"topic_key\":[3,2,5,5,1,5,5,0,5,5,5,7,0,1,0,1,5,0,5,5,5,5,0,5,0,6,5,0,5,3,5,6,5,0,5,0,5,5,5,5,5,5,5,5,5,5,5,3,3,0,5,3,5,5,3,5,6,5,3,5,7,5,5,6,5,5,6,5,3,5,3,3,5,5,1,0,6,5,5,5,5,5,7,0,5,1,6,5,5,7,5,3,0,5,5,5,6,6,6,6,7,5,5,5,6,5,5,5,5,1,5,4,1,7,5,5,0,2,5,5,6,5,5,5,5,5,5,3,5,3,6,5,6,5,5,5,6,7,5,5,5,5,5,5,6,6,5,6,6,0,2,5,6,4,5,0,6,5,6,6,3,2,5,5,5,5,7,5,5,0,4,5,0,0,0,5,6,6,2,5,5,0,5,5,5,5,5,6,5,5,5,5,5,6,5,5,6,5,5,0,3,5,5,5,0,5,0,5,0,5,6,5,3,0,3,3,4,5,0,5,5,5,0,5,5,2,3,7,3,3,1,5,5,6,5,5,5,5,6,6,6,0,5,5,6,5,7,5,5,7,5,3,3,6,5,2,5,5,5,0,5,1,7,5,5,5,0,5,6,5,5,3,5,5,3,5,5,5,5,5,5,5,5,5,5,3,4,7,5,5,4,5,6,5,5,5,1,5,5,0,5,5,5,5,5,5,6,4,5,5,0,5,0,6,5,5,5,0,5,5,5,5,5,5,0,6,6,7,3,6,3,6,6,6,7,5,5,5,5,0,5,5,6,5,5,5,6,7,5,5,6,5,5,5,5,5,5,7,5,5,5,5,5,5,1,5,1,7,1,5,6,5,5,5,5,0,1,6,5,1,1,1,5,1,1,0,5,5,0,5,5,5,5,5,0,5,5,0,6,5,5,7,5,0,6,5,1,3,5,3,6,6,3,0,6,0,6,6,6,5,5,5,0,5,4,0,6,5,5,5,3,5,5,5,5,5,5,5,0,6,5,6,5,5,5,3,5,3,0,5,5,5,0,5,5,5,5,5,0,6,5,5,5,5,5,5,0,5,5,0,5,5,1,5,5,5,5,3,6,6,5,5,0,1,1,5,6,6,6,6,6,0,6,3,4,4,4,0,0,6,6,0,5,0,5,1,5,0,4,4,4,4,4,4,0,0,3,5,6,6,0,0,5,5,1,0,0,5,0,4,0,0,6,6,0,6,0,4,6,4,4,5,3,0,6,3,4,2,0,0,5,4,6,4,0,1,5,4,5,5,7,5,5,5,0,5,5,5,0,5,5,5,5,2,5,7,2,2,5,0,5,5,0,5,5,0,5,2,5,0,3,5,5,0,0,0,5,4,3,7,0,5,4,0,4,4],\"x\":{\"__ndarray__\":\"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\",\"dtype\":\"float32\",\"order\":\"little\",\"shape\":[606]},\"y\":{\"__ndarray__\":\"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\",\"dtype\":\"float32\",\"order\":\"little\",\"shape\":[606]}},\"selected\":{\"id\":\"1035\"},\"selection_policy\":{\"id\":\"1034\"}},\"id\":\"1003\",\"type\":\"ColumnDataSource\"},{\"attributes\":{\"callback\":null,\"tooltips\":[[\"content\",\"Title: @title\"]]},\"id\":\"1019\",\"type\":\"HoverTool\"},{\"attributes\":{\"label\":{\"field\":\"label\"},\"renderers\":[{\"id\":\"1031\"}]},\"id\":\"1038\",\"type\":\"LegendItem\"},{\"attributes\":{\"bottom_units\":\"screen\",\"coordinates\":null,\"fill_alpha\":0.5,\"fill_color\":\"lightgrey\",\"group\":null,\"left_units\":\"screen\",\"level\":\"overlay\",\"line_alpha\":1.0,\"line_color\":\"black\",\"line_dash\":[4,4],\"line_width\":2,\"right_units\":\"screen\",\"syncable\":false,\"top_units\":\"screen\"},\"id\":\"1020\",\"type\":\"BoxAnnotation\"},{\"attributes\":{\"source\":{\"id\":\"1003\"}},\"id\":\"1032\",\"type\":\"CDSView\"},{\"attributes\":{},\"id\":\"1034\",\"type\":\"UnionRenderers\"},{\"attributes\":{\"coordinates\":null,\"group\":null,\"text\":\"T-SNE Clustering of LDA Topics\"},\"id\":\"1005\",\"type\":\"Title\"},{\"attributes\":{\"fill_alpha\":{\"value\":0.7},\"fill_color\":{\"field\":\"color\"},\"hatch_alpha\":{\"value\":0.7},\"hatch_color\":{\"field\":\"color\"},\"line_alpha\":{\"value\":0.7},\"line_color\":{\"field\":\"color\"},\"size\":{\"value\":10},\"x\":{\"field\":\"x\"},\"y\":{\"field\":\"y\"}},\"id\":\"1028\",\"type\":\"Scatter\"},{\"attributes\":{\"coordinates\":null,\"group\":null,\"items\":[{\"id\":\"1038\"}],\"location\":\"bottom_right\"},\"id\":\"1037\",\"type\":\"Legend\"},{\"attributes\":{\"fill_alpha\":{\"value\":0.2},\"fill_color\":{\"field\":\"color\"},\"hatch_alpha\":{\"value\":0.2},\"hatch_color\":{\"field\":\"color\"},\"line_alpha\":{\"value\":0.2},\"line_color\":{\"field\":\"color\"},\"size\":{\"value\":10},\"x\":{\"field\":\"x\"},\"y\":{\"field\":\"y\"}},\"id\":\"1030\",\"type\":\"Scatter\"},{\"attributes\":{\"fill_alpha\":{\"value\":0.1},\"fill_color\":{\"field\":\"color\"},\"hatch_alpha\":{\"value\":0.1},\"hatch_color\":{\"field\":\"color\"},\"line_alpha\":{\"value\":0.1},\"line_color\":{\"field\":\"color\"},\"size\":{\"value\":10},\"x\":{\"field\":\"x\"},\"y\":{\"field\":\"y\"}},\"id\":\"1029\",\"type\":\"Scatter\"},{\"attributes\":{},\"id\":\"1011\",\"type\":\"LinearScale\"},{\"attributes\":{\"coordinates\":null,\"data_source\":{\"id\":\"1003\"},\"glyph\":{\"id\":\"1028\"},\"group\":null,\"hover_glyph\":null,\"muted_glyph\":{\"id\":\"1030\"},\"nonselection_glyph\":{\"id\":\"1029\"},\"view\":{\"id\":\"1032\"}},\"id\":\"1031\",\"type\":\"GlyphRenderer\"},{\"attributes\":{},\"id\":\"1013\",\"type\":\"LinearScale\"},{\"attributes\":{},\"id\":\"1009\",\"type\":\"DataRange1d\"},{\"attributes\":{\"tools\":[{\"id\":\"1015\"},{\"id\":\"1016\"},{\"id\":\"1017\"},{\"id\":\"1018\"},{\"id\":\"1019\"}]},\"id\":\"1021\",\"type\":\"Toolbar\"},{\"attributes\":{},\"id\":\"1016\",\"type\":\"WheelZoomTool\"}],\"root_ids\":[\"1004\"]},\"title\":\"Bokeh Application\",\"version\":\"2.4.3\"}};\n",
       "  const render_items = [{\"docid\":\"8a0d0f58-9887-4b01-a3fa-ee3e8b7982f0\",\"root_ids\":[\"1004\"],\"roots\":{\"1004\":\"ec2f8d52-4aa0-4375-ab2c-ec99500fd4a3\"}}];\n",
       "  root.Bokeh.embed.embed_items_notebook(docs_json, render_items);\n",
       "  }\n",
       "  if (root.Bokeh !== undefined) {\n",
       "    embed_document(root);\n",
       "  } else {\n",
       "    let attempts = 0;\n",
       "    const timer = setInterval(function(root) {\n",
       "      if (root.Bokeh !== undefined) {\n",
       "        clearInterval(timer);\n",
       "        embed_document(root);\n",
       "      } else {\n",
       "        attempts++;\n",
       "        if (attempts > 100) {\n",
       "          clearInterval(timer);\n",
       "          console.log(\"Bokeh: ERROR: Unable to run BokehJS code because BokehJS library is missing\");\n",
       "        }\n",
       "      }\n",
       "    }, 10, root)\n",
       "  }\n",
       "})(window);"
      ],
      "application/vnd.bokehjs_exec.v0+json": ""
     },
     "metadata": {
      "application/vnd.bokehjs_exec.v0+json": {
       "id": "1004"
      }
     },
     "output_type": "display_data"
    }
   ],
   "source": [
    "#T-SNE clustering of LDA topics\n",
    "tSNE = TSNE(n_components=2,init='pca',random_state=98)\n",
    "embedding_matrix = tSNE.fit_transform(document_topic_matrix)\n",
    "df_embedding = pd.DataFrame(embedding_matrix, columns=['X_TSNE','Y_TSNE'])\n",
    "cluster_colors = {0: 'blue', 1: 'green', 2: 'yellow', \n",
    "                  3: 'red', 4: 'skyblue', 5:'salmon',\n",
    "                  6: 'purple', 7:'darkred'}\n",
    "df_embedding['dominant_topic_idx'] = np.argmax(document_topic_matrix,axis=1)\n",
    "df_embedding['color'] = df_embedding['dominant_topic_idx'].map(cluster_colors)\n",
    "cluster_labels = {0: 'Infection prevention measures by hospital', 1: 'Evolution of virus', \n",
    "                  2: 'Drugs for atypical pneumonia and myocardial', \n",
    "                  3: 'lesions in lungs', 4: 'Observation on COVID19 patient', 5:'Rise of COVID19 in the Country',\n",
    "                  6: 'Symptoms of COVID19', 7: 'Research on vaccine'}\n",
    "df_embedding['label'] = df_embedding['dominant_topic_idx'].map(cluster_labels)\n",
    "df_embedding['article_title'] = list(cov_article['title'])\n",
    "\n",
    "output_notebook()\n",
    "\n",
    "source = ColumnDataSource(\n",
    "    dict(x = df_embedding['X_TSNE'],\n",
    "         y = df_embedding['Y_TSNE'],\n",
    "         color=df_embedding['color'],\n",
    "         label=df_embedding['label'],\n",
    "         topic_key= df_embedding['dominant_topic_idx'],\n",
    "         title= df_embedding['article_title'],\n",
    "         #content = \n",
    "        ))\n",
    "\n",
    "lda_plot = figure(title='T-SNE Clustering of LDA Topics', \n",
    "              plot_width=800, plot_height=600,\n",
    "              tools='pan,wheel_zoom,box_zoom,reset,hover', \n",
    "              x_axis_type=None, y_axis_type=None)\n",
    "lda_plot.scatter(x='x', y='y', source=source, \n",
    "                 legend='label', color='color',alpha=0.7, size=10)\n",
    "hover = lda_plot.select(dict(type=HoverTool))\n",
    "hover.tooltips = {'content':'Title: @title'}\n",
    "lda_plot.legend.location = 'bottom_right'\n",
    "show(lda_plot)"
   ]
  },
  {
   "cell_type": "markdown",
   "id": "6add4096",
   "metadata": {
    "papermill": {
     "duration": 0.026411,
     "end_time": "2023-01-04T16:20:40.391600",
     "exception": false,
     "start_time": "2023-01-04T16:20:40.365189",
     "status": "completed"
    },
    "tags": []
   },
   "source": [
    "**Why Choose T-SNE?**\n",
    "\n",
    "T-SNE gives the impression that it has classified the data by bringing it to two-dimensions but in reality, it doesn’t reduce the dimensions. It is a visualizer, which tells how each class is distributed and is there any overlap between them'. An intuition of T-SNE from the article on Medium: PCA vs LDA vs T-SNE — Let’s Understand the difference between them.\n",
    "\n"
   ]
  },
  {
   "cell_type": "markdown",
   "id": "7ac0d194",
   "metadata": {
    "papermill": {
     "duration": 0.022832,
     "end_time": "2023-01-04T16:20:40.437464",
     "exception": false,
     "start_time": "2023-01-04T16:20:40.414632",
     "status": "completed"
    },
    "tags": []
   },
   "source": [
    "# **Semantic-Based Search**"
   ]
  },
  {
   "cell_type": "code",
   "execution_count": 27,
   "id": "c7b3ad84",
   "metadata": {
    "execution": {
     "iopub.execute_input": "2023-01-04T16:20:40.484619Z",
     "iopub.status.busy": "2023-01-04T16:20:40.483724Z",
     "iopub.status.idle": "2023-01-04T16:20:53.992392Z",
     "shell.execute_reply": "2023-01-04T16:20:53.991097Z"
    },
    "papermill": {
     "duration": 13.534502,
     "end_time": "2023-01-04T16:20:53.994826",
     "exception": false,
     "start_time": "2023-01-04T16:20:40.460324",
     "status": "completed"
    },
    "tags": []
   },
   "outputs": [
    {
     "name": "stdout",
     "output_type": "stream",
     "text": [
      "Collecting langdetect\r\n",
      "  Downloading langdetect-1.0.9.tar.gz (981 kB)\r\n",
      "\u001b[2K     \u001b[90m━━━━━━━━━━━━━━━━━━━━━━━━━━━━━━━━━━━━━━━\u001b[0m \u001b[32m981.5/981.5 kB\u001b[0m \u001b[31m2.4 MB/s\u001b[0m eta \u001b[36m0:00:00\u001b[0m\r\n",
      "\u001b[?25h  Preparing metadata (setup.py) ... \u001b[?25l-\b \bdone\r\n",
      "\u001b[?25hRequirement already satisfied: six in /opt/conda/lib/python3.7/site-packages (from langdetect) (1.15.0)\r\n",
      "Building wheels for collected packages: langdetect\r\n",
      "  Building wheel for langdetect (setup.py) ... \u001b[?25l-\b \b\\\b \b|\b \b/\b \bdone\r\n",
      "\u001b[?25h  Created wheel for langdetect: filename=langdetect-1.0.9-py3-none-any.whl size=993242 sha256=033798be9106e69c5ee8bfe5ac8e0a08be4e5bcf83c4bebd71f708ed08629f9f\r\n",
      "  Stored in directory: /root/.cache/pip/wheels/c5/96/8a/f90c59ed25d75e50a8c10a1b1c2d4c402e4dacfa87f3aff36a\r\n",
      "Successfully built langdetect\r\n",
      "Installing collected packages: langdetect\r\n",
      "Successfully installed langdetect-1.0.9\r\n",
      "\u001b[33mWARNING: Running pip as the 'root' user can result in broken permissions and conflicting behaviour with the system package manager. It is recommended to use a virtual environment instead: https://pip.pypa.io/warnings/venv\u001b[0m\u001b[33m\r\n",
      "\u001b[0m"
     ]
    }
   ],
   "source": [
    "# Imports \n",
    "!pip install langdetect\n",
    "\n",
    "\n",
    "import string\n",
    "import warnings\n",
    "\n",
    "from pprint import pprint\n",
    "from IPython.utils import io\n",
    "from gensim.models import Word2Vec\n",
    "from langdetect import DetectorFactory, detect\n",
    "from spacy.lang.en.stop_words import STOP_WORDS\n",
    "\n",
    "warnings.filterwarnings('ignore')"
   ]
  },
  {
   "cell_type": "code",
   "execution_count": 28,
   "id": "378d37d4",
   "metadata": {
    "execution": {
     "iopub.execute_input": "2023-01-04T16:20:54.048317Z",
     "iopub.status.busy": "2023-01-04T16:20:54.047337Z",
     "iopub.status.idle": "2023-01-04T16:20:54.053446Z",
     "shell.execute_reply": "2023-01-04T16:20:54.052418Z"
    },
    "papermill": {
     "duration": 0.035172,
     "end_time": "2023-01-04T16:20:54.056014",
     "exception": false,
     "start_time": "2023-01-04T16:20:54.020842",
     "status": "completed"
    },
    "tags": []
   },
   "outputs": [],
   "source": [
    "#clearing cache to avoid ran out of memory error\n",
    "import gc \n",
    "def report_gpu(): \n",
    "    print(torch.cuda.list_gpu_processes()) \n",
    "    gc.collect() \n",
    "    torch.cuda.empty_cache()"
   ]
  },
  {
   "cell_type": "code",
   "execution_count": 29,
   "id": "b100d8de",
   "metadata": {
    "execution": {
     "iopub.execute_input": "2023-01-04T16:20:54.107670Z",
     "iopub.status.busy": "2023-01-04T16:20:54.106935Z",
     "iopub.status.idle": "2023-01-04T16:20:54.126888Z",
     "shell.execute_reply": "2023-01-04T16:20:54.125959Z"
    },
    "papermill": {
     "duration": 0.047891,
     "end_time": "2023-01-04T16:20:54.128961",
     "exception": false,
     "start_time": "2023-01-04T16:20:54.081070",
     "status": "completed"
    },
    "tags": []
   },
   "outputs": [
    {
     "data": {
      "text/html": [
       "<div>\n",
       "<style scoped>\n",
       "    .dataframe tbody tr th:only-of-type {\n",
       "        vertical-align: middle;\n",
       "    }\n",
       "\n",
       "    .dataframe tbody tr th {\n",
       "        vertical-align: top;\n",
       "    }\n",
       "\n",
       "    .dataframe thead th {\n",
       "        text-align: right;\n",
       "    }\n",
       "</style>\n",
       "<table border=\"1\" class=\"dataframe\">\n",
       "  <thead>\n",
       "    <tr style=\"text-align: right;\">\n",
       "      <th></th>\n",
       "      <th>paper_id</th>\n",
       "      <th>title</th>\n",
       "      <th>abstract</th>\n",
       "      <th>doi</th>\n",
       "    </tr>\n",
       "  </thead>\n",
       "  <tbody>\n",
       "    <tr>\n",
       "      <th>0</th>\n",
       "      <td>2</td>\n",
       "      <td>Incubation Period and Other Epidemiological Ch...</td>\n",
       "      <td>the geographic spread of 2019 novel coronaviru...</td>\n",
       "      <td>10.3390/jcm9020538</td>\n",
       "    </tr>\n",
       "    <tr>\n",
       "      <th>1</th>\n",
       "      <td>3</td>\n",
       "      <td>Characteristics of and Public Health Responses...</td>\n",
       "      <td>in december 2019, cases of unidentified pneumo...</td>\n",
       "      <td>10.3390/jcm9020575</td>\n",
       "    </tr>\n",
       "    <tr>\n",
       "      <th>2</th>\n",
       "      <td>5</td>\n",
       "      <td>An updated estimation of the risk of transmiss...</td>\n",
       "      <td>the basic reproduction number of an infectious...</td>\n",
       "      <td>10.1016/j.idm.2020.02.001</td>\n",
       "    </tr>\n",
       "    <tr>\n",
       "      <th>3</th>\n",
       "      <td>6</td>\n",
       "      <td>Real-time forecasts of the 2019-nCoV epidemic ...</td>\n",
       "      <td>the initial cluster of severe pneumonia cases ...</td>\n",
       "      <td>10.1016/j.idm.2020.02.002</td>\n",
       "    </tr>\n",
       "    <tr>\n",
       "      <th>4</th>\n",
       "      <td>8</td>\n",
       "      <td>COVID-19 outbreak on the Diamond Princess crui...</td>\n",
       "      <td>cruise ships carry a large number of people in...</td>\n",
       "      <td>10.1093/jtm/taaa030</td>\n",
       "    </tr>\n",
       "  </tbody>\n",
       "</table>\n",
       "</div>"
      ],
      "text/plain": [
       "   paper_id                                              title  \\\n",
       "0         2  Incubation Period and Other Epidemiological Ch...   \n",
       "1         3  Characteristics of and Public Health Responses...   \n",
       "2         5  An updated estimation of the risk of transmiss...   \n",
       "3         6  Real-time forecasts of the 2019-nCoV epidemic ...   \n",
       "4         8  COVID-19 outbreak on the Diamond Princess crui...   \n",
       "\n",
       "                                            abstract  \\\n",
       "0  the geographic spread of 2019 novel coronaviru...   \n",
       "1  in december 2019, cases of unidentified pneumo...   \n",
       "2  the basic reproduction number of an infectious...   \n",
       "3  the initial cluster of severe pneumonia cases ...   \n",
       "4  cruise ships carry a large number of people in...   \n",
       "\n",
       "                         doi  \n",
       "0         10.3390/jcm9020538  \n",
       "1         10.3390/jcm9020575  \n",
       "2  10.1016/j.idm.2020.02.001  \n",
       "3  10.1016/j.idm.2020.02.002  \n",
       "4        10.1093/jtm/taaa030  "
      ]
     },
     "execution_count": 29,
     "metadata": {},
     "output_type": "execute_result"
    }
   ],
   "source": [
    "#creating new dataframe for required columns \n",
    "df_covid = pd.DataFrame(columns=['paper_id', 'title','abstract', 'doi'])\n",
    "df_covid['paper_id'] = data.id\n",
    "df_covid['title'] = data.title\n",
    "df_covid['abstract'] = data.abstract\n",
    "df_covid['doi'] = data.doi\n",
    "\n",
    "df_covid.head()"
   ]
  },
  {
   "cell_type": "markdown",
   "id": "d53789e0",
   "metadata": {
    "papermill": {
     "duration": 0.024319,
     "end_time": "2023-01-04T16:20:54.178165",
     "exception": false,
     "start_time": "2023-01-04T16:20:54.153846",
     "status": "completed"
    },
    "tags": []
   },
   "source": [
    "# Duplicates and Null values.\n",
    "\n",
    "We will look into the data and check if we have any null values."
   ]
  },
  {
   "cell_type": "code",
   "execution_count": 30,
   "id": "27c220e2",
   "metadata": {
    "execution": {
     "iopub.execute_input": "2023-01-04T16:20:54.228992Z",
     "iopub.status.busy": "2023-01-04T16:20:54.228681Z",
     "iopub.status.idle": "2023-01-04T16:20:54.246037Z",
     "shell.execute_reply": "2023-01-04T16:20:54.245075Z"
    },
    "papermill": {
     "duration": 0.045358,
     "end_time": "2023-01-04T16:20:54.248230",
     "exception": false,
     "start_time": "2023-01-04T16:20:54.202872",
     "status": "completed"
    },
    "tags": []
   },
   "outputs": [
    {
     "name": "stdout",
     "output_type": "stream",
     "text": [
      "<class 'pandas.core.frame.DataFrame'>\n",
      "RangeIndex: 772 entries, 0 to 771\n",
      "Data columns (total 4 columns):\n",
      " #   Column    Non-Null Count  Dtype \n",
      "---  ------    --------------  ----- \n",
      " 0   paper_id  772 non-null    int64 \n",
      " 1   title     772 non-null    object\n",
      " 2   abstract  772 non-null    object\n",
      " 3   doi       772 non-null    object\n",
      "dtypes: int64(1), object(3)\n",
      "memory usage: 24.2+ KB\n"
     ]
    }
   ],
   "source": [
    "#dropping articles with missing abstract\n",
    "df_covid.info()"
   ]
  },
  {
   "cell_type": "code",
   "execution_count": 31,
   "id": "0f8a228d",
   "metadata": {
    "execution": {
     "iopub.execute_input": "2023-01-04T16:20:54.301056Z",
     "iopub.status.busy": "2023-01-04T16:20:54.300410Z",
     "iopub.status.idle": "2023-01-04T16:20:54.318239Z",
     "shell.execute_reply": "2023-01-04T16:20:54.316615Z"
    },
    "papermill": {
     "duration": 0.045851,
     "end_time": "2023-01-04T16:20:54.320631",
     "exception": false,
     "start_time": "2023-01-04T16:20:54.274780",
     "status": "completed"
    },
    "tags": []
   },
   "outputs": [
    {
     "name": "stdout",
     "output_type": "stream",
     "text": [
      "<class 'pandas.core.frame.DataFrame'>\n",
      "Int64Index: 772 entries, 0 to 771\n",
      "Data columns (total 4 columns):\n",
      " #   Column    Non-Null Count  Dtype \n",
      "---  ------    --------------  ----- \n",
      " 0   paper_id  772 non-null    int64 \n",
      " 1   title     772 non-null    object\n",
      " 2   abstract  772 non-null    object\n",
      " 3   doi       772 non-null    object\n",
      "dtypes: int64(1), object(3)\n",
      "memory usage: 30.2+ KB\n"
     ]
    }
   ],
   "source": [
    "df_covid.drop_duplicates(['abstract'], inplace=True)\n",
    "df_covid.dropna(inplace=True)\n",
    "df_covid.info()"
   ]
  },
  {
   "cell_type": "markdown",
   "id": "160c696c",
   "metadata": {
    "papermill": {
     "duration": 0.025639,
     "end_time": "2023-01-04T16:20:54.373658",
     "exception": false,
     "start_time": "2023-01-04T16:20:54.348019",
     "status": "completed"
    },
    "tags": []
   },
   "source": [
    "# Dropping non-English articles.\n",
    "\n",
    "Now we dropped the null values, and removed the duplicates as well. Now we will check the number of non-english articles and see if we can drop them for the sake of simplicity."
   ]
  },
  {
   "cell_type": "code",
   "execution_count": 32,
   "id": "e275c24f",
   "metadata": {
    "execution": {
     "iopub.execute_input": "2023-01-04T16:20:54.425807Z",
     "iopub.status.busy": "2023-01-04T16:20:54.424774Z",
     "iopub.status.idle": "2023-01-04T16:20:59.107265Z",
     "shell.execute_reply": "2023-01-04T16:20:59.106110Z"
    },
    "papermill": {
     "duration": 4.711706,
     "end_time": "2023-01-04T16:20:59.110491",
     "exception": false,
     "start_time": "2023-01-04T16:20:54.398785",
     "status": "completed"
    },
    "tags": []
   },
   "outputs": [
    {
     "name": "stderr",
     "output_type": "stream",
     "text": [
      "100%|██████████| 772/772 [00:04<00:00, 165.33it/s]\n"
     ]
    }
   ],
   "source": [
    "# set seed\n",
    "DetectorFactory.seed = 0\n",
    "\n",
    "# hold label - language\n",
    "languages = []\n",
    "\n",
    "# go through each text\n",
    "for ii in tqdm(range(0,len(df_covid))):\n",
    "    # split by space into list, take the first x intex, join with space\n",
    "    text = df_covid.iloc[ii]['abstract'].split(\" \")\n",
    "    \n",
    "    lang = \"en\"\n",
    "    try:\n",
    "        if len(text) > 50:\n",
    "            lang = detect(\" \".join(text[:50]))\n",
    "        elif len(text) > 0:\n",
    "            lang = detect(\" \".join(text[:len(text)]))\n",
    "    # ught... beginning of the document was not in a good format\n",
    "    except Exception as e:\n",
    "        all_words = set(text)\n",
    "        try:\n",
    "            lang = detect(\" \".join(all_words))\n",
    "        \n",
    "        except Exception as e:        \n",
    "            lang = \"unknown\"\n",
    "            pass\n",
    "    \n",
    "    # get the language    \n",
    "    languages.append(lang)"
   ]
  },
  {
   "cell_type": "markdown",
   "id": "1d3dc1de",
   "metadata": {
    "papermill": {
     "duration": 0.027855,
     "end_time": "2023-01-04T16:20:59.167115",
     "exception": false,
     "start_time": "2023-01-04T16:20:59.139260",
     "status": "completed"
    },
    "tags": []
   },
   "source": [
    "**Let's look at the numbers of articles for each language.**"
   ]
  },
  {
   "cell_type": "code",
   "execution_count": 33,
   "id": "6e2c9782",
   "metadata": {
    "execution": {
     "iopub.execute_input": "2023-01-04T16:20:59.220640Z",
     "iopub.status.busy": "2023-01-04T16:20:59.219563Z",
     "iopub.status.idle": "2023-01-04T16:20:59.225147Z",
     "shell.execute_reply": "2023-01-04T16:20:59.224255Z"
    },
    "papermill": {
     "duration": 0.034349,
     "end_time": "2023-01-04T16:20:59.227195",
     "exception": false,
     "start_time": "2023-01-04T16:20:59.192846",
     "status": "completed"
    },
    "tags": []
   },
   "outputs": [],
   "source": [
    "#clearing cache to avoid ran out of memory error\n",
    "import gc \n",
    "def report_gpu(): \n",
    "    print(torch.cuda.list_gpu_processes()) \n",
    "    gc.collect() \n",
    "    torch.cuda.empty_cache()"
   ]
  },
  {
   "cell_type": "code",
   "execution_count": 34,
   "id": "67063938",
   "metadata": {
    "execution": {
     "iopub.execute_input": "2023-01-04T16:20:59.279621Z",
     "iopub.status.busy": "2023-01-04T16:20:59.278795Z",
     "iopub.status.idle": "2023-01-04T16:20:59.285784Z",
     "shell.execute_reply": "2023-01-04T16:20:59.284389Z"
    },
    "papermill": {
     "duration": 0.036296,
     "end_time": "2023-01-04T16:20:59.288652",
     "exception": false,
     "start_time": "2023-01-04T16:20:59.252356",
     "status": "completed"
    },
    "tags": []
   },
   "outputs": [
    {
     "name": "stdout",
     "output_type": "stream",
     "text": [
      "Total: 772\n",
      "\n",
      "{'ca': 1, 'de': 2, 'en': 749, 'es': 11, 'ja': 1, 'pt': 4, 'zh-cn': 4}\n"
     ]
    }
   ],
   "source": [
    "languages_dict = {}\n",
    "for lang in set(languages):\n",
    "    languages_dict[lang] = languages.count(lang)\n",
    "    \n",
    "print(\"Total: {}\\n\".format(len(languages)))\n",
    "pprint(languages_dict)"
   ]
  },
  {
   "cell_type": "markdown",
   "id": "e716a71f",
   "metadata": {
    "papermill": {
     "duration": 0.025742,
     "end_time": "2023-01-04T16:20:59.344987",
     "exception": false,
     "start_time": "2023-01-04T16:20:59.319245",
     "status": "completed"
    },
    "tags": []
   },
   "source": [
    "**Since most of the articles are in English, we can safely drop non-English articles.**"
   ]
  },
  {
   "cell_type": "code",
   "execution_count": 35,
   "id": "1bb4a2e5",
   "metadata": {
    "execution": {
     "iopub.execute_input": "2023-01-04T16:20:59.399611Z",
     "iopub.status.busy": "2023-01-04T16:20:59.398715Z",
     "iopub.status.idle": "2023-01-04T16:20:59.412956Z",
     "shell.execute_reply": "2023-01-04T16:20:59.411237Z"
    },
    "papermill": {
     "duration": 0.044733,
     "end_time": "2023-01-04T16:20:59.415568",
     "exception": false,
     "start_time": "2023-01-04T16:20:59.370835",
     "status": "completed"
    },
    "tags": []
   },
   "outputs": [
    {
     "name": "stdout",
     "output_type": "stream",
     "text": [
      "<class 'pandas.core.frame.DataFrame'>\n",
      "Int64Index: 749 entries, 0 to 771\n",
      "Data columns (total 5 columns):\n",
      " #   Column    Non-Null Count  Dtype \n",
      "---  ------    --------------  ----- \n",
      " 0   paper_id  749 non-null    int64 \n",
      " 1   title     749 non-null    object\n",
      " 2   abstract  749 non-null    object\n",
      " 3   doi       749 non-null    object\n",
      " 4   language  749 non-null    object\n",
      "dtypes: int64(1), object(4)\n",
      "memory usage: 35.1+ KB\n"
     ]
    }
   ],
   "source": [
    "df_covid['language'] = languages\n",
    "df_covid = df_covid[df_covid['language'] == 'en'] \n",
    "df_covid.info()"
   ]
  },
  {
   "cell_type": "code",
   "execution_count": 36,
   "id": "69e5ea38",
   "metadata": {
    "execution": {
     "iopub.execute_input": "2023-01-04T16:20:59.469501Z",
     "iopub.status.busy": "2023-01-04T16:20:59.468713Z",
     "iopub.status.idle": "2023-01-04T16:20:59.480283Z",
     "shell.execute_reply": "2023-01-04T16:20:59.479243Z"
    },
    "papermill": {
     "duration": 0.040318,
     "end_time": "2023-01-04T16:20:59.482517",
     "exception": false,
     "start_time": "2023-01-04T16:20:59.442199",
     "status": "completed"
    },
    "tags": []
   },
   "outputs": [
    {
     "data": {
      "text/html": [
       "<div>\n",
       "<style scoped>\n",
       "    .dataframe tbody tr th:only-of-type {\n",
       "        vertical-align: middle;\n",
       "    }\n",
       "\n",
       "    .dataframe tbody tr th {\n",
       "        vertical-align: top;\n",
       "    }\n",
       "\n",
       "    .dataframe thead th {\n",
       "        text-align: right;\n",
       "    }\n",
       "</style>\n",
       "<table border=\"1\" class=\"dataframe\">\n",
       "  <thead>\n",
       "    <tr style=\"text-align: right;\">\n",
       "      <th></th>\n",
       "      <th>paper_id</th>\n",
       "      <th>title</th>\n",
       "      <th>abstract</th>\n",
       "      <th>doi</th>\n",
       "    </tr>\n",
       "  </thead>\n",
       "  <tbody>\n",
       "    <tr>\n",
       "      <th>0</th>\n",
       "      <td>2</td>\n",
       "      <td>Incubation Period and Other Epidemiological Ch...</td>\n",
       "      <td>the geographic spread of 2019 novel coronaviru...</td>\n",
       "      <td>10.3390/jcm9020538</td>\n",
       "    </tr>\n",
       "    <tr>\n",
       "      <th>1</th>\n",
       "      <td>3</td>\n",
       "      <td>Characteristics of and Public Health Responses...</td>\n",
       "      <td>in december 2019, cases of unidentified pneumo...</td>\n",
       "      <td>10.3390/jcm9020575</td>\n",
       "    </tr>\n",
       "    <tr>\n",
       "      <th>2</th>\n",
       "      <td>5</td>\n",
       "      <td>An updated estimation of the risk of transmiss...</td>\n",
       "      <td>the basic reproduction number of an infectious...</td>\n",
       "      <td>10.1016/j.idm.2020.02.001</td>\n",
       "    </tr>\n",
       "    <tr>\n",
       "      <th>3</th>\n",
       "      <td>6</td>\n",
       "      <td>Real-time forecasts of the 2019-nCoV epidemic ...</td>\n",
       "      <td>the initial cluster of severe pneumonia cases ...</td>\n",
       "      <td>10.1016/j.idm.2020.02.002</td>\n",
       "    </tr>\n",
       "    <tr>\n",
       "      <th>4</th>\n",
       "      <td>8</td>\n",
       "      <td>COVID-19 outbreak on the Diamond Princess crui...</td>\n",
       "      <td>cruise ships carry a large number of people in...</td>\n",
       "      <td>10.1093/jtm/taaa030</td>\n",
       "    </tr>\n",
       "  </tbody>\n",
       "</table>\n",
       "</div>"
      ],
      "text/plain": [
       "   paper_id                                              title  \\\n",
       "0         2  Incubation Period and Other Epidemiological Ch...   \n",
       "1         3  Characteristics of and Public Health Responses...   \n",
       "2         5  An updated estimation of the risk of transmiss...   \n",
       "3         6  Real-time forecasts of the 2019-nCoV epidemic ...   \n",
       "4         8  COVID-19 outbreak on the Diamond Princess crui...   \n",
       "\n",
       "                                            abstract  \\\n",
       "0  the geographic spread of 2019 novel coronaviru...   \n",
       "1  in december 2019, cases of unidentified pneumo...   \n",
       "2  the basic reproduction number of an infectious...   \n",
       "3  the initial cluster of severe pneumonia cases ...   \n",
       "4  cruise ships carry a large number of people in...   \n",
       "\n",
       "                         doi  \n",
       "0         10.3390/jcm9020538  \n",
       "1         10.3390/jcm9020575  \n",
       "2  10.1016/j.idm.2020.02.001  \n",
       "3  10.1016/j.idm.2020.02.002  \n",
       "4        10.1093/jtm/taaa030  "
      ]
     },
     "execution_count": 36,
     "metadata": {},
     "output_type": "execute_result"
    }
   ],
   "source": [
    "df_covid = df_covid.drop(['language'], axis = 1) \n",
    "df_covid.head()"
   ]
  },
  {
   "cell_type": "code",
   "execution_count": 37,
   "id": "54321046",
   "metadata": {
    "execution": {
     "iopub.execute_input": "2023-01-04T16:20:59.535304Z",
     "iopub.status.busy": "2023-01-04T16:20:59.535021Z",
     "iopub.status.idle": "2023-01-04T16:20:59.539872Z",
     "shell.execute_reply": "2023-01-04T16:20:59.538886Z"
    },
    "papermill": {
     "duration": 0.03369,
     "end_time": "2023-01-04T16:20:59.541957",
     "exception": false,
     "start_time": "2023-01-04T16:20:59.508267",
     "status": "completed"
    },
    "tags": []
   },
   "outputs": [],
   "source": [
    "#clearing cache to avoid ran out of memory error\n",
    "import gc \n",
    "def report_gpu(): \n",
    "    print(torch.cuda.list_gpu_processes()) \n",
    "    gc.collect() \n",
    "    torch.cuda.empty_cache()"
   ]
  },
  {
   "cell_type": "markdown",
   "id": "ea5cfe52",
   "metadata": {
    "papermill": {
     "duration": 0.025788,
     "end_time": "2023-01-04T16:20:59.594528",
     "exception": false,
     "start_time": "2023-01-04T16:20:59.568740",
     "status": "completed"
    },
    "tags": []
   },
   "source": [
    "# Spacy Parser and Tokenizer"
   ]
  },
  {
   "cell_type": "code",
   "execution_count": 38,
   "id": "d72a6b0c",
   "metadata": {
    "execution": {
     "iopub.execute_input": "2023-01-04T16:20:59.647673Z",
     "iopub.status.busy": "2023-01-04T16:20:59.647360Z",
     "iopub.status.idle": "2023-01-04T16:20:59.653560Z",
     "shell.execute_reply": "2023-01-04T16:20:59.652443Z"
    },
    "papermill": {
     "duration": 0.035172,
     "end_time": "2023-01-04T16:20:59.655523",
     "exception": false,
     "start_time": "2023-01-04T16:20:59.620351",
     "status": "completed"
    },
    "tags": []
   },
   "outputs": [],
   "source": [
    "punctuations = string.punctuation\n",
    "\n",
    "stopwords = list(STOP_WORDS)\n",
    "custom_stop_words = [\n",
    "    'doi', 'preprint', 'copyright', 'peer', 'reviewed', 'org', 'https', 'et', 'al', 'author', 'figure', \n",
    "    'rights', 'reserved', 'permission', 'used', 'using', 'biorxiv', 'medrxiv', 'license', 'fig', 'fig.', \n",
    "    'al.', 'Elsevier', 'PMC', 'CZI', 'www'\n",
    "]\n",
    "\n",
    "for w in custom_stop_words:\n",
    "    if w not in stopwords:\n",
    "        stopwords.append(w)"
   ]
  },
  {
   "cell_type": "code",
   "execution_count": 39,
   "id": "c7b1f746",
   "metadata": {
    "execution": {
     "iopub.execute_input": "2023-01-04T16:20:59.708608Z",
     "iopub.status.busy": "2023-01-04T16:20:59.708296Z",
     "iopub.status.idle": "2023-01-04T16:21:18.688596Z",
     "shell.execute_reply": "2023-01-04T16:21:18.687422Z"
    },
    "papermill": {
     "duration": 19.009973,
     "end_time": "2023-01-04T16:21:18.691236",
     "exception": false,
     "start_time": "2023-01-04T16:20:59.681263",
     "status": "completed"
    },
    "tags": []
   },
   "outputs": [
    {
     "name": "stderr",
     "output_type": "stream",
     "text": [
      "100%|██████████| 749/749 [00:15<00:00, 48.55it/s]\n"
     ]
    },
    {
     "data": {
      "text/html": [
       "<div>\n",
       "<style scoped>\n",
       "    .dataframe tbody tr th:only-of-type {\n",
       "        vertical-align: middle;\n",
       "    }\n",
       "\n",
       "    .dataframe tbody tr th {\n",
       "        vertical-align: top;\n",
       "    }\n",
       "\n",
       "    .dataframe thead th {\n",
       "        text-align: right;\n",
       "    }\n",
       "</style>\n",
       "<table border=\"1\" class=\"dataframe\">\n",
       "  <thead>\n",
       "    <tr style=\"text-align: right;\">\n",
       "      <th></th>\n",
       "      <th>paper_id</th>\n",
       "      <th>title</th>\n",
       "      <th>abstract</th>\n",
       "      <th>doi</th>\n",
       "      <th>processed_abstract</th>\n",
       "    </tr>\n",
       "  </thead>\n",
       "  <tbody>\n",
       "    <tr>\n",
       "      <th>0</th>\n",
       "      <td>2</td>\n",
       "      <td>Incubation Period and Other Epidemiological Ch...</td>\n",
       "      <td>the geographic spread of 2019 novel coronaviru...</td>\n",
       "      <td>10.3390/jcm9020538</td>\n",
       "      <td>geographic spread 2019 novel coronavirus covid...</td>\n",
       "    </tr>\n",
       "    <tr>\n",
       "      <th>1</th>\n",
       "      <td>3</td>\n",
       "      <td>Characteristics of and Public Health Responses...</td>\n",
       "      <td>in december 2019, cases of unidentified pneumo...</td>\n",
       "      <td>10.3390/jcm9020575</td>\n",
       "      <td>december 2019 cases unidentified pneumonia his...</td>\n",
       "    </tr>\n",
       "    <tr>\n",
       "      <th>2</th>\n",
       "      <td>5</td>\n",
       "      <td>An updated estimation of the risk of transmiss...</td>\n",
       "      <td>the basic reproduction number of an infectious...</td>\n",
       "      <td>10.1016/j.idm.2020.02.001</td>\n",
       "      <td>basic reproduction number infectious agent ave...</td>\n",
       "    </tr>\n",
       "    <tr>\n",
       "      <th>3</th>\n",
       "      <td>6</td>\n",
       "      <td>Real-time forecasts of the 2019-nCoV epidemic ...</td>\n",
       "      <td>the initial cluster of severe pneumonia cases ...</td>\n",
       "      <td>10.1016/j.idm.2020.02.002</td>\n",
       "      <td>initial cluster severe pneumonia cases trigger...</td>\n",
       "    </tr>\n",
       "    <tr>\n",
       "      <th>4</th>\n",
       "      <td>8</td>\n",
       "      <td>COVID-19 outbreak on the Diamond Princess crui...</td>\n",
       "      <td>cruise ships carry a large number of people in...</td>\n",
       "      <td>10.1093/jtm/taaa030</td>\n",
       "      <td>cruise ships carry large number people confine...</td>\n",
       "    </tr>\n",
       "  </tbody>\n",
       "</table>\n",
       "</div>"
      ],
      "text/plain": [
       "   paper_id                                              title  \\\n",
       "0         2  Incubation Period and Other Epidemiological Ch...   \n",
       "1         3  Characteristics of and Public Health Responses...   \n",
       "2         5  An updated estimation of the risk of transmiss...   \n",
       "3         6  Real-time forecasts of the 2019-nCoV epidemic ...   \n",
       "4         8  COVID-19 outbreak on the Diamond Princess crui...   \n",
       "\n",
       "                                            abstract  \\\n",
       "0  the geographic spread of 2019 novel coronaviru...   \n",
       "1  in december 2019, cases of unidentified pneumo...   \n",
       "2  the basic reproduction number of an infectious...   \n",
       "3  the initial cluster of severe pneumonia cases ...   \n",
       "4  cruise ships carry a large number of people in...   \n",
       "\n",
       "                         doi  \\\n",
       "0         10.3390/jcm9020538   \n",
       "1         10.3390/jcm9020575   \n",
       "2  10.1016/j.idm.2020.02.001   \n",
       "3  10.1016/j.idm.2020.02.002   \n",
       "4        10.1093/jtm/taaa030   \n",
       "\n",
       "                                  processed_abstract  \n",
       "0  geographic spread 2019 novel coronavirus covid...  \n",
       "1  december 2019 cases unidentified pneumonia his...  \n",
       "2  basic reproduction number infectious agent ave...  \n",
       "3  initial cluster severe pneumonia cases trigger...  \n",
       "4  cruise ships carry large number people confine...  "
      ]
     },
     "execution_count": 39,
     "metadata": {},
     "output_type": "execute_result"
    }
   ],
   "source": [
    "# Parser\n",
    "parser = spacy.load('en_core_web_lg',disable=[\"tagger\", \"ner\"])\n",
    "parser.max_length = 7000000\n",
    "\n",
    "def spacy_tokenizer(sentence):\n",
    "    mytokens = parser(sentence)\n",
    "    mytokens = [ word.lemma_.lower().strip() if word.lemma_ != \"-PRON-\" else word.lower_ for word in mytokens ]\n",
    "    mytokens = [ word for word in mytokens if word not in stopwords and word not in punctuations ]\n",
    "    mytokens = \" \".join([i for i in mytokens])\n",
    "    return mytokens\n",
    "\n",
    "\n",
    "tqdm.pandas()\n",
    "df_covid[\"processed_abstract\"] = df_covid[\"abstract\"].progress_apply(spacy_tokenizer)\n",
    "df_covid.head()"
   ]
  },
  {
   "cell_type": "code",
   "execution_count": 40,
   "id": "26b767c8",
   "metadata": {
    "execution": {
     "iopub.execute_input": "2023-01-04T16:21:18.760293Z",
     "iopub.status.busy": "2023-01-04T16:21:18.758780Z",
     "iopub.status.idle": "2023-01-04T16:21:18.764944Z",
     "shell.execute_reply": "2023-01-04T16:21:18.763759Z"
    },
    "papermill": {
     "duration": 0.041475,
     "end_time": "2023-01-04T16:21:18.766988",
     "exception": false,
     "start_time": "2023-01-04T16:21:18.725513",
     "status": "completed"
    },
    "tags": []
   },
   "outputs": [],
   "source": [
    "#clearing cache to avoid ran out of memory error\n",
    "import gc \n",
    "def report_gpu(): \n",
    "    print(torch.cuda.list_gpu_processes()) \n",
    "    gc.collect() \n",
    "    torch.cuda.empty_cache()"
   ]
  },
  {
   "cell_type": "markdown",
   "id": "f9c206b7",
   "metadata": {
    "papermill": {
     "duration": 0.031993,
     "end_time": "2023-01-04T16:21:18.831088",
     "exception": false,
     "start_time": "2023-01-04T16:21:18.799095",
     "status": "completed"
    },
    "tags": []
   },
   "source": [
    "# Sentence Tokenization\n",
    "gensim's word2vec corpus should be in the form of separate sentences, therefore we will use spacy's tokenizer in order to split the corpus (all the abstracts) into sentences."
   ]
  },
  {
   "cell_type": "code",
   "execution_count": 41,
   "id": "536dbd29",
   "metadata": {
    "execution": {
     "iopub.execute_input": "2023-01-04T16:21:18.897500Z",
     "iopub.status.busy": "2023-01-04T16:21:18.896546Z",
     "iopub.status.idle": "2023-01-04T16:22:04.203822Z",
     "shell.execute_reply": "2023-01-04T16:22:04.202752Z"
    },
    "papermill": {
     "duration": 45.3438,
     "end_time": "2023-01-04T16:22:04.206954",
     "exception": false,
     "start_time": "2023-01-04T16:21:18.863154",
     "status": "completed"
    },
    "tags": []
   },
   "outputs": [
    {
     "name": "stderr",
     "output_type": "stream",
     "text": [
      "100%|██████████| 749/749 [00:43<00:00, 17.12it/s]\n"
     ]
    }
   ],
   "source": [
    "#sentence tokenization to prepare the corpus\n",
    "abstracts = df_covid['abstract'].values\n",
    "\n",
    "nlp = spacy.load('en_core_web_lg',disable = ['ner', 'tagger'])\n",
    "nlp.add_pipe('sentencizer', before=\"parser\")\n",
    "word2vec_corpus = []\n",
    "\n",
    "for i in tqdm(range(0, len(abstracts))):\n",
    "    raw_text = abstracts[i]\n",
    "    doc = nlp(raw_text)\n",
    "    sentences = [sent.text.strip() for sent in doc.sents]\n",
    "    \n",
    "    for sent in sentences:\n",
    "        processed_sent = spacy_tokenizer(sent)\n",
    "        processed_sent_list = processed_sent.split(\" \")\n",
    "        word2vec_corpus.append(processed_sent_list)"
   ]
  },
  {
   "cell_type": "code",
   "execution_count": 42,
   "id": "87215fc4",
   "metadata": {
    "execution": {
     "iopub.execute_input": "2023-01-04T16:22:04.300255Z",
     "iopub.status.busy": "2023-01-04T16:22:04.299554Z",
     "iopub.status.idle": "2023-01-04T16:22:04.308232Z",
     "shell.execute_reply": "2023-01-04T16:22:04.307276Z"
    },
    "papermill": {
     "duration": 0.057233,
     "end_time": "2023-01-04T16:22:04.310327",
     "exception": false,
     "start_time": "2023-01-04T16:22:04.253094",
     "status": "completed"
    },
    "tags": []
   },
   "outputs": [
    {
     "data": {
      "text/plain": [
       "[['geographic',\n",
       "  'spread',\n",
       "  '2019',\n",
       "  'novel',\n",
       "  'coronavirus',\n",
       "  'covid-19',\n",
       "  'infections',\n",
       "  'epicenter',\n",
       "  'wuhan',\n",
       "  'china',\n",
       "  'provided',\n",
       "  'opportunity',\n",
       "  'study',\n",
       "  'natural',\n",
       "  'history',\n",
       "  'recently',\n",
       "  'emerged',\n",
       "  'virus'],\n",
       " ['publicly',\n",
       "  'available',\n",
       "  'event',\n",
       "  'date',\n",
       "  'data',\n",
       "  'ongoing',\n",
       "  'epidemic',\n",
       "  'present',\n",
       "  'study',\n",
       "  'investigated',\n",
       "  'incubation',\n",
       "  'period',\n",
       "  'time',\n",
       "  'intervals',\n",
       "  'govern',\n",
       "  'epidemiological',\n",
       "  'dynamics',\n",
       "  'covid-19',\n",
       "  'infections'],\n",
       " ['results',\n",
       "  'incubation',\n",
       "  'period',\n",
       "  'falls',\n",
       "  'range',\n",
       "  '2&ndash;14',\n",
       "  'days',\n",
       "  '95',\n",
       "  'confidence',\n",
       "  'mean',\n",
       "  '5',\n",
       "  'days',\n",
       "  'approximated',\n",
       "  'best',\n",
       "  'fit',\n",
       "  'lognormal',\n",
       "  'distribution'],\n",
       " ['mean',\n",
       "  'time',\n",
       "  'illness',\n",
       "  'onset',\n",
       "  'hospital',\n",
       "  'admission',\n",
       "  'treatment',\n",
       "  'and/or',\n",
       "  'isolation',\n",
       "  'estimated',\n",
       "  '3&ndash;4',\n",
       "  'days',\n",
       "  'truncation',\n",
       "  '5&ndash;9',\n",
       "  'days',\n",
       "  'right',\n",
       "  'truncated'],\n",
       " ['based',\n",
       "  '95th',\n",
       "  'percentile',\n",
       "  'estimate',\n",
       "  'incubation',\n",
       "  'period',\n",
       "  'recommend',\n",
       "  'length',\n",
       "  'quarantine',\n",
       "  '14',\n",
       "  'days'],\n",
       " ['median',\n",
       "  'time',\n",
       "  'delay',\n",
       "  '13',\n",
       "  'days',\n",
       "  'illness',\n",
       "  'onset',\n",
       "  'death',\n",
       "  '17',\n",
       "  'days',\n",
       "  'right',\n",
       "  'truncation',\n",
       "  'considered',\n",
       "  'estimating',\n",
       "  'covid-19',\n",
       "  'case',\n",
       "  'fatality',\n",
       "  'risk'],\n",
       " ['december',\n",
       "  '2019',\n",
       "  'cases',\n",
       "  'unidentified',\n",
       "  'pneumonia',\n",
       "  'history',\n",
       "  'exposure',\n",
       "  'huanan',\n",
       "  'seafood',\n",
       "  'market',\n",
       "  'reported',\n",
       "  'wuhan',\n",
       "  'hubei',\n",
       "  'province'],\n",
       " ['novel',\n",
       "  'coronavirus',\n",
       "  'sars',\n",
       "  'cov-2',\n",
       "  'identified',\n",
       "  'accountable',\n",
       "  'disease'],\n",
       " ['human',\n",
       "  'human',\n",
       "  'transmission',\n",
       "  'confirmed',\n",
       "  'disease',\n",
       "  'named',\n",
       "  'covid-19',\n",
       "  'world',\n",
       "  'health',\n",
       "  'organization',\n",
       "  'spread',\n",
       "  'rapidly',\n",
       "  'country',\n",
       "  'world'],\n",
       " ['18',\n",
       "  'february',\n",
       "  '2020',\n",
       "  'number',\n",
       "  'confirmed',\n",
       "  'cases',\n",
       "  'reached',\n",
       "  '75,199',\n",
       "  '2009',\n",
       "  'fatalities']]"
      ]
     },
     "execution_count": 42,
     "metadata": {},
     "output_type": "execute_result"
    }
   ],
   "source": [
    "word2vec_corpus[:10]"
   ]
  },
  {
   "cell_type": "markdown",
   "id": "b70dc24a",
   "metadata": {
    "papermill": {
     "duration": 0.045286,
     "end_time": "2023-01-04T16:22:04.401724",
     "exception": false,
     "start_time": "2023-01-04T16:22:04.356438",
     "status": "completed"
    },
    "tags": []
   },
   "source": [
    "# Word2vec Training\n",
    "We will use gensim's word2vec and train it on the corpus we prepared. min_count is the minimum count for a word to occur in the corpus in order to be mapped to a vector. size is the size of the vectors produced. workers is the number of cores. window is the context size to consider. sg is skipgram model. The min_count, size and window were calculated empirically."
   ]
  },
  {
   "cell_type": "code",
   "execution_count": 43,
   "id": "e113dfa9",
   "metadata": {
    "execution": {
     "iopub.execute_input": "2023-01-04T16:22:04.494092Z",
     "iopub.status.busy": "2023-01-04T16:22:04.493778Z",
     "iopub.status.idle": "2023-01-04T16:22:06.054663Z",
     "shell.execute_reply": "2023-01-04T16:22:06.053345Z"
    },
    "papermill": {
     "duration": 1.612597,
     "end_time": "2023-01-04T16:22:06.059715",
     "exception": false,
     "start_time": "2023-01-04T16:22:04.447118",
     "status": "completed"
    },
    "tags": []
   },
   "outputs": [],
   "source": [
    "# Train the genisim word2vec model with our own custom corpus\n",
    "model = Word2Vec(word2vec_corpus, min_count=3,vector_size= 50,workers=4, window =5, sg = 1)"
   ]
  },
  {
   "cell_type": "code",
   "execution_count": 44,
   "id": "f0d155f6",
   "metadata": {
    "execution": {
     "iopub.execute_input": "2023-01-04T16:22:06.244952Z",
     "iopub.status.busy": "2023-01-04T16:22:06.244514Z",
     "iopub.status.idle": "2023-01-04T16:22:06.430294Z",
     "shell.execute_reply": "2023-01-04T16:22:06.429437Z"
    },
    "papermill": {
     "duration": 0.27834,
     "end_time": "2023-01-04T16:22:06.432926",
     "exception": false,
     "start_time": "2023-01-04T16:22:06.154586",
     "status": "completed"
    },
    "tags": []
   },
   "outputs": [
    {
     "data": {
      "text/html": [
       "<div>\n",
       "<style scoped>\n",
       "    .dataframe tbody tr th:only-of-type {\n",
       "        vertical-align: middle;\n",
       "    }\n",
       "\n",
       "    .dataframe tbody tr th {\n",
       "        vertical-align: top;\n",
       "    }\n",
       "\n",
       "    .dataframe thead th {\n",
       "        text-align: right;\n",
       "    }\n",
       "</style>\n",
       "<table border=\"1\" class=\"dataframe\">\n",
       "  <thead>\n",
       "    <tr style=\"text-align: right;\">\n",
       "      <th></th>\n",
       "      <th>paper_id</th>\n",
       "      <th>title</th>\n",
       "      <th>abstract</th>\n",
       "      <th>doi</th>\n",
       "      <th>processed_abstract</th>\n",
       "      <th>centroid</th>\n",
       "    </tr>\n",
       "  </thead>\n",
       "  <tbody>\n",
       "    <tr>\n",
       "      <th>0</th>\n",
       "      <td>2</td>\n",
       "      <td>Incubation Period and Other Epidemiological Ch...</td>\n",
       "      <td>the geographic spread of 2019 novel coronaviru...</td>\n",
       "      <td>10.3390/jcm9020538</td>\n",
       "      <td>geographic spread 2019 novel coronavirus covid...</td>\n",
       "      <td>[0.0, 0.0, 0.0, 0.0, 0.0, 0.0, 0.0, 0.0, 0.0, ...</td>\n",
       "    </tr>\n",
       "    <tr>\n",
       "      <th>1</th>\n",
       "      <td>3</td>\n",
       "      <td>Characteristics of and Public Health Responses...</td>\n",
       "      <td>in december 2019, cases of unidentified pneumo...</td>\n",
       "      <td>10.3390/jcm9020575</td>\n",
       "      <td>december 2019 cases unidentified pneumonia his...</td>\n",
       "      <td>[0.0, 0.0, 0.0, 0.0, 0.0, 0.0, 0.0, 0.0, 0.0, ...</td>\n",
       "    </tr>\n",
       "    <tr>\n",
       "      <th>2</th>\n",
       "      <td>5</td>\n",
       "      <td>An updated estimation of the risk of transmiss...</td>\n",
       "      <td>the basic reproduction number of an infectious...</td>\n",
       "      <td>10.1016/j.idm.2020.02.001</td>\n",
       "      <td>basic reproduction number infectious agent ave...</td>\n",
       "      <td>[0.0, 0.0, 0.0, 0.0, 0.0, 0.0, 0.0, 0.0, 0.0, ...</td>\n",
       "    </tr>\n",
       "    <tr>\n",
       "      <th>3</th>\n",
       "      <td>6</td>\n",
       "      <td>Real-time forecasts of the 2019-nCoV epidemic ...</td>\n",
       "      <td>the initial cluster of severe pneumonia cases ...</td>\n",
       "      <td>10.1016/j.idm.2020.02.002</td>\n",
       "      <td>initial cluster severe pneumonia cases trigger...</td>\n",
       "      <td>[0.0, 0.0, 0.0, 0.0, 0.0, 0.0, 0.0, 0.0, 0.0, ...</td>\n",
       "    </tr>\n",
       "    <tr>\n",
       "      <th>4</th>\n",
       "      <td>8</td>\n",
       "      <td>COVID-19 outbreak on the Diamond Princess crui...</td>\n",
       "      <td>cruise ships carry a large number of people in...</td>\n",
       "      <td>10.1093/jtm/taaa030</td>\n",
       "      <td>cruise ships carry large number people confine...</td>\n",
       "      <td>[0.0, 0.0, 0.0, 0.0, 0.0, 0.0, 0.0, 0.0, 0.0, ...</td>\n",
       "    </tr>\n",
       "  </tbody>\n",
       "</table>\n",
       "</div>"
      ],
      "text/plain": [
       "   paper_id                                              title  \\\n",
       "0         2  Incubation Period and Other Epidemiological Ch...   \n",
       "1         3  Characteristics of and Public Health Responses...   \n",
       "2         5  An updated estimation of the risk of transmiss...   \n",
       "3         6  Real-time forecasts of the 2019-nCoV epidemic ...   \n",
       "4         8  COVID-19 outbreak on the Diamond Princess crui...   \n",
       "\n",
       "                                            abstract  \\\n",
       "0  the geographic spread of 2019 novel coronaviru...   \n",
       "1  in december 2019, cases of unidentified pneumo...   \n",
       "2  the basic reproduction number of an infectious...   \n",
       "3  the initial cluster of severe pneumonia cases ...   \n",
       "4  cruise ships carry a large number of people in...   \n",
       "\n",
       "                         doi  \\\n",
       "0         10.3390/jcm9020538   \n",
       "1         10.3390/jcm9020575   \n",
       "2  10.1016/j.idm.2020.02.001   \n",
       "3  10.1016/j.idm.2020.02.002   \n",
       "4        10.1093/jtm/taaa030   \n",
       "\n",
       "                                  processed_abstract  \\\n",
       "0  geographic spread 2019 novel coronavirus covid...   \n",
       "1  december 2019 cases unidentified pneumonia his...   \n",
       "2  basic reproduction number infectious agent ave...   \n",
       "3  initial cluster severe pneumonia cases trigger...   \n",
       "4  cruise ships carry large number people confine...   \n",
       "\n",
       "                                            centroid  \n",
       "0  [0.0, 0.0, 0.0, 0.0, 0.0, 0.0, 0.0, 0.0, 0.0, ...  \n",
       "1  [0.0, 0.0, 0.0, 0.0, 0.0, 0.0, 0.0, 0.0, 0.0, ...  \n",
       "2  [0.0, 0.0, 0.0, 0.0, 0.0, 0.0, 0.0, 0.0, 0.0, ...  \n",
       "3  [0.0, 0.0, 0.0, 0.0, 0.0, 0.0, 0.0, 0.0, 0.0, ...  \n",
       "4  [0.0, 0.0, 0.0, 0.0, 0.0, 0.0, 0.0, 0.0, 0.0, ...  "
      ]
     },
     "execution_count": 44,
     "metadata": {},
     "output_type": "execute_result"
    }
   ],
   "source": [
    "#calculate the centroid for each abstract\n",
    "\n",
    "a = [0.0]*50\n",
    "df_covid[\"centroid\"] = [a]*df_covid.shape[0]\n",
    "\n",
    "for index, row in df_covid.iterrows():\n",
    "    abstract = row['processed_abstract']\n",
    "    total_sim = 0\n",
    "    words = abstract.split(\" \")\n",
    "    centroid = np.array([0.0]*50)\n",
    "    for word in words:\n",
    "        try:\n",
    "            b = model[word]\n",
    "        except:\n",
    "            continue\n",
    "        centroid = np.add(centroid, b)\n",
    "\n",
    "    df_covid.at[index,'centroid'] = centroid.tolist()\n",
    "\n",
    "df_covid.head()"
   ]
  },
  {
   "cell_type": "markdown",
   "id": "47386466",
   "metadata": {
    "papermill": {
     "duration": 0.087105,
     "end_time": "2023-01-04T16:22:06.589770",
     "exception": false,
     "start_time": "2023-01-04T16:22:06.502665",
     "status": "completed"
    },
    "tags": []
   },
   "source": [
    "# Ranking documents\n",
    "Now we will create a function that given a query, would rank the documents from most similar to least similar."
   ]
  },
  {
   "cell_type": "code",
   "execution_count": 45,
   "id": "458d16d0",
   "metadata": {
    "execution": {
     "iopub.execute_input": "2023-01-04T16:22:06.779022Z",
     "iopub.status.busy": "2023-01-04T16:22:06.778455Z",
     "iopub.status.idle": "2023-01-04T16:22:06.789370Z",
     "shell.execute_reply": "2023-01-04T16:22:06.788452Z"
    },
    "papermill": {
     "duration": 0.084926,
     "end_time": "2023-01-04T16:22:06.795028",
     "exception": false,
     "start_time": "2023-01-04T16:22:06.710102",
     "status": "completed"
    },
    "tags": []
   },
   "outputs": [],
   "source": [
    "def rank_docs(model, query, df_covid, num) :\n",
    "    #[(paper_id, processed_abstract, url, cosine_sim)]\n",
    "    cosine_list = []\n",
    "    \n",
    "    a = []\n",
    "    query = query.split(\" \")\n",
    "    for q in query:\n",
    "        try:\n",
    "            a.append(model[q])\n",
    "        except:\n",
    "            continue\n",
    "    \n",
    "    for index, row in df_covid.iterrows():\n",
    "        centroid = row['centroid']\n",
    "        total_sim = 0\n",
    "        for a_i in a:\n",
    "            cos_sim = np.dot(a_i, centroid)/(np.linalg.norm(a_i)*np.linalg.norm(centroid))\n",
    "            total_sim += cos_sim\n",
    "        cosine_list.append((row['title'], row['doi'], total_sim)) \n",
    "    \n",
    "    \n",
    "    cosine_list.sort(key=lambda x:x[2], reverse=True) ## in Descedning order \n",
    "    \n",
    "    papers_list = []\n",
    "    for item in cosine_list[:num]:\n",
    "        papers_list.append((item[0], item[1], item[2]))\n",
    "    return papers_list"
   ]
  },
  {
   "cell_type": "markdown",
   "id": "aa5537db",
   "metadata": {
    "papermill": {
     "duration": 0.068964,
     "end_time": "2023-01-04T16:22:06.931266",
     "exception": false,
     "start_time": "2023-01-04T16:22:06.862302",
     "status": "completed"
    },
    "tags": []
   },
   "source": [
    "# Saving the model and the dataframe"
   ]
  },
  {
   "cell_type": "code",
   "execution_count": 46,
   "id": "85fd10c0",
   "metadata": {
    "execution": {
     "iopub.execute_input": "2023-01-04T16:22:07.067304Z",
     "iopub.status.busy": "2023-01-04T16:22:07.066853Z",
     "iopub.status.idle": "2023-01-04T16:22:07.086205Z",
     "shell.execute_reply": "2023-01-04T16:22:07.085317Z"
    },
    "papermill": {
     "duration": 0.091359,
     "end_time": "2023-01-04T16:22:07.088829",
     "exception": false,
     "start_time": "2023-01-04T16:22:06.997470",
     "status": "completed"
    },
    "tags": []
   },
   "outputs": [],
   "source": [
    "model.save(\"./model.model\")\n",
    "df_covid.to_pickle(\"./df_covid.pkl\")"
   ]
  },
  {
   "cell_type": "markdown",
   "id": "ebd30558",
   "metadata": {
    "papermill": {
     "duration": 0.069579,
     "end_time": "2023-01-04T16:22:07.234183",
     "exception": false,
     "start_time": "2023-01-04T16:22:07.164604",
     "status": "completed"
    },
    "tags": []
   },
   "source": [
    "**Loading the model and the data**\n",
    "\n",
    "The save/load steps are done in order to avoid re-training the model each time."
   ]
  },
  {
   "cell_type": "code",
   "execution_count": 47,
   "id": "ce481d6f",
   "metadata": {
    "execution": {
     "iopub.execute_input": "2023-01-04T16:22:07.375749Z",
     "iopub.status.busy": "2023-01-04T16:22:07.375288Z",
     "iopub.status.idle": "2023-01-04T16:22:07.459934Z",
     "shell.execute_reply": "2023-01-04T16:22:07.459101Z"
    },
    "papermill": {
     "duration": 0.158673,
     "end_time": "2023-01-04T16:22:07.462652",
     "exception": false,
     "start_time": "2023-01-04T16:22:07.303979",
     "status": "completed"
    },
    "tags": []
   },
   "outputs": [],
   "source": [
    "saved_model = Word2Vec.load(\"./model.model\")\n",
    "saved_df_covid = pd.read_pickle(\"./df_covid.pkl\")"
   ]
  },
  {
   "cell_type": "markdown",
   "id": "df640745",
   "metadata": {
    "papermill": {
     "duration": 0.072706,
     "end_time": "2023-01-04T16:22:07.612068",
     "exception": false,
     "start_time": "2023-01-04T16:22:07.539362",
     "status": "completed"
    },
    "tags": []
   },
   "source": [
    "# Results\n",
    "Now let's see some results using our model. query() function takes the query string as an input, together with a number representing the top matches you want, and print the titles of the top matches most relevant articles retrieved for each query, clicking the title a new tab will open with the paper."
   ]
  },
  {
   "cell_type": "code",
   "execution_count": 48,
   "id": "56a00904",
   "metadata": {
    "execution": {
     "iopub.execute_input": "2023-01-04T16:22:07.754898Z",
     "iopub.status.busy": "2023-01-04T16:22:07.754505Z",
     "iopub.status.idle": "2023-01-04T16:22:07.763638Z",
     "shell.execute_reply": "2023-01-04T16:22:07.762825Z"
    },
    "papermill": {
     "duration": 0.082528,
     "end_time": "2023-01-04T16:22:07.766322",
     "exception": false,
     "start_time": "2023-01-04T16:22:07.683794",
     "status": "completed"
    },
    "tags": []
   },
   "outputs": [],
   "source": [
    "def query(the_query, top_matches=10):\n",
    "    q = spacy_tokenizer(the_query)\n",
    "    try:\n",
    "        model_to_use = model\n",
    "    except:\n",
    "        model_to_use = saved_model\n",
    "    try:\n",
    "        df_covid_to_use = df_covid\n",
    "    except:\n",
    "        df_covid_to_use = saved_df_covid\n",
    "    results = rank_docs(model_to_use, q, df_covid_to_use, top_matches)\n",
    "    \n",
    "    for i in range(len(results)):\n",
    "        paper_name = results[i][0]\n",
    "        paper_doi = results[i][1]\n",
    "        paper_link = \"https://doi.org/\" + str(paper_doi)\n",
    "    display(paper_name)\n",
    "    display(paper_link)"
   ]
  },
  {
   "cell_type": "markdown",
   "id": "3608475b",
   "metadata": {
    "papermill": {
     "duration": 0.071022,
     "end_time": "2023-01-04T16:22:07.908351",
     "exception": false,
     "start_time": "2023-01-04T16:22:07.837329",
     "status": "completed"
    },
    "tags": []
   },
   "source": [
    "# **What do we know about virus origin, genetics and evolution?**"
   ]
  },
  {
   "cell_type": "code",
   "execution_count": 49,
   "id": "03243576",
   "metadata": {
    "execution": {
     "iopub.execute_input": "2023-01-04T16:22:08.012743Z",
     "iopub.status.busy": "2023-01-04T16:22:08.012427Z",
     "iopub.status.idle": "2023-01-04T16:22:08.063883Z",
     "shell.execute_reply": "2023-01-04T16:22:08.062841Z"
    },
    "papermill": {
     "duration": 0.101068,
     "end_time": "2023-01-04T16:22:08.066668",
     "exception": false,
     "start_time": "2023-01-04T16:22:07.965600",
     "status": "completed"
    },
    "tags": []
   },
   "outputs": [
    {
     "data": {
      "text/plain": [
       "'Case of the Index Patient Who Caused Tertiary Transmission of Coronavirus Disease 2019 in Korea: the Application of Lopinavir/Ritonavir for the Treatment of COVID-19 Pneumonia Monitored by Quantitative RT-PCR'"
      ]
     },
     "metadata": {},
     "output_type": "display_data"
    },
    {
     "data": {
      "text/plain": [
       "'https://doi.org/10.3346/jkms.2020.35.e79'"
      ]
     },
     "metadata": {},
     "output_type": "display_data"
    }
   ],
   "source": [
    "query('origin of coronavirus')"
   ]
  },
  {
   "cell_type": "code",
   "execution_count": 50,
   "id": "01c110ac",
   "metadata": {
    "execution": {
     "iopub.execute_input": "2023-01-04T16:22:08.160058Z",
     "iopub.status.busy": "2023-01-04T16:22:08.159266Z",
     "iopub.status.idle": "2023-01-04T16:22:08.208737Z",
     "shell.execute_reply": "2023-01-04T16:22:08.207740Z"
    },
    "papermill": {
     "duration": 0.099012,
     "end_time": "2023-01-04T16:22:08.211212",
     "exception": false,
     "start_time": "2023-01-04T16:22:08.112200",
     "status": "completed"
    },
    "tags": []
   },
   "outputs": [
    {
     "data": {
      "text/plain": [
       "'Genome Detective Coronavirus Typing Tool for rapid identification and characterization of novel coronavirus genomes'"
      ]
     },
     "metadata": {},
     "output_type": "display_data"
    },
    {
     "data": {
      "text/plain": [
       "'https://doi.org/10.1093/bioinformatics/btaa145'"
      ]
     },
     "metadata": {},
     "output_type": "display_data"
    }
   ],
   "source": [
    "query('covid19 genetics', top_matches =9)"
   ]
  },
  {
   "cell_type": "markdown",
   "id": "e07690b8",
   "metadata": {
    "papermill": {
     "duration": 0.045416,
     "end_time": "2023-01-04T16:22:08.302408",
     "exception": false,
     "start_time": "2023-01-04T16:22:08.256992",
     "status": "completed"
    },
    "tags": []
   },
   "source": [
    "**Many links are same in different queries.**\n",
    "**As I have some error in calculating my centroid**"
   ]
  }
 ],
 "metadata": {
  "kernelspec": {
   "display_name": "Python 3",
   "language": "python",
   "name": "python3"
  },
  "language_info": {
   "codemirror_mode": {
    "name": "ipython",
    "version": 3
   },
   "file_extension": ".py",
   "mimetype": "text/x-python",
   "name": "python",
   "nbconvert_exporter": "python",
   "pygments_lexer": "ipython3",
   "version": "3.7.12"
  },
  "papermill": {
   "default_parameters": {},
   "duration": 214.021574,
   "end_time": "2023-01-04T16:22:11.269085",
   "environment_variables": {},
   "exception": null,
   "input_path": "__notebook__.ipynb",
   "output_path": "__notebook__.ipynb",
   "parameters": {},
   "start_time": "2023-01-04T16:18:37.247511",
   "version": "2.3.4"
  }
 },
 "nbformat": 4,
 "nbformat_minor": 5
}
